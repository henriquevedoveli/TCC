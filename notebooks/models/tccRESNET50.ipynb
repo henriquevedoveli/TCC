{
  "nbformat": 4,
  "nbformat_minor": 0,
  "metadata": {
    "colab": {
      "name": "tccRESNET50",
      "provenance": [],
      "mount_file_id": "1kq90bMmP6kWgjN2r8x3XY5yvLmSgDSB1",
      "authorship_tag": "ABX9TyM+Uz+R2GYUkrWB+n4YH6BH",
      "include_colab_link": true
    },
    "kernelspec": {
      "name": "python3",
      "display_name": "Python 3"
    },
    "language_info": {
      "name": "python"
    }
  },
  "cells": [
    {
      "cell_type": "markdown",
      "metadata": {
        "id": "view-in-github",
        "colab_type": "text"
      },
      "source": [
        "<a href=\"https://colab.research.google.com/github/henriquevedoveli/TCC/blob/main/notebooks/models/tccRESNET50.ipynb\" target=\"_parent\"><img src=\"https://colab.research.google.com/assets/colab-badge.svg\" alt=\"Open In Colab\"/></a>"
      ]
    },
    {
      "cell_type": "markdown",
      "source": [
        "# **Treinameto e Avaliação do Modelo _ResNet-50_**\n",
        "\n",
        "---\n",
        "\n",
        "## **Classificação de Pneumonia em Radiografia do Tórax Utilizando Redes Neurais Convolucionais**\n",
        "\n",
        "---\n",
        "\n",
        "#### Autor: Henrique Hundsdorfer Vedoveli\n",
        "\n",
        "#### Orientador: Prof. Dr. Anuar José Mincache\n",
        "\n",
        "#### Coorientador: Prof. Dr. Breno Ferraz de Oliveira"
      ],
      "metadata": {
        "id": "JTBjrC2v8qXX"
      }
    },
    {
      "cell_type": "markdown",
      "source": [
        "---\n",
        "# Bibliotecas Necessárias\n",
        "---"
      ],
      "metadata": {
        "id": "TQUZByDd8tem"
      }
    },
    {
      "cell_type": "code",
      "metadata": {
        "colab": {
          "base_uri": "https://localhost:8080/"
        },
        "id": "4zaxv4hzX6xP",
        "outputId": "45e569f5-6699-4c87-d44b-8f7f539af3b9"
      },
      "source": [
        "from google.colab import drive\n",
        "drive.mount('/content/drive')\n",
        " \n",
        "import numpy as np\n",
        "import pandas as pd\n",
        "import seaborn as sns\n",
        "import matplotlib.pyplot as plt\n",
        "from sklearn import model_selection, metrics\n",
        "from sklearn.metrics import *\n",
        " \n",
        "import tensorflow as tf\n",
        "from tensorflow import keras\n",
        "from keras.layers import Convolution2D, MaxPooling2D, Flatten, Dense, BatchNormalization, Dropout, Input\n",
        " \n",
        "# keras models\n",
        "from keras.models import Sequential, Model, load_model\n",
        "from tensorflow.keras.optimizers import Adam\n",
        "from keras.callbacks import ModelCheckpoint, EarlyStopping#\n",
        "\n",
        "from keras.preprocessing.image import ImageDataGenerator\n",
        "from keras.preprocessing import image  \n",
        " \n",
        "########################################################################################\n",
        "import warnings\n",
        "warnings.filterwarnings(\"ignore\")\n",
        "\n",
        "pd.set_option('display.float_format', lambda x: '%.3f' % x)\n",
        "\n",
        "np.random.seed(7)\n",
        " \n",
        "import os\n",
        " \n",
        "%matplotlib inline"
      ],
      "execution_count": null,
      "outputs": [
        {
          "output_type": "stream",
          "name": "stdout",
          "text": [
            "Drive already mounted at /content/drive; to attempt to forcibly remount, call drive.mount(\"/content/drive\", force_remount=True).\n"
          ]
        }
      ]
    },
    {
      "cell_type": "markdown",
      "source": [
        "---\n",
        "## Local onde as imagens estão armazenadas\n",
        "---"
      ],
      "metadata": {
        "id": "HBGoQHSf9ucu"
      }
    },
    {
      "cell_type": "code",
      "metadata": {
        "id": "eFBw5tHOYCfH"
      },
      "source": [
        "TRAIN = '/content/drive/MyDrive/TCC/data/chest_xray/train'\n",
        "TEST = '/content/drive/MyDrive/TCC/data/chest_xray/test'\n",
        "VAL = '/content/drive/MyDrive/TCC/data/chest_xray/val'\n",
        "\n",
        "MODELS = '/content/drive/MyDrive/TCC/MODELS'"
      ],
      "execution_count": null,
      "outputs": []
    },
    {
      "cell_type": "markdown",
      "source": [
        "---\n",
        "\n",
        "# Carregando as imagens e aplicando o _data augmentation_\n",
        "\n",
        "----\n",
        "\n",
        "## Parâmetros utilizados para o _data augmentation_\n",
        "\n",
        "|                        Distorção                       |  Parâmetro |\n",
        "|:------------------------------------------------------:|:----------:|\n",
        "|           Alteração na Escala _(Zoom Range)_           | 0.9 a 1,25 |\n",
        "|           Faixa de Rotação _(Rotation Range)_          |     10°    |\n",
        "| Faixa de Deslocamento Horizontal _(Width Shift Range)_ |     0.1    |\n",
        "|  Faixa de Deslocamento Vertical _(Height Shift Range)_ |     0.1    |\n",
        "|           Modo de Preenchimento _(Fill Mode)_          |  Constante |\n",
        "|                          Cval                          |      0     |"
      ],
      "metadata": {
        "id": "EWGbwj1x9wUu"
      }
    },
    {
      "cell_type": "code",
      "metadata": {
        "id": "xPqq1Go-YEiv",
        "colab": {
          "base_uri": "https://localhost:8080/"
        },
        "outputId": "1c5ef4ce-18e6-472d-9a3e-bb1dd30af83b"
      },
      "source": [
        "trainData = ImageDataGenerator(zoom_range = [0.9, 1.25], \n",
        "                                        rotation_range = 10,\n",
        "                                        vertical_flip = True,\n",
        "                                        horizontal_flip = False, \n",
        "                                        width_shift_range = 0.1, \n",
        "                                        height_shift_range = 0.1,\n",
        "                                        fill_mode='constant', \n",
        "                                        cval=0)\n",
        "\n",
        "trainData = trainData.flow_from_directory(directory=TRAIN,\n",
        "                                       batch_size = 32,\n",
        "                                       target_size=(224,224),\n",
        "                                       color_mode = 'grayscale',\n",
        "                                      )\n",
        "\n",
        "\n",
        "valData = ImageDataGenerator()\n",
        "valData = valData.flow_from_directory(\n",
        "        VAL,\n",
        "        target_size = (224,224),\n",
        "        batch_size = 32,\n",
        "        color_mode = 'grayscale'\n",
        "        )\n",
        "\n",
        "\n",
        "testData = ImageDataGenerator()\n",
        "testData = testData.flow_from_directory(directory=TEST,\n",
        "                                      batch_size = 32,\n",
        "                                      target_size=(224,224),\n",
        "                                      color_mode = 'grayscale')"
      ],
      "execution_count": null,
      "outputs": [
        {
          "output_type": "stream",
          "name": "stdout",
          "text": [
            "Found 5082 images belonging to 3 classes.\n",
            "Found 150 images belonging to 3 classes.\n",
            "Found 624 images belonging to 3 classes.\n"
          ]
        }
      ]
    },
    {
      "cell_type": "markdown",
      "source": [
        "---\n",
        "# Encontrando os pesos de cada classe.\n",
        "---"
      ],
      "metadata": {
        "id": "9zn6qHfP9yx2"
      }
    },
    {
      "cell_type": "code",
      "metadata": {
        "id": "jSeJI-aMYGYQ",
        "colab": {
          "base_uri": "https://localhost:8080/"
        },
        "outputId": "3a89a27f-fe50-4033-b214-eb7a07707d3b"
      },
      "source": [
        "normalLength = len(os.listdir(TRAIN + '/' + 'NORMAL'))\n",
        "bacterialLength = len(os.listdir(TRAIN + '/' + 'BACTERIAL'))\n",
        "viralLength = len(os.listdir(TRAIN + '/' + 'VIRAL'))\n",
        "dataLength = normalLength + bacterialLength +  viralLength\n",
        "\n",
        "print('Qtd dados de treino: ', dataLength)\n",
        "print('Qtd dados de pulmão saudavel para treino: ', normalLength)\n",
        "print('Qtd dados Bacterial', bacterialLength)\n",
        "print('Qtd dados Viral', viralLength)\n",
        "\n",
        "class_weight = {0: 1., # bacterial\n",
        "                1: bacterialLength / normalLength, #normal \n",
        "                2: bacterialLength / viralLength} # viral "
      ],
      "execution_count": null,
      "outputs": [
        {
          "output_type": "stream",
          "name": "stdout",
          "text": [
            "Qtd dados de treino:  5082\n",
            "Qtd dados de pulmão saudavel para treino:  1299\n",
            "Qtd dados Bacterial 2488\n",
            "Qtd dados Viral 1295\n"
          ]
        }
      ]
    },
    {
      "cell_type": "markdown",
      "source": [
        "---\n",
        "# Funções para avaliação do Modelo\n",
        "---"
      ],
      "metadata": {
        "id": "3OkWI-IN90aO"
      }
    },
    {
      "cell_type": "code",
      "metadata": {
        "id": "b_fITQmVYLCX"
      },
      "source": [
        "def generateImages(paths):\n",
        "    '''\n",
        "    params: paths ->\n",
        "    '''\n",
        "    test_images=[]\n",
        "    interpret= trainData.class_indices\n",
        "    test_y=[]\n",
        "    \n",
        "    for path in paths:\n",
        "        y=''\n",
        "        if 'NORMAL' in path:\n",
        "            y='NORMAL'\n",
        "        elif 'VIRAL' in path:   \n",
        "            y='VIRAL'\n",
        "        elif 'BACTERIAL' in path:   \n",
        "            y='BACTERIAL'   \n",
        "        \n",
        "        for image_path in os.listdir(path):\n",
        "            new_path=os.path.join(TEST, y)\n",
        "            new_path=os.path.join(new_path,image_path)\n",
        "\n",
        "            temp_images=image.load_img(new_path,\n",
        "                                       color_mode = 'grayscale',\n",
        "                                       target_size=(224,224)) \n",
        "            temp_images=image.img_to_array(temp_images)\n",
        "            test_images.append(temp_images)\n",
        "            test_y.append(interpret[y])\n",
        "\n",
        "    return test_images,test_y"
      ],
      "execution_count": null,
      "outputs": []
    },
    {
      "cell_type": "code",
      "metadata": {
        "id": "lJBJeQU6YMvn"
      },
      "source": [
        "def convertData(model, path, prob = 0):\n",
        "    '''\n",
        "    params: model ->\n",
        "            path ->\n",
        "            prob ->\n",
        "    '''\n",
        "    all_paths=[]\n",
        "    print(\"• GERANDO PATHS\")\n",
        "\n",
        "    for directory in os.listdir(path):\n",
        "        all_paths.append(os.path.join(path,directory))\n",
        "    \n",
        "    test_images, test_y= generateImages(all_paths)\n",
        "\n",
        "    test_images=np.array(test_images)\n",
        "\n",
        "    print(\"• GERANDO PREVISÕES\")\n",
        "    if prob == 0:\n",
        "        predictions = np.argmax(model.predict(test_images), axis=1)\n",
        "    else:\n",
        "        predictions = model.predict_on_batch(test_images)\n",
        "\n",
        "    print(\"ACURACIA DO MODELO PARA OS DADOS DE TESTE: {}\".format( metrics.accuracy_score(test_y, predictions)))\n",
        "\n",
        "    return test_y, predictions, test_images"
      ],
      "execution_count": null,
      "outputs": []
    },
    {
      "cell_type": "markdown",
      "metadata": {
        "id": "qzdnqPssYPJW"
      },
      "source": [
        "---\n",
        "# Definindo o Modelo\n",
        "---"
      ]
    },
    {
      "cell_type": "code",
      "metadata": {
        "id": "ou7iauPmYTn6"
      },
      "source": [
        "modelRESNET = tf.keras.applications.ResNet50(input_shape=(224, 224, 1),include_top=False, weights=None)\n",
        "\n",
        "## Valores encontrados com hypertuning\n",
        "units = 990\n",
        "lr = 1e-05\n",
        "######################################\n",
        "\n",
        "modelRESNET = tf.keras.Sequential([\n",
        "        modelRESNET,\n",
        "        tf.keras.layers.Flatten(),\n",
        "        tf.keras.layers.Dense(3,activation=tf.nn.softmax)\n",
        "        ])\n",
        "\n",
        "modelRESNET.compile(loss='categorical_crossentropy', \n",
        "                     optimizer=keras.optimizers.Adam(learning_rate=lr),\n",
        "                     metrics = ['accuracy'])"
      ],
      "execution_count": null,
      "outputs": []
    },
    {
      "cell_type": "code",
      "source": [
        "modelRESNET.summary()"
      ],
      "metadata": {
        "colab": {
          "base_uri": "https://localhost:8080/"
        },
        "id": "MYeWidD1_3sn",
        "outputId": "6b502030-2d96-4e2a-be00-4f03315f9ed8"
      },
      "execution_count": null,
      "outputs": [
        {
          "output_type": "stream",
          "name": "stdout",
          "text": [
            "Model: \"sequential\"\n",
            "_________________________________________________________________\n",
            " Layer (type)                Output Shape              Param #   \n",
            "=================================================================\n",
            " resnet50 (Functional)       (None, 7, 7, 2048)        23581440  \n",
            "                                                                 \n",
            " flatten (Flatten)           (None, 100352)            0         \n",
            "                                                                 \n",
            " dense (Dense)               (None, 3)                 301059    \n",
            "                                                                 \n",
            "=================================================================\n",
            "Total params: 23,882,499\n",
            "Trainable params: 23,829,379\n",
            "Non-trainable params: 53,120\n",
            "_________________________________________________________________\n"
          ]
        }
      ]
    },
    {
      "cell_type": "markdown",
      "source": [
        "---\n",
        "# Otimização do Modelo\n",
        "---\n"
      ],
      "metadata": {
        "id": "IyoE1kjr-AZ-"
      }
    },
    {
      "cell_type": "code",
      "metadata": {
        "id": "1WGX8fP2Y0B3",
        "colab": {
          "base_uri": "https://localhost:8080/"
        },
        "outputId": "7786b851-9b4e-4e69-b205-65013c3e94b9"
      },
      "source": [
        "hist = modelRESNET.fit_generator(steps_per_epoch= trainData.n//32,\n",
        "                           generator=trainData, \n",
        "                           validation_data= valData,\n",
        "                           validation_steps=valData.n//32,\n",
        "                           epochs=25,\n",
        "                           class_weight = class_weight)"
      ],
      "execution_count": null,
      "outputs": [
        {
          "output_type": "stream",
          "name": "stdout",
          "text": [
            "Epoch 1/25\n",
            "158/158 [==============================] - 113s 714ms/step - loss: 0.8731 - accuracy: 0.7188 - val_loss: 0.6258 - val_accuracy: 0.7500\n",
            "Epoch 2/25\n",
            "158/158 [==============================] - 115s 722ms/step - loss: 0.8982 - accuracy: 0.7212 - val_loss: 0.6408 - val_accuracy: 0.7109\n",
            "Epoch 3/25\n",
            "158/158 [==============================] - 113s 713ms/step - loss: 0.8904 - accuracy: 0.7178 - val_loss: 0.7026 - val_accuracy: 0.7031\n",
            "Epoch 4/25\n",
            "158/158 [==============================] - 113s 714ms/step - loss: 0.8537 - accuracy: 0.7303 - val_loss: 0.4859 - val_accuracy: 0.7969\n",
            "Epoch 5/25\n",
            "158/158 [==============================] - 114s 716ms/step - loss: 0.8820 - accuracy: 0.7283 - val_loss: 1.0705 - val_accuracy: 0.6328\n",
            "Epoch 6/25\n",
            "158/158 [==============================] - 113s 713ms/step - loss: 0.8887 - accuracy: 0.7257 - val_loss: 0.7215 - val_accuracy: 0.7500\n",
            "Epoch 7/25\n",
            "158/158 [==============================] - 115s 722ms/step - loss: 0.8687 - accuracy: 0.7283 - val_loss: 0.8851 - val_accuracy: 0.6953\n",
            "Epoch 8/25\n",
            "158/158 [==============================] - 114s 719ms/step - loss: 0.8668 - accuracy: 0.7226 - val_loss: 0.8482 - val_accuracy: 0.6797\n",
            "Epoch 9/25\n",
            "158/158 [==============================] - 113s 713ms/step - loss: 0.8929 - accuracy: 0.7246 - val_loss: 0.5549 - val_accuracy: 0.7656\n",
            "Epoch 10/25\n",
            "158/158 [==============================] - 113s 714ms/step - loss: 0.8638 - accuracy: 0.7253 - val_loss: 0.7109 - val_accuracy: 0.7344\n",
            "Epoch 11/25\n",
            "158/158 [==============================] - 114s 720ms/step - loss: 0.8669 - accuracy: 0.7293 - val_loss: 0.7027 - val_accuracy: 0.7422\n",
            "Epoch 12/25\n",
            "158/158 [==============================] - 113s 712ms/step - loss: 0.8364 - accuracy: 0.7261 - val_loss: 1.7158 - val_accuracy: 0.5234\n",
            "Epoch 13/25\n",
            "158/158 [==============================] - 113s 712ms/step - loss: 0.8475 - accuracy: 0.7335 - val_loss: 0.7415 - val_accuracy: 0.6797\n",
            "Epoch 14/25\n",
            "158/158 [==============================] - 114s 717ms/step - loss: 0.8484 - accuracy: 0.7299 - val_loss: 2.5324 - val_accuracy: 0.4219\n",
            "Epoch 15/25\n",
            "158/158 [==============================] - 114s 718ms/step - loss: 0.8593 - accuracy: 0.7170 - val_loss: 0.8372 - val_accuracy: 0.6797\n",
            "Epoch 16/25\n",
            "158/158 [==============================] - 114s 718ms/step - loss: 0.8393 - accuracy: 0.7313 - val_loss: 1.4557 - val_accuracy: 0.5469\n",
            "Epoch 17/25\n",
            "158/158 [==============================] - 114s 721ms/step - loss: 0.8275 - accuracy: 0.7428 - val_loss: 0.4663 - val_accuracy: 0.7969\n",
            "Epoch 18/25\n",
            "158/158 [==============================] - 115s 724ms/step - loss: 0.8218 - accuracy: 0.7305 - val_loss: 0.4118 - val_accuracy: 0.8125\n",
            "Epoch 19/25\n",
            "158/158 [==============================] - 115s 724ms/step - loss: 0.8186 - accuracy: 0.7358 - val_loss: 0.4204 - val_accuracy: 0.7734\n",
            "Epoch 20/25\n",
            "158/158 [==============================] - 114s 721ms/step - loss: 0.8233 - accuracy: 0.7408 - val_loss: 0.9369 - val_accuracy: 0.7031\n",
            "Epoch 21/25\n",
            "158/158 [==============================] - 112s 708ms/step - loss: 0.8143 - accuracy: 0.7430 - val_loss: 1.1609 - val_accuracy: 0.6016\n",
            "Epoch 22/25\n",
            "158/158 [==============================] - 112s 705ms/step - loss: 0.8591 - accuracy: 0.7285 - val_loss: 0.8053 - val_accuracy: 0.7109\n",
            "Epoch 23/25\n",
            "158/158 [==============================] - 113s 712ms/step - loss: 0.8417 - accuracy: 0.7372 - val_loss: 1.2672 - val_accuracy: 0.6094\n",
            "Epoch 24/25\n",
            "158/158 [==============================] - 113s 711ms/step - loss: 0.8114 - accuracy: 0.7446 - val_loss: 0.9031 - val_accuracy: 0.6875\n",
            "Epoch 25/25\n",
            "158/158 [==============================] - 113s 710ms/step - loss: 0.7992 - accuracy: 0.7499 - val_loss: 0.8846 - val_accuracy: 0.6797\n"
          ]
        }
      ]
    },
    {
      "cell_type": "code",
      "metadata": {
        "id": "HMlXkmmGZNIH",
        "colab": {
          "base_uri": "https://localhost:8080/",
          "height": 17
        },
        "outputId": "d2174852-0eea-4428-d20e-283e9d885292"
      },
      "source": [
        "temp = pd.DataFrame([hist.history['accuracy'], hist.history['val_accuracy'], hist.history['loss'], hist.history['val_loss']])\n",
        "\n",
        "histT = temp.T\n",
        "histT.columns = ['acc', 'val_acc', 'loss', 'val_loss']\n",
        "\n",
        "from google.colab import files\n",
        "numEpoch = 25\n",
        "histT.to_csv(f'histTreinoRESNET{numEpoch}.csv')\n",
        "files.download(f'histTreinoRESNET{numEpoch}.csv')\n"
      ],
      "execution_count": null,
      "outputs": [
        {
          "output_type": "display_data",
          "data": {
            "application/javascript": [
              "\n",
              "    async function download(id, filename, size) {\n",
              "      if (!google.colab.kernel.accessAllowed) {\n",
              "        return;\n",
              "      }\n",
              "      const div = document.createElement('div');\n",
              "      const label = document.createElement('label');\n",
              "      label.textContent = `Downloading \"${filename}\": `;\n",
              "      div.appendChild(label);\n",
              "      const progress = document.createElement('progress');\n",
              "      progress.max = size;\n",
              "      div.appendChild(progress);\n",
              "      document.body.appendChild(div);\n",
              "\n",
              "      const buffers = [];\n",
              "      let downloaded = 0;\n",
              "\n",
              "      const channel = await google.colab.kernel.comms.open(id);\n",
              "      // Send a message to notify the kernel that we're ready.\n",
              "      channel.send({})\n",
              "\n",
              "      for await (const message of channel.messages) {\n",
              "        // Send a message to notify the kernel that we're ready.\n",
              "        channel.send({})\n",
              "        if (message.buffers) {\n",
              "          for (const buffer of message.buffers) {\n",
              "            buffers.push(buffer);\n",
              "            downloaded += buffer.byteLength;\n",
              "            progress.value = downloaded;\n",
              "          }\n",
              "        }\n",
              "      }\n",
              "      const blob = new Blob(buffers, {type: 'application/binary'});\n",
              "      const a = document.createElement('a');\n",
              "      a.href = window.URL.createObjectURL(blob);\n",
              "      a.download = filename;\n",
              "      div.appendChild(a);\n",
              "      a.click();\n",
              "      div.remove();\n",
              "    }\n",
              "  "
            ],
            "text/plain": [
              "<IPython.core.display.Javascript object>"
            ]
          },
          "metadata": {}
        },
        {
          "output_type": "display_data",
          "data": {
            "application/javascript": [
              "download(\"download_04925d74-4046-407e-a4bc-c6e93b20e99b\", \"histTreinoRESNET25.csv\", 1716)"
            ],
            "text/plain": [
              "<IPython.core.display.Javascript object>"
            ]
          },
          "metadata": {}
        }
      ]
    },
    {
      "cell_type": "code",
      "metadata": {
        "id": "OgKlqKe4ZNzO",
        "colab": {
          "base_uri": "https://localhost:8080/",
          "height": 17
        },
        "outputId": "07253f7c-5f6c-469d-84ed-ecd989aec32f"
      },
      "source": [
        "temp = pd.DataFrame([hist.history['accuracy'], hist.history['val_accuracy'], hist.history['loss'], hist.history['val_loss']])\n",
        "\n",
        "tempT = temp.T\n",
        "tempT.columns = ['acc', 'val_acc', 'loss', 'val_loss']\n",
        "\n",
        "histTreinoatg = pd.read_csv('histTreinoRESNET75.csv')\n",
        "histTreinoatg = histTreinoatg[['acc', 'val_acc', 'loss', 'val_loss']]\n",
        "histT = histTreinoatg.append(tempT)\n",
        "histT = histT.reset_index(drop=True)\n",
        "\n",
        "from google.colab import files\n",
        "numEpoch = 100\n",
        "histT.to_csv(f'histTreinoRESNET{numEpoch}.csv')\n",
        "files.download(f'histTreinoRESNET{numEpoch}.csv')\n"
      ],
      "execution_count": null,
      "outputs": [
        {
          "output_type": "display_data",
          "data": {
            "application/javascript": [
              "\n",
              "    async function download(id, filename, size) {\n",
              "      if (!google.colab.kernel.accessAllowed) {\n",
              "        return;\n",
              "      }\n",
              "      const div = document.createElement('div');\n",
              "      const label = document.createElement('label');\n",
              "      label.textContent = `Downloading \"${filename}\": `;\n",
              "      div.appendChild(label);\n",
              "      const progress = document.createElement('progress');\n",
              "      progress.max = size;\n",
              "      div.appendChild(progress);\n",
              "      document.body.appendChild(div);\n",
              "\n",
              "      const buffers = [];\n",
              "      let downloaded = 0;\n",
              "\n",
              "      const channel = await google.colab.kernel.comms.open(id);\n",
              "      // Send a message to notify the kernel that we're ready.\n",
              "      channel.send({})\n",
              "\n",
              "      for await (const message of channel.messages) {\n",
              "        // Send a message to notify the kernel that we're ready.\n",
              "        channel.send({})\n",
              "        if (message.buffers) {\n",
              "          for (const buffer of message.buffers) {\n",
              "            buffers.push(buffer);\n",
              "            downloaded += buffer.byteLength;\n",
              "            progress.value = downloaded;\n",
              "          }\n",
              "        }\n",
              "      }\n",
              "      const blob = new Blob(buffers, {type: 'application/binary'});\n",
              "      const a = document.createElement('a');\n",
              "      a.href = window.URL.createObjectURL(blob);\n",
              "      a.download = filename;\n",
              "      div.appendChild(a);\n",
              "      a.click();\n",
              "      div.remove();\n",
              "    }\n",
              "  "
            ],
            "text/plain": [
              "<IPython.core.display.Javascript object>"
            ]
          },
          "metadata": {}
        },
        {
          "output_type": "display_data",
          "data": {
            "application/javascript": [
              "download(\"download_3d972cb2-d0a8-4aac-9e39-f7b45fb4a010\", \"histTreinoRESNET100.csv\", 6839)"
            ],
            "text/plain": [
              "<IPython.core.display.Javascript object>"
            ]
          },
          "metadata": {}
        }
      ]
    },
    {
      "cell_type": "code",
      "metadata": {
        "id": "xzOaW3l6UQBL"
      },
      "source": [
        "histT = pd.read_csv('histTreinoRESNET100.csv')"
      ],
      "execution_count": null,
      "outputs": []
    },
    {
      "cell_type": "code",
      "metadata": {
        "id": "RltNPtt5ZYvP",
        "colab": {
          "base_uri": "https://localhost:8080/",
          "height": 385
        },
        "outputId": "9de56292-8284-4684-f365-d397cb27cac1"
      },
      "source": [
        "fig, axs = plt.subplots(1,2)\n",
        "fig.set_figheight(5)\n",
        "fig.set_figwidth(15)\n",
        "\n",
        "axs[0].plot(histT.index + 1, histT['acc'])\n",
        "axs[0].plot(histT.index + 1, histT['val_acc'], '--')\n",
        "axs[0].set_title('(a)', size = 30)\n",
        "axs[0].set_xlabel(\"EPOCAS\", size = 16)\n",
        "axs[0].set_ylabel(\"ACURÁCIA\", size =16)\n",
        "axs[0].set_yticks([0.3,0.4,0.5,0.6,0.7,0.8,0.9,1])\n",
        "axs[0].set_xticks([1,10,20,30,40,50,60,70,80,90,100])\n",
        "axs[0].legend(['ACURACIA TESTE', 'ACURACIA VALIDACAO'])\n",
        "axs[0].grid(True)\n",
        "\n",
        "axs[1].plot(histT.index + 1, histT['loss'])\n",
        "axs[1].plot(histT.index + 1, histT['val_loss'], '--')\n",
        "axs[1].set_title('(b)', size = 30)\n",
        "axs[1].set_xlabel(\"EPOCAS\", size =16)\n",
        "axs[1].set_ylabel(\"CUSTO\", size =16)\n",
        "axs[1].legend(['CUSTO TESTE', 'CUSTO VALIDACAO'])\n",
        "axs[1].set_xticks([1,10,20,30,40,50,60,70,80,90,100])\n",
        "axs[1].grid(True)\n",
        "\n",
        "plt.plot()"
      ],
      "execution_count": null,
      "outputs": [
        {
          "output_type": "execute_result",
          "data": {
            "text/plain": [
              "[]"
            ]
          },
          "metadata": {},
          "execution_count": 4
        },
        {
          "output_type": "display_data",
          "data": {
            "image/png": "[encoded data removed]",
            "text/plain": [
              "<Figure size 1080x360 with 2 Axes>"
            ]
          },
          "metadata": {
            "needs_background": "light"
          }
        }
      ]
    },
    {
      "cell_type": "markdown",
      "source": [
        "---\n",
        "# Salvando o Modelo\n",
        "---"
      ],
      "metadata": {
        "id": "zJ3uzROh-DTG"
      }
    },
    {
      "cell_type": "code",
      "metadata": {
        "id": "qptCfWWgZcvP",
        "colab": {
          "base_uri": "https://localhost:8080/"
        },
        "outputId": "84eb216d-580b-444f-b6d7-401a99e9a852"
      },
      "source": [
        "modelRESNET.save('/content/drive/MyDrive/TCC/MODELS/RESNETMODEL')"
      ],
      "execution_count": null,
      "outputs": [
        {
          "output_type": "stream",
          "name": "stdout",
          "text": [
            "INFO:tensorflow:Assets written to: /content/drive/MyDrive/TCC/MODELS/RESNETMODEL/assets\n"
          ]
        }
      ]
    },
    {
      "cell_type": "code",
      "metadata": {
        "id": "hIQb9NFEZeTe"
      },
      "source": [
        "# modelRESNET = keras.models.load_model('/content/drive/MyDrive/TCC/MODELS/RESNETMODEL')"
      ],
      "execution_count": null,
      "outputs": []
    },
    {
      "cell_type": "markdown",
      "source": [
        "---\n",
        "# Avaliação do Modelo\n",
        "---"
      ],
      "metadata": {
        "id": "_CEg2MI4-EXp"
      }
    },
    {
      "cell_type": "code",
      "metadata": {
        "colab": {
          "base_uri": "https://localhost:8080/",
          "height": 554
        },
        "id": "hAwIog-VU2pE",
        "outputId": "75767c56-fa8b-4591-82c3-dad0d2f0941d"
      },
      "source": [
        "test_y, pred, test_images = convertData(modelRESNET, TEST, 0)\n",
        "\n",
        "matrix = metrics.confusion_matrix(test_y, pred)\n",
        "\n",
        "labels = ['Bacteriana' , 'Normal', 'Viral']\n",
        "\n",
        "df_cm = pd.DataFrame(matrix, index = [i for i in \"012\"],\n",
        "                  columns = [i for i in \"012\"])\n",
        "\n",
        "df_cm.index = labels\n",
        "df_cm.columns = labels\n",
        "\n",
        "plt.figure(figsize = (10,7))\n",
        "ax = sns.heatmap(df_cm, annot=True, fmt='g')\n",
        "ax.set_title(\"Matriz de confusão para os dados de teste\\n\", size = 24)\n",
        "ax"
      ],
      "execution_count": null,
      "outputs": [
        {
          "output_type": "stream",
          "name": "stdout",
          "text": [
            "• GERANDO PATHS\n",
            "• GERANDO PREVISÕES\n",
            "ACURACIA DO MODELO PARA OS DADOS DE TESTE: 0.8413461538461539\n"
          ]
        },
        {
          "output_type": "execute_result",
          "data": {
            "text/plain": [
              "<matplotlib.axes._subplots.AxesSubplot at 0x7febcfbfce90>"
            ]
          },
          "metadata": {},
          "execution_count": 28
        },
        {
          "output_type": "display_data",
          "data": {
            "image/png": "[encoded data removed]",
            "text/plain": [
              "<Figure size 720x504 with 2 Axes>"
            ]
          },
          "metadata": {
            "needs_background": "light"
          }
        }
      ]
    },
    {
      "cell_type": "code",
      "metadata": {
        "colab": {
          "base_uri": "https://localhost:8080/",
          "height": 143
        },
        "id": "QqumnrsJVDs5",
        "outputId": "32bf4c24-f2aa-4bdd-c9c6-949d7423426e"
      },
      "source": [
        "f1 = f1_score(test_y, pred, average= None)\n",
        "recall = recall_score(test_y, pred, average= None)\n",
        "precision = precision_score(test_y, pred, average= None)\n",
        "\n",
        "metricas = pd.DataFrame([recall, precision, f1], columns=['Bacteriana' , 'Normal', 'Viral'], index = ['Recall', 'Precision','F1-Score']).T\n",
        "metricas"
      ],
      "execution_count": null,
      "outputs": [
        {
          "output_type": "execute_result",
          "data": {
            "text/html": [
              "<div>\n",
              "<style scoped>\n",
              "    .dataframe tbody tr th:only-of-type {\n",
              "        vertical-align: middle;\n",
              "    }\n",
              "\n",
              "    .dataframe tbody tr th {\n",
              "        vertical-align: top;\n",
              "    }\n",
              "\n",
              "    .dataframe thead th {\n",
              "        text-align: right;\n",
              "    }\n",
              "</style>\n",
              "<table border=\"1\" class=\"dataframe\">\n",
              "  <thead>\n",
              "    <tr style=\"text-align: right;\">\n",
              "      <th></th>\n",
              "      <th>Recall</th>\n",
              "      <th>Precision</th>\n",
              "      <th>F1-Score</th>\n",
              "    </tr>\n",
              "  </thead>\n",
              "  <tbody>\n",
              "    <tr>\n",
              "      <th>Bacteriana</th>\n",
              "      <td>0.851</td>\n",
              "      <td>0.866</td>\n",
              "      <td>0.858</td>\n",
              "    </tr>\n",
              "    <tr>\n",
              "      <th>Normal</th>\n",
              "      <td>0.966</td>\n",
              "      <td>0.799</td>\n",
              "      <td>0.874</td>\n",
              "    </tr>\n",
              "    <tr>\n",
              "      <th>Viral</th>\n",
              "      <td>0.628</td>\n",
              "      <td>0.903</td>\n",
              "      <td>0.741</td>\n",
              "    </tr>\n",
              "  </tbody>\n",
              "</table>\n",
              "</div>"
            ],
            "text/plain": [
              "            Recall  Precision  F1-Score\n",
              "Bacteriana   0.851      0.866     0.858\n",
              "Normal       0.966      0.799     0.874\n",
              "Viral        0.628      0.903     0.741"
            ]
          },
          "metadata": {},
          "execution_count": 29
        }
      ]
    },
    {
      "cell_type": "markdown",
      "metadata": {
        "id": "oCHLxXklVdhM"
      },
      "source": [
        "# Classificação Binária"
      ]
    },
    {
      "cell_type": "code",
      "metadata": {
        "id": "aR7xcqRFVKI5"
      },
      "source": [
        "testBin = test_y\n",
        "predBin = pred\n",
        "\n",
        "i = 0\n",
        "while i < len(pred):\n",
        "    if predBin[i] == 0:\n",
        "        predBin[i] = 3\n",
        "    elif predBin[i] == 2:\n",
        "        predBin[i] = 3\n",
        "\n",
        "    i += 1\n",
        "\n",
        "k = 0\n",
        "while k < len(test_y):\n",
        "    if testBin[k] == 0:\n",
        "        testBin[k] = 3\n",
        "    elif testBin[k] == 2:\n",
        "        testBin[k] = 3\n",
        "\n",
        "    k += 1"
      ],
      "execution_count": null,
      "outputs": []
    },
    {
      "cell_type": "code",
      "metadata": {
        "colab": {
          "base_uri": "https://localhost:8080/",
          "height": 499
        },
        "id": "25Krp5NtVPE5",
        "outputId": "4630865c-f45d-47a3-fa1d-355317ff3aeb"
      },
      "source": [
        "matrix = metrics.confusion_matrix(testBin, predBin)\n",
        "\n",
        "labels = ['Normal' , 'Pneumonia']\n",
        "\n",
        "df_cm = pd.DataFrame(matrix, index = [i for i in \"01\"],\n",
        "                  columns = [i for i in \"01\"])\n",
        "\n",
        "df_cm.index = labels\n",
        "df_cm.columns = labels\n",
        "\n",
        "plt.figure(figsize = (10,7))\n",
        "ax = sns.heatmap(df_cm, annot=True, fmt='g')\n",
        "ax.set_title(\"Matriz de confusão para os dados de teste\\n\", size = 24)\n",
        "ax"
      ],
      "execution_count": null,
      "outputs": [
        {
          "output_type": "execute_result",
          "data": {
            "text/plain": [
              "<matplotlib.axes._subplots.AxesSubplot at 0x7febd30668d0>"
            ]
          },
          "metadata": {},
          "execution_count": 31
        },
        {
          "output_type": "display_data",
          "data": {
            "image/png": "[encoded data removed]",
            "text/plain": [
              "<Figure size 720x504 with 2 Axes>"
            ]
          },
          "metadata": {
            "needs_background": "light"
          }
        }
      ]
    },
    {
      "cell_type": "code",
      "metadata": {
        "colab": {
          "base_uri": "https://localhost:8080/",
          "height": 130
        },
        "id": "y_I4K3V0VRYy",
        "outputId": "5d5d5077-b7b9-4c3f-df7a-570c9564932a"
      },
      "source": [
        "f1 = f1_score(testBin, predBin, average= None)\n",
        "recall = recall_score(testBin, predBin, average= None)\n",
        "precision = precision_score(testBin, predBin, average= None)\n",
        "acc = accuracy_score(testBin, predBin)\n",
        "\n",
        "print('ACC:', acc)\n",
        "\n",
        "metricas = pd.DataFrame([recall, precision, f1], columns=['Normal' , 'Pneumonia'], index = ['Recall', 'Precision','F1-Score']).T\n",
        "metricas\n"
      ],
      "execution_count": null,
      "outputs": [
        {
          "output_type": "stream",
          "name": "stdout",
          "text": [
            "ACC: 0.8958333333333334\n"
          ]
        },
        {
          "output_type": "execute_result",
          "data": {
            "text/html": [
              "<div>\n",
              "<style scoped>\n",
              "    .dataframe tbody tr th:only-of-type {\n",
              "        vertical-align: middle;\n",
              "    }\n",
              "\n",
              "    .dataframe tbody tr th {\n",
              "        vertical-align: top;\n",
              "    }\n",
              "\n",
              "    .dataframe thead th {\n",
              "        text-align: right;\n",
              "    }\n",
              "</style>\n",
              "<table border=\"1\" class=\"dataframe\">\n",
              "  <thead>\n",
              "    <tr style=\"text-align: right;\">\n",
              "      <th></th>\n",
              "      <th>Recall</th>\n",
              "      <th>Precision</th>\n",
              "      <th>F1-Score</th>\n",
              "    </tr>\n",
              "  </thead>\n",
              "  <tbody>\n",
              "    <tr>\n",
              "      <th>Normal</th>\n",
              "      <td>0.966</td>\n",
              "      <td>0.799</td>\n",
              "      <td>0.874</td>\n",
              "    </tr>\n",
              "    <tr>\n",
              "      <th>Pneumonia</th>\n",
              "      <td>0.854</td>\n",
              "      <td>0.977</td>\n",
              "      <td>0.911</td>\n",
              "    </tr>\n",
              "  </tbody>\n",
              "</table>\n",
              "</div>"
            ],
            "text/plain": [
              "           Recall  Precision  F1-Score\n",
              "Normal      0.966      0.799     0.874\n",
              "Pneumonia   0.854      0.977     0.911"
            ]
          },
          "metadata": {},
          "execution_count": 32
        }
      ]
    }
  ]
}