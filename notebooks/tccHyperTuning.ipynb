{
  "cells": [
    {
      "cell_type": "markdown",
      "metadata": {
        "id": "view-in-github",
        "colab_type": "text"
      },
      "source": [
        "<a href=\"https://colab.research.google.com/github/henriquevedoveli/TCC/blob/main/notebooks/tccHyperTuning.ipynb\" target=\"_parent\"><img src=\"https://colab.research.google.com/assets/colab-badge.svg\" alt=\"Open In Colab\"/></a>"
      ]
    },
    {
      "cell_type": "markdown",
      "source": [
        "# **Otimização de Hiper-Parâmetros das Redes Neurais**\n",
        "\n",
        "---\n",
        "\n",
        "## **Classificação de Pneumonia em Radiografia do Tórax Utilizando Redes Neurais Convolucionais**\n",
        "\n",
        "---\n",
        "\n",
        "#### Autor: Henrique Hundsdorfer Vedoveli\n",
        "\n",
        "#### Orientador: Prof. Dr. Anuar José Mincache\n",
        "\n",
        "#### Coorientador: Prof. Dr. Breno Ferraz de Oliveira\n",
        "\n",
        "---\n",
        "\n",
        "\n",
        "Neste notebook foi utilizado o algoritimo _HyperBand_ para a otimização do número de neurônios e a taxa de aprendizado do otimizador _Adam_.\n",
        "\n",
        "Os valores obtidos foram:\n",
        "\n",
        "|              | Número de Neurônios | Taxa de Aprendizado |\n",
        "|:------------:|:-------------------:|:-------------------:|\n",
        "|    _LeNet-5_   |         430         |        1e-04        |\n",
        "|    _AlexNet_   |         840         |        1e-05        |\n",
        "|    _VGG-16_    |         840         |        1e-05        |\n",
        "| _Inception-V3_ |          -          |        1e-05        |\n",
        "|   _ResNet-50_  |          -          |                     |\n",
        "|    _VGG-Inc_  |         2680        |        1e-05        |\n",
        "\n",
        "---\n",
        "\n"
      ],
      "metadata": {
        "id": "mHivLV9McEcB"
      }
    },
    {
      "cell_type": "markdown",
      "source": [
        "---\n",
        "# Bibliotecas Necessárias\n",
        "---"
      ],
      "metadata": {
        "id": "yyEDVo55hWoN"
      }
    },
    {
      "cell_type": "code",
      "execution_count": null,
      "metadata": {
        "id": "n7vHZR8SeIFL"
      },
      "outputs": [],
      "source": [
        "from google.colab import drive\n",
        "drive.mount('/content/drive')\n",
        "\n",
        "!pip install -q -U keras-tuner\n",
        "\n",
        "################################################################################\n",
        " \n",
        "import numpy as np\n",
        "import pandas as pd\n",
        "import seaborn as sns\n",
        "import matplotlib.pyplot as plt\n",
        "from sklearn import model_selection, metrics\n",
        " \n",
        "import tensorflow as tf\n",
        "from tensorflow import keras\n",
        "from keras.layers import Conv2D, Convolution2D, MaxPooling2D, AveragePooling2D, \n",
        "from keras.layers import concatenate, Flatten, Dense,  Dropout, Input\n",
        "from keras.models import Sequential, Model, load_model\n",
        "from tensorflow.keras.optimizers import Adam\n",
        "from keras.callbacks import ModelCheckpoint, EarlyStopping\n",
        "from keras.preprocessing import image  \n",
        "from keras.preprocessing.image import ImageDataGenerator\n",
        "\n",
        "import keras_tuner as kt\n",
        " \n",
        "########################################################################################\n",
        "import warnings\n",
        "warnings.filterwarnings(\"ignore\")\n",
        "\n",
        "pd.set_option('display.float_format', lambda x: '%.3f' % x)\n",
        "\n",
        "np.random.seed(7)\n",
        " \n",
        "import os\n",
        " \n",
        "%matplotlib inline"
      ]
    },
    {
      "cell_type": "markdown",
      "source": [
        "---\n",
        "## Local onde as imagens estão armazenadas\n",
        "---"
      ],
      "metadata": {
        "id": "CCPC3TGgh20L"
      }
    },
    {
      "cell_type": "code",
      "execution_count": null,
      "metadata": {
        "id": "3GwJ61RVerRr"
      },
      "outputs": [],
      "source": [
        "TRAIN = '/content/drive/MyDrive/TCC/data/chest_xray/train'\n",
        "TEST = '/content/drive/MyDrive/TCC/data/chest_xray/test'\n",
        "VAL = '/content/drive/MyDrive/TCC/data/chest_xray/val'\n",
        "\n",
        "MODELS = '/content/drive/MyDrive/TCC/MODELS'"
      ]
    },
    {
      "cell_type": "markdown",
      "metadata": {
        "id": "ycAwi0bMro7K"
      },
      "source": [
        "---\n",
        "\n",
        "# Carregando as imagens e aplicando o _data augmentation_\n",
        "\n",
        "----\n",
        "\n",
        "## Parâmetros utilizados para o _data augmentation_\n",
        "\n",
        "|                        Distorção                       |  Parâmetro |\n",
        "|:------------------------------------------------------:|:----------:|\n",
        "|           Alteração na Escala _(Zoom Range)_           | 0.9 a 1,25 |\n",
        "|           Faixa de Rotação _(Rotation Range)_          |     10°    |\n",
        "| Faixa de Deslocamento Horizontal _(Width Shift Range)_ |     0.1    |\n",
        "|  Faixa de Deslocamento Vertical _(Height Shift Range)_ |     0.1    |\n",
        "|           Modo de Preenchimento _(Fill Mode)_          |  Constante |\n",
        "|                          Cval                          |      0     |"
      ]
    },
    {
      "cell_type": "code",
      "execution_count": null,
      "metadata": {
        "colab": {
          "base_uri": "https://localhost:8080/"
        },
        "id": "oQvQysrhfFKh",
        "outputId": "49513ec3-f543-4eab-c853-dc26c1357fa8"
      },
      "outputs": [
        {
          "output_type": "stream",
          "name": "stdout",
          "text": [
            "Found 5082 images belonging to 3 classes.\n",
            "Found 150 images belonging to 3 classes.\n"
          ]
        }
      ],
      "source": [
        "trainData = ImageDataGenerator(zoom_range = [0.9, 1.25], \n",
        "                                        rotation_range = 10,\n",
        "                                        vertical_flip = True,\n",
        "                                        # horizontal_flip = True, \n",
        "                                        width_shift_range = 0.1, \n",
        "                                        height_shift_range = 0.1,\n",
        "                                        brightness_range = [0.5, 1],\n",
        "                                        shear_range = .7,\n",
        "                                        fill_mode='constant', \n",
        "                                        cval=0)\n",
        "\n",
        "trainData = trainData.flow_from_directory(directory=TRAIN,\n",
        "                                       batch_size = 32,\n",
        "                                       target_size=(224,224),\n",
        "                                       color_mode = 'grayscale')\n",
        "\n",
        "valData = ImageDataGenerator()\n",
        "valData = valData.flow_from_directory(\n",
        "        VAL,\n",
        "        target_size = (224,224),\n",
        "        batch_size = 32,\n",
        "        color_mode = 'grayscale'\n",
        "        )"
      ]
    },
    {
      "cell_type": "markdown",
      "metadata": {
        "id": "WQY4sG0MnDbn"
      },
      "source": [
        "---\n",
        "# Otimização _LeNet-5_\n",
        "---\n",
        "## Construindo e compilando o modelo "
      ]
    },
    {
      "cell_type": "code",
      "execution_count": null,
      "metadata": {
        "id": "jwlABkrrnCFn"
      },
      "outputs": [],
      "source": [
        "def modelBuilderLeNet(hp):\n",
        "    hpUnits = hp.Int('units', min_value=10, max_value=1000, step=10)\n",
        "\n",
        "    hpLearningRate = hp.Choice('learning_rate', values=[1e-1, 1e-2, 1e-3, 1e-4, 1e-5])\n",
        "\n",
        "    modelLeNet = Sequential()\n",
        "\n",
        "    modelLeNet.add(Conv2D(filters=6, kernel_size = (5,5), activation='relu', input_shape=(32, 32, 1)))\n",
        "    modelLeNet.add(AveragePooling2D(2,2))\n",
        "\n",
        "    modelLeNet.add(Conv2D(filters=16, kernel_size = (5,5), activation='relu'))\n",
        "    modelLeNet.add(AveragePooling2D(2,2))\n",
        "\n",
        "    modelLeNet.add(Conv2D(filters=120, kernel_size = (5,5), activation='relu'))\n",
        "\n",
        "    modelLeNet.add(Flatten())\n",
        "\n",
        "    modelLeNet.add(Dense(units=hpUnits, activation='tanh'))\n",
        "    modelLeNet.add(Dense(units=3, activation='softmax'))\n",
        "\n",
        "\n",
        "    modelLeNet.compile(loss='categorical_crossentropy', \n",
        "                     optimizer=keras.optimizers.Adam(learning_rate=hpLearningRate),\n",
        "                     metrics = ['accuracy'])\n",
        "\n",
        "    return modelLeNet"
      ]
    },
    {
      "cell_type": "markdown",
      "source": [
        "## Iniciando o algoritmo de otimização e iniciando a pesquisa ao melhores hiper-parâmetros"
      ],
      "metadata": {
        "id": "4z3W1P-2jpqd"
      }
    },
    {
      "cell_type": "code",
      "execution_count": null,
      "metadata": {
        "id": "q6Sig7RcqPye"
      },
      "outputs": [],
      "source": [
        "tunerLeNet = kt.Hyperband(modelBuilderLeNet,\n",
        "                     objective='val_accuracy',\n",
        "                     max_epochs=60,\n",
        "                     factor=5,\n",
        "                     directory='/content/drive/MyDrive/TCC',\n",
        "                     project_name='TCC_Hypertuning_LeNet')"
      ]
    },
    {
      "cell_type": "code",
      "execution_count": null,
      "metadata": {
        "id": "RlYmHYDDqcnu"
      },
      "outputs": [],
      "source": [
        "tunerLeNet.search(trainData, validation_data = valData, epochs=10)\n",
        "\n",
        "best_hps=tunerLeNet.get_best_hyperparameters(num_trials=1)[0]"
      ]
    },
    {
      "cell_type": "markdown",
      "metadata": {
        "id": "7xLuyEZvY7Xc"
      },
      "source": [
        "---\n",
        "# Otimização _AlexNet_ \n",
        "---\n",
        "## Construindo e compilando o modelo "
      ]
    },
    {
      "cell_type": "code",
      "execution_count": null,
      "metadata": {
        "id": "L2zhlfXfZJOj"
      },
      "outputs": [],
      "source": [
        "def modelBuilderAlexNet(hp):\n",
        "    hpUnits = hp.Int('units', min_value=100, max_value=5000, step=10)\n",
        "\n",
        "    hpLearningRate = hp.Choice('learning_rate', values=[1e-1, 1e-2, 1e-3, 1e-4, 1e-5])\n",
        "\n",
        "    modelAlex = Sequential()\n",
        "\n",
        "    modelAlex.add(Conv2D(filters=96, kernel_size = (11,11), activation='relu', input_shape=(224, 224, 1)))\n",
        "    modelAlex.add(MaxPooling2D(3,3))\n",
        "\n",
        "    modelAlex.add(Conv2D(filters=256, kernel_size = (5,5), activation='relu'))\n",
        "    modelAlex.add(MaxPooling2D(3,3))\n",
        "\n",
        "    modelAlex.add(Conv2D(filters=384, kernel_size = (3,3), activation='relu'))\n",
        "    modelAlex.add(Conv2D(filters=384, kernel_size = (3,3), activation='relu'))\n",
        "    modelAlex.add(Conv2D(filters=256, kernel_size = (3,3), activation='relu'))\n",
        "    modelAlex.add(MaxPooling2D(3,3))\n",
        "\n",
        "    modelAlex.add(Flatten())\n",
        "\n",
        "    modelAlex.add(Dense(units=hpUnits, activation='relu'))\n",
        "    modelAlex.add(Dense(units=hpUnits, activation='relu'))\n",
        "    modelAlex.add(Dense(units=3, activation='softmax'))\n",
        "\n",
        "\n",
        "    modelAlex.compile(loss='categorical_crossentropy', \n",
        "                     optimizer=keras.optimizers.Adam(learning_rate=hpLearningRate),\n",
        "                     metrics = ['accuracy'])\n",
        "\n",
        "    return modelAlex"
      ]
    },
    {
      "cell_type": "markdown",
      "source": [
        "## Iniciando o algoritmo de otimização e iniciando a pesquisa ao melhores hiper-parâmetros"
      ],
      "metadata": {
        "id": "UDfPzyDNt4H3"
      }
    },
    {
      "cell_type": "code",
      "execution_count": null,
      "metadata": {
        "id": "IjNhsqYuass8"
      },
      "outputs": [],
      "source": [
        "tunerAlex = kt.Hyperband(modelBuilderAlexNet,\n",
        "                     objective='val_accuracy',\n",
        "                     max_epochs=60,\n",
        "                     factor=5,\n",
        "                     directory='/content/drive/MyDrive/TCC',\n",
        "                     project_name='TCC_Hypertuning_AlexNet')"
      ]
    },
    {
      "cell_type": "code",
      "execution_count": null,
      "metadata": {
        "id": "2Sy4ykm2a5LD"
      },
      "outputs": [],
      "source": [
        "tunerAlex.search(trainData, validation_data = valData, epochs=10)\n",
        "\n",
        "best_hps=tunerAlex.get_best_hyperparameters(num_trials=1)[0]"
      ]
    },
    {
      "cell_type": "markdown",
      "metadata": {
        "id": "30NALVDjIc-i"
      },
      "source": [
        "---\n",
        "# Otimização _VGG-16_ \n",
        "---\n",
        "## Construindo e compilando o modelo "
      ]
    },
    {
      "cell_type": "code",
      "execution_count": null,
      "metadata": {
        "id": "GyEFyoFD3tEt"
      },
      "outputs": [],
      "source": [
        "def modelBuilderVGG(hp):\n",
        "    hpUnits = hp.Int('units', min_value=100, max_value=5000, step=10)\n",
        "\n",
        "    hpLearningRate = hp.Choice('learning_rate', values=[1e-1, 1e-2, 1e-3, 1e-4, 1e-5])\n",
        "\n",
        "\n",
        "    modelVGG = tf.keras.applications.VGG16(input_shape=(224, 224, 1),include_top=False, weights=None)\n",
        "\n",
        "    modelVGG = tf.keras.Sequential([\n",
        "            modelVGG,\n",
        "            tf.keras.layers.Flatten(),\n",
        "            tf.keras.layers.Dense(hpUnits, activation=tf.nn.relu),\n",
        "            tf.keras.layers.Dropout(0.2),\n",
        "            tf.keras.layers.Dense(hpUnits, activation=tf.nn.relu),\n",
        "            tf.keras.layers.Dropout(0.2),\n",
        "            tf.keras.layers.Dense(3,activation=tf.nn.softmax)\n",
        "            ])\n",
        "    \n",
        "    modelVGG.compile(loss='categorical_crossentropy', \n",
        "                     optimizer=keras.optimizers.Adam(learning_rate=hpLearningRate),\n",
        "                     metrics = ['accuracy'])\n",
        "\n",
        "    return modelVGG"
      ]
    },
    {
      "cell_type": "markdown",
      "source": [
        "## Iniciando o algoritmo de otimização e iniciando a pesquisa ao melhores hiper-parâmetros"
      ],
      "metadata": {
        "id": "y7r6y0Y0vhzn"
      }
    },
    {
      "cell_type": "code",
      "execution_count": null,
      "metadata": {
        "id": "qdJK04WB5xRH"
      },
      "outputs": [],
      "source": [
        "tunerVGG = kt.Hyperband(modelBuilderVGG,\n",
        "                     objective='val_accuracy',\n",
        "                     max_epochs=60,\n",
        "                     factor=5,\n",
        "                     directory='/content/drive/MyDrive/TCC',\n",
        "                     project_name='TCC_Hypertuning_VGG')"
      ]
    },
    {
      "cell_type": "code",
      "execution_count": null,
      "metadata": {
        "id": "QtIYkqUO6cuZ"
      },
      "outputs": [],
      "source": [
        "stopEarly = tf.keras.callbacks.EarlyStopping(monitor='val_accuracy', patience=10)\n",
        "\n",
        "tunerVGG.search(trainData, validation_data = valData, epochs=10, callbacks=[stopEarly])\n",
        "\n",
        "best_hps=tunerVGG.get_best_hyperparameters(num_trials=1)[0]"
      ]
    },
    {
      "cell_type": "markdown",
      "source": [
        "---\n",
        "# Otimização _Inception-V3_ \n",
        "---\n",
        "## Construindo e compilando o modelo "
      ],
      "metadata": {
        "id": "TesNB16Kvbut"
      }
    },
    {
      "cell_type": "code",
      "source": [
        ""
      ],
      "metadata": {
        "id": "APF6P3GgvXi-"
      },
      "execution_count": null,
      "outputs": []
    },
    {
      "cell_type": "markdown",
      "source": [
        "## Iniciando o algoritmo de otimização e iniciando a pesquisa ao melhores hiper-parâmetros"
      ],
      "metadata": {
        "id": "LUrCeTUTvkUt"
      }
    },
    {
      "cell_type": "code",
      "source": [
        ""
      ],
      "metadata": {
        "id": "XCcGSV3VvX8l"
      },
      "execution_count": null,
      "outputs": []
    },
    {
      "cell_type": "code",
      "source": [
        ""
      ],
      "metadata": {
        "id": "bAYjzpxXvYd3"
      },
      "execution_count": null,
      "outputs": []
    },
    {
      "cell_type": "markdown",
      "source": [
        "---\n",
        "# Otimização _ResNet-50_ \n",
        "---\n",
        "## Construindo e compilando o modelo "
      ],
      "metadata": {
        "id": "8B0hqWwXvm4G"
      }
    },
    {
      "cell_type": "code",
      "source": [
        ""
      ],
      "metadata": {
        "id": "igE5ExMkvY6G"
      },
      "execution_count": null,
      "outputs": []
    },
    {
      "cell_type": "markdown",
      "source": [
        "## Iniciando o algoritmo de otimização e iniciando a pesquisa ao melhores hiper-parâmetros"
      ],
      "metadata": {
        "id": "EwcP9ZGVvpr1"
      }
    },
    {
      "cell_type": "code",
      "source": [
        ""
      ],
      "metadata": {
        "id": "mM7LB50bvpPM"
      },
      "execution_count": null,
      "outputs": []
    },
    {
      "cell_type": "code",
      "source": [
        ""
      ],
      "metadata": {
        "id": "ItJN00FbvqaU"
      },
      "execution_count": null,
      "outputs": []
    },
    {
      "cell_type": "markdown",
      "metadata": {
        "id": "6vTyi1-fZ_1X"
      },
      "source": [
        "---\n",
        "# Otimização _VGG-Inc_\n",
        "---\n",
        "## Definição do módulo _inception_\n",
        "\n",
        "Para a definição do módulo _inception_ é necessário passar como parâmetro o _output_ da camada anterior da rede neural, e o número de filtros de dimensionalidade de cada camada. A função retorna como saída os tensores resultantes de cada convolução concatenado. "
      ]
    },
    {
      "cell_type": "code",
      "source": [
        "def inceptionModule(x,\n",
        "                    filters1x1, \n",
        "                    filters3x3r,\n",
        "                    filters3x3,\n",
        "                    filters5x5r, \n",
        "                    filters5x5,\n",
        "                    filtersPoll,\n",
        "                    name=None):\n",
        "    \n",
        "    '''\n",
        "    params: x (tensor) ->  output da camada anterior da cnn\n",
        "\n",
        "            filters1x1 (int) -> numeros de filtros de dimensionalidade para a camada \n",
        "            de convolucao com tamanho de kernel (1x1)\n",
        "\n",
        "            filters3x3r (int) -> numeros de filtros de dimensionalidade para a camada \n",
        "            de convolucao com tamanho de kernel (1x1) que antecede a camada de \n",
        "            convolucao de tamanho (3x3)\n",
        "\n",
        "            filters3x3 (int) -> numeros de filtros de dimensionalidade para a camada \n",
        "            de convolucao com tamanho de kernel (3x3)\n",
        "\n",
        "            filters5x5r (int) -> numeros de filtros de dimensionalidade para a camada \n",
        "            de convolucao com tamanho de kernel (1x1) que antecede a camada de \n",
        "            convolucao de tamanho (5x5)\n",
        "\n",
        "            filters5x5 (int) -> numeros de filtros de dimensionalidade para a camada \n",
        "            de convolucao com tamanho de kernel (5x5)\n",
        "\n",
        "            filtersPoll (int) -> numeros de filtros de dimensionalidade para a camada \n",
        "            de convolucao que vem apos a camada de pooling com tamanho (1x1)\n",
        "\n",
        "            name (str) --opicional-- -> nome do modulo \n",
        "    '''\n",
        "    \n",
        "    conv1x1 = Convolution2D(filters1x1, (1,1),padding='same', activation='relu')(x)\n",
        "    conv3x3 = Convolution2D(filters3x3r, (1, 1),padding='same', activation='relu')(x)\n",
        "    conv3x3 = Convolution2D(filters3x3, (3, 3),padding='same', activation='relu')(conv3x3)\n",
        "\n",
        "    conv5x5 = Convolution2D(filters5x5r, (1, 1),padding='same', activation='relu')(x)\n",
        "    conv5x5 = Convolution2D(filters5x5, (5, 5),padding='same', activation='relu')(conv5x5)\n",
        "\n",
        "    poolProj = MaxPooling2D((3, 3), strides=(1, 1), padding='same')(x)\n",
        "    poolProj = Convolution2D(filtersPoll, (1, 1),padding='same', activation='relu')(poolProj)\n",
        "\n",
        "    output = concatenate([conv1x1, conv3x3, conv5x5, poolProj], axis=3,name=name)\n",
        "    \n",
        "    return output"
      ],
      "metadata": {
        "id": "eOQ-RS8DRHJ2"
      },
      "execution_count": null,
      "outputs": []
    },
    {
      "cell_type": "markdown",
      "source": [
        "## Construindo e compilando o modelo \n",
        "\n"
      ],
      "metadata": {
        "id": "3DtdDvQMtwuG"
      }
    },
    {
      "cell_type": "code",
      "execution_count": null,
      "metadata": {
        "id": "kYU5rhA1Z_dv"
      },
      "outputs": [],
      "source": [
        "def modelBuilderDInc(hp):\n",
        "    hpUnits = hp.Int('units', min_value=100, max_value=5000, step=10)\n",
        "\n",
        "    hpLearningRate = hp.Choice('learning_rate', values=[1e-1, 1e-2, 1e-3, 1e-4, 1e-5])\n",
        "\n",
        "    input_layer = Input(shape=(224, 224, 1))\n",
        "    x = Convolution2D(64, (3,3), strides=(1, 1), activation='relu')(input_layer)\n",
        "    x = Convolution2D(64, (3,3), strides=(1, 1), activation='relu')(x)\n",
        "    x = MaxPooling2D((3, 3), strides=(2, 2))(x)\n",
        "\n",
        "    #2nd group\n",
        "    x = Convolution2D(128, (3,3), strides=(1, 1), activation='relu')(x)\n",
        "    x = Convolution2D(128, (3,3), strides=(1, 1), activation='relu')(x)\n",
        "    x = MaxPooling2D((3, 3), strides=(2, 2))(x)\n",
        "\n",
        "    #3rd group\n",
        "    x = Convolution2D(256, (3,3), strides=(1, 1), activation='relu')(x)\n",
        "    x = Convolution2D(256, (3,3), strides=(1, 1), activation='relu')(x)\n",
        "    x = MaxPooling2D((3, 3), strides=(2, 2))(x)\n",
        "\n",
        "    #4rd group\n",
        "    x = Convolution2D(512, (3,3), strides=(1, 1), activation='relu')(x)\n",
        "    x = Convolution2D(512, (3,3), strides=(1, 1), activation='relu')(x)\n",
        "    x = MaxPooling2D((3, 3), strides=(2, 2))(x)\n",
        "\n",
        "    x = Convolution2D(512, (3,3), strides=(1, 1), activation='relu')(x)\n",
        "    x = Convolution2D(512, (3,3), strides=(1, 1), activation='relu')(x)\n",
        "    x = MaxPooling2D((3, 3), strides=(2, 2))(x)\n",
        "\n",
        "    x = inceptionModule(x,\n",
        "                        filters1x1=64,\n",
        "                        filters3x3r=96,\n",
        "                        filters3x3=128,\n",
        "                        filters5x5r=16,\n",
        "                        filters5x5=32,\n",
        "                        filtersPoll=32,\n",
        "                        name='inception1')\n",
        "\n",
        "    x = inceptionModule(x,\n",
        "                        filters1x1=128,\n",
        "                        filters3x3r=128,\n",
        "                        filters3x3=192,\n",
        "                        filters5x5r=32,\n",
        "                        filters5x5=96,\n",
        "                        filtersPoll=64,\n",
        "                        name='inception2')\n",
        "    \n",
        "    x = inceptionModule(x,\n",
        "                        filters1x1=192,\n",
        "                        filters3x3r=95,\n",
        "                        filters3x3=208,\n",
        "                        filters5x5r=16,\n",
        "                        filters5x5=48,\n",
        "                        filtersPoll=64,\n",
        "                        name='inception3')\n",
        "\n",
        "    x = Flatten()(x)\n",
        "    x = Dropout(0.2)(x)\n",
        "    x = Dense(hpUnits, activation = 'relu')(x)\n",
        "    x = Dropout(0.2)(x)\n",
        "    x = Dense(hpUnits, activation = 'relu')(x)\n",
        "    x = Dense(3, activation = 'softmax', name='output')(x)\n",
        "\n",
        "    modelDInc = Model(input_layer, x, name='D-Incep')\n",
        "    modelDInc.compile(loss='categorical_crossentropy', \n",
        "                     optimizer=keras.optimizers.Adam(learning_rate=hpLearningRate),\n",
        "                     metrics = ['accuracy'])\n",
        "\n",
        "    return modelDInc"
      ]
    },
    {
      "cell_type": "markdown",
      "source": [
        "## Iniciando o algoritmo de otimização e iniciando a pesquisa ao melhores hiper-parâmetros"
      ],
      "metadata": {
        "id": "prV931A8t6uv"
      }
    },
    {
      "cell_type": "code",
      "execution_count": null,
      "metadata": {
        "id": "e0_DJuGpZeIR",
        "colab": {
          "base_uri": "https://localhost:8080/"
        },
        "outputId": "0f2e6290-3003-4a67-f2cc-6b4d3f3101d7"
      },
      "outputs": [
        {
          "output_type": "stream",
          "name": "stdout",
          "text": [
            "INFO:tensorflow:Reloading Oracle from existing project /content/drive/MyDrive/TCC/TCC_Hypertuning_DInc/oracle.json\n",
            "INFO:tensorflow:Reloading Tuner from /content/drive/MyDrive/TCC/TCC_Hypertuning_DInc/tuner0.json\n"
          ]
        }
      ],
      "source": [
        "tunerDINC = kt.Hyperband(modelBuilderDInc,\n",
        "                     objective='val_accuracy',\n",
        "                     max_epochs=60,\n",
        "                     factor=5,\n",
        "                     directory='/content/drive/MyDrive/TCC',\n",
        "                     project_name='TCC_Hypertuning_DInc')"
      ]
    },
    {
      "cell_type": "code",
      "execution_count": null,
      "metadata": {
        "id": "urq1CFipayhZ"
      },
      "outputs": [],
      "source": [
        "stopEarly = tf.keras.callbacks.EarlyStopping(monitor='val_accuracy', patience=10)\n",
        "\n",
        "tunerDINC.search(trainData, validation_data = valData, epochs=10)\n",
        "\n",
        "best_hps=tunerDINC.get_best_hyperparameters(num_trials=1)[0]"
      ]
    }
  ],
  "metadata": {
    "accelerator": "GPU",
    "colab": {
      "machine_shape": "hm",
      "name": "tccHyperTuning",
      "provenance": [],
      "mount_file_id": "1SzwmNExwi8jhqHiZE0yKnzSA_h8gK-RG",
      "authorship_tag": "ABX9TyN5dN3UkrmE+QptWMQHmi4g",
      "include_colab_link": true
    },
    "kernelspec": {
      "display_name": "Python 3",
      "name": "python3"
    },
    "language_info": {
      "name": "python"
    }
  },
  "nbformat": 4,
  "nbformat_minor": 0
}