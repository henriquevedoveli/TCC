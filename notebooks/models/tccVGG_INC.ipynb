{
  "nbformat": 4,
  "nbformat_minor": 0,
  "metadata": {
    "colab": {
      "name": "tccVGG-INC",
      "provenance": [],
      "mount_file_id": "1P7bmLpsyAHgzYwkwU-nJsLmYYo-0sano",
      "authorship_tag": "ABX9TyM+9q1G4HNpduXUUkkv190B",
      "include_colab_link": true
    },
    "kernelspec": {
      "name": "python3",
      "display_name": "Python 3"
    },
    "language_info": {
      "name": "python"
    },
    "accelerator": "GPU"
  },
  "cells": [
    {
      "cell_type": "markdown",
      "metadata": {
        "id": "view-in-github",
        "colab_type": "text"
      },
      "source": [
        "<a href=\"https://colab.research.google.com/github/henriquevedoveli/TCC/blob/main/notebooks/models/tccVGG_INC.ipynb\" target=\"_parent\"><img src=\"https://colab.research.google.com/assets/colab-badge.svg\" alt=\"Open In Colab\"/></a>"
      ]
    },
    {
      "cell_type": "markdown",
      "source": [
        "# **Treinameto e Avaliação do Modelo _VGGInc_**\n",
        "\n",
        "---\n",
        "\n",
        "## **Classificação de Pneumonia em Radiografia do Tórax Utilizando Redes Neurais Convolucionais**\n",
        "\n",
        "---\n",
        "\n",
        "#### Autor: Henrique Hundsdorfer Vedoveli\n",
        "\n",
        "#### Orientador: Prof. Dr. Anuar José Mincache\n",
        "\n",
        "#### Coorientador: Prof. Dr. Breno Ferraz de Oliveira"
      ],
      "metadata": {
        "id": "VBZ8hwthcxMm"
      }
    },
    {
      "cell_type": "markdown",
      "source": [
        "---\n",
        "# Bibliotecas Necessárias\n",
        "---"
      ],
      "metadata": {
        "id": "FReYi8S8c1kk"
      }
    },
    {
      "cell_type": "code",
      "metadata": {
        "id": "HUBFQNZ4A6x3",
        "colab": {
          "base_uri": "https://localhost:8080/"
        },
        "outputId": "5f4a205d-a486-478f-f8aa-652250077e1a"
      },
      "source": [
        "from google.colab import drive\n",
        "drive.mount('/content/drive')\n",
        " \n",
        "import numpy as np\n",
        "import pandas as pd\n",
        "import seaborn as sns\n",
        "import matplotlib.pyplot as plt\n",
        "from sklearn import model_selection, metrics\n",
        "from sklearn.metrics import *\n",
        " \n",
        "import tensorflow as tf\n",
        "from tensorflow import keras\n",
        "from keras.layers import Convolution2D, MaxPooling2D, Flatten, Dense, concatenate, Dropout, Input\n",
        " \n",
        "# keras models\n",
        "from keras.models import Sequential, Model, load_model\n",
        "from tensorflow.keras.optimizers import Adam\n",
        "from keras.callbacks import ModelCheckpoint, EarlyStopping\n",
        "\n",
        "from keras.preprocessing.image import ImageDataGenerator\n",
        "from keras.preprocessing import image  \n",
        " \n",
        "########################################################################################\n",
        "import warnings\n",
        "warnings.filterwarnings(\"ignore\")\n",
        "\n",
        "pd.set_option('display.float_format', lambda x: '%.3f' % x)\n",
        "\n",
        "np.random.seed(7)\n",
        " \n",
        "import os\n",
        " \n",
        "%matplotlib inline"
      ],
      "execution_count": null,
      "outputs": [
        {
          "output_type": "stream",
          "name": "stdout",
          "text": [
            "Drive already mounted at /content/drive; to attempt to forcibly remount, call drive.mount(\"/content/drive\", force_remount=True).\n"
          ]
        }
      ]
    },
    {
      "cell_type": "markdown",
      "source": [
        "---\n",
        "## Local onde as imagens estão armazenadas\n",
        "---"
      ],
      "metadata": {
        "id": "MVEMsTcTeB7-"
      }
    },
    {
      "cell_type": "code",
      "metadata": {
        "id": "pkVJK5TiFY0b"
      },
      "source": [
        "TRAIN = '/content/drive/MyDrive/TCC/data/chest_xray/train'\n",
        "TEST = '/content/drive/MyDrive/TCC/data/chest_xray/test'\n",
        "VAL = '/content/drive/MyDrive/TCC/data/chest_xray/val'\n",
        "\n",
        "MODELS = '/content/drive/MyDrive/TCC/MODELS'"
      ],
      "execution_count": null,
      "outputs": []
    },
    {
      "cell_type": "markdown",
      "source": [
        "---\n",
        "\n",
        "# Carregando as imagens e aplicando o _data augmentation_\n",
        "\n",
        "----\n",
        "\n",
        "## Parâmetros utilizados para o _data augmentation_\n",
        "\n",
        "|                        Distorção                       |  Parâmetro |\n",
        "|:------------------------------------------------------:|:----------:|\n",
        "|           Alteração na Escala _(Zoom Range)_           | 0.9 a 1,25 |\n",
        "|           Faixa de Rotação _(Rotation Range)_          |     10°    |\n",
        "| Faixa de Deslocamento Horizontal _(Width Shift Range)_ |     0.1    |\n",
        "|  Faixa de Deslocamento Vertical _(Height Shift Range)_ |     0.1    |\n",
        "|           Modo de Preenchimento _(Fill Mode)_          |  Constante |\n",
        "|                          Cval                          |      0     |"
      ],
      "metadata": {
        "id": "4u9ARj-aeDuM"
      }
    },
    {
      "cell_type": "code",
      "metadata": {
        "id": "8d3yq8eRFaUj",
        "colab": {
          "base_uri": "https://localhost:8080/"
        },
        "outputId": "a8ff03ed-7d8c-43cf-dbfb-23f9f8600083"
      },
      "source": [
        "trainData = ImageDataGenerator(zoom_range = [0.9, 1.25], \n",
        "                                        rotation_range = 10,\n",
        "                                        vertical_flip = True,\n",
        "                                        horizontal_flip = False, \n",
        "                                        width_shift_range = 0.1, \n",
        "                                        height_shift_range = 0.1,\n",
        "                                        fill_mode='constant', \n",
        "                                        cval=0)\n",
        "\n",
        "trainData = trainData.flow_from_directory(directory=TRAIN,\n",
        "                                       batch_size = 32,\n",
        "                                       target_size=(224,224),\n",
        "                                       color_mode = 'grayscale',\n",
        "                                      )\n",
        "\n",
        "\n",
        "valData = ImageDataGenerator()\n",
        "valData = valData.flow_from_directory(\n",
        "        VAL,\n",
        "        target_size = (224,224),\n",
        "        batch_size = 32,\n",
        "        color_mode = 'grayscale'\n",
        "        )\n",
        "\n",
        "\n",
        "testData = ImageDataGenerator()\n",
        "testData = testData.flow_from_directory(directory=TEST,\n",
        "                                      batch_size = 32,\n",
        "                                      target_size=(224,224),\n",
        "                                      color_mode = 'grayscale')"
      ],
      "execution_count": null,
      "outputs": [
        {
          "output_type": "stream",
          "name": "stdout",
          "text": [
            "Found 5082 images belonging to 3 classes.\n",
            "Found 150 images belonging to 3 classes.\n",
            "Found 624 images belonging to 3 classes.\n"
          ]
        }
      ]
    },
    {
      "cell_type": "markdown",
      "source": [
        "---\n",
        "# Encontrando os pesos de cada classe.\n",
        "---"
      ],
      "metadata": {
        "id": "KdTtuLCXeIRV"
      }
    },
    {
      "cell_type": "code",
      "metadata": {
        "colab": {
          "base_uri": "https://localhost:8080/"
        },
        "id": "gEraFnoG9z1f",
        "outputId": "bd8c8ca0-7371-44f3-b0c9-5308f0c3110c"
      },
      "source": [
        "normalLength = len(os.listdir(TRAIN + '/' + 'NORMAL'))\n",
        "bacterialLength = len(os.listdir(TRAIN + '/' + 'BACTERIAL'))\n",
        "viralLength = len(os.listdir(TRAIN + '/' + 'VIRAL'))\n",
        "dataLength = normalLength + bacterialLength +  viralLength\n",
        "\n",
        "print('Qtd dados de treino: ', dataLength)\n",
        "print('Qtd dados de pulmão saudavel para treino: ', normalLength)\n",
        "print('Qtd dados Bacterial', bacterialLength)\n",
        "print('Qtd dados Viral', viralLength)\n",
        "\n",
        "class_weight = {0: 1., # bacterial\n",
        "                1: bacterialLength / normalLength, #normal \n",
        "                2: bacterialLength / viralLength} # viral "
      ],
      "execution_count": null,
      "outputs": [
        {
          "output_type": "stream",
          "name": "stdout",
          "text": [
            "Qtd dados de treino:  5082\n",
            "Qtd dados de pulmão saudavel para treino:  1299\n",
            "Qtd dados Bacterial 2488\n",
            "Qtd dados Viral 1295\n"
          ]
        }
      ]
    },
    {
      "cell_type": "markdown",
      "source": [
        "---\n",
        "# Funções para avaliação do Modelo\n",
        "---"
      ],
      "metadata": {
        "id": "xejwnJIGeMk9"
      }
    },
    {
      "cell_type": "code",
      "metadata": {
        "id": "hGGM-CcKirF1"
      },
      "source": [
        "def generateImages(paths):\n",
        "    '''\n",
        "    params: paths ->\n",
        "    '''\n",
        "    test_images=[]\n",
        "    interpret= trainData.class_indices\n",
        "    test_y=[]\n",
        "    \n",
        "    for path in paths:\n",
        "        y=''\n",
        "        if 'NORMAL' in path:\n",
        "            y='NORMAL'\n",
        "        elif 'VIRAL' in path:   \n",
        "            y='VIRAL'\n",
        "        elif 'BACTERIAL' in path:   \n",
        "            y='BACTERIAL'   \n",
        "        \n",
        "        for image_path in os.listdir(path):\n",
        "            new_path=os.path.join(TEST, y)\n",
        "            new_path=os.path.join(new_path,image_path)\n",
        "\n",
        "            temp_images=image.load_img(new_path,\n",
        "                                       color_mode = 'grayscale',\n",
        "                                       target_size=(224,224)) \n",
        "            temp_images=image.img_to_array(temp_images)\n",
        "            test_images.append(temp_images)\n",
        "            test_y.append(interpret[y])\n",
        "\n",
        "    return test_images,test_y"
      ],
      "execution_count": null,
      "outputs": []
    },
    {
      "cell_type": "code",
      "metadata": {
        "id": "T6wh1GZl93M3"
      },
      "source": [
        "def convertData(model, path, prob = 0):\n",
        "    '''\n",
        "    params: model ->\n",
        "            path ->\n",
        "            prob ->\n",
        "    '''\n",
        "    all_paths=[]\n",
        "    print(\"• GERANDO PATHS\")\n",
        "    for directory in os.listdir(path):\n",
        "        all_paths.append(os.path.join(path,directory))\n",
        "    \n",
        "    test_images, test_y= generateImages(all_paths)\n",
        "\n",
        "    test_images=np.array(test_images)\n",
        "\n",
        "    print(\"• GERANDO PREVISÕES\")\n",
        "    if prob == 0:\n",
        "        predictions = np.argmax(model.predict(test_images), axis=1)\n",
        "    else:\n",
        "        predictions = model.predict_on_batch(test_images)\n",
        "\n",
        "    print(\"ACURACIA DO MODELO PARA OS DADOS DE TESTE: {}\".format( metrics.accuracy_score(test_y, predictions)))\n",
        "\n",
        "    return test_y, predictions, test_images"
      ],
      "execution_count": null,
      "outputs": []
    },
    {
      "cell_type": "markdown",
      "source": [
        "---\n",
        "# Definindo o Modelo\n",
        "---"
      ],
      "metadata": {
        "id": "s6sKhqAIeawm"
      }
    },
    {
      "cell_type": "markdown",
      "source": [
        "## Módulo Inception\n",
        "---"
      ],
      "metadata": {
        "id": "3axINjDFebtl"
      }
    },
    {
      "cell_type": "code",
      "source": [
        "def inceptionModule(x,\n",
        "                    filters1x1, \n",
        "                    filters3x3r,\n",
        "                    filters3x3,\n",
        "                    filters5x5r, \n",
        "                    filters5x5,\n",
        "                    filtersPoll,\n",
        "                    name=None):\n",
        "    \n",
        "    conv1x1 = Convolution2D(filters1x1, (1,1),padding='same', activation='relu')(x)\n",
        "    conv3x3 = Convolution2D(filters3x3r, (1, 1),padding='same', activation='relu')(x)\n",
        "    conv3x3 = Convolution2D(filters3x3, (3, 3),padding='same', activation='relu')(conv3x3)\n",
        "\n",
        "    conv5x5 = Convolution2D(filters5x5r, (1, 1),padding='same', activation='relu')(x)\n",
        "    conv5x5 = Convolution2D(filters5x5, (5, 5),padding='same', activation='relu')(conv5x5)\n",
        "\n",
        "    poolProj = MaxPooling2D((3, 3), strides=(1, 1), padding='same')(x)\n",
        "    poolProj = Convolution2D(filtersPoll, (1, 1),padding='same', activation='relu')(poolProj)\n",
        "\n",
        "    output = concatenate([conv1x1, conv3x3, conv5x5, poolProj], axis=3,name=name)\n",
        "    \n",
        "    return output"
      ],
      "metadata": {
        "id": "Oexn_mJoKAvW"
      },
      "execution_count": null,
      "outputs": []
    },
    {
      "cell_type": "markdown",
      "source": [
        "---\n",
        "## Arquitetura do modelo\n",
        "---"
      ],
      "metadata": {
        "id": "iSmSCP-rehjM"
      }
    },
    {
      "cell_type": "code",
      "source": [
        "input_layer = Input(shape=(224, 224, 1))\n",
        "x = Convolution2D(64, (3,3), strides=(1, 1), activation='relu')(input_layer)\n",
        "x = Convolution2D(64, (3,3), strides=(1, 1), activation='relu')(x)\n",
        "x = MaxPooling2D((3, 3), strides=(2, 2))(x)\n",
        "\n",
        "#2nd group\n",
        "x = Convolution2D(128, (3,3), strides=(1, 1), activation='relu')(x)\n",
        "x = Convolution2D(128, (3,3), strides=(1, 1), activation='relu')(x)\n",
        "x = MaxPooling2D((3, 3), strides=(2, 2))(x)\n",
        "\n",
        "#3rd group\n",
        "x = Convolution2D(256, (3,3), strides=(1, 1), activation='relu')(x)\n",
        "x = Convolution2D(256, (3,3), strides=(1, 1), activation='relu')(x)\n",
        "x = MaxPooling2D((3, 3), strides=(2, 2))(x)\n",
        "\n",
        "#4rd group\n",
        "x = Convolution2D(512, (3,3), strides=(1, 1), activation='relu')(x)\n",
        "x = Convolution2D(512, (3,3), strides=(1, 1), activation='relu')(x)\n",
        "x = MaxPooling2D((3, 3), strides=(2, 2))(x)\n",
        "\n",
        "x = Convolution2D(512, (3,3), strides=(1, 1), activation='relu')(x)\n",
        "x = Convolution2D(512, (3,3), strides=(1, 1), activation='relu')(x)\n",
        "x = MaxPooling2D((3, 3), strides=(2, 2))(x)\n",
        "\n",
        "x = inceptionModule(x,\n",
        "                    filters1x1=64,\n",
        "                    filters3x3r=96,\n",
        "                    filters3x3=128,\n",
        "                    filters5x5r=16,\n",
        "                    filters5x5=32,\n",
        "                    filtersPoll=32,\n",
        "                    name='inception1')\n",
        "\n",
        "x = inceptionModule(x,\n",
        "                    filters1x1=128,\n",
        "                    filters3x3r=128,\n",
        "                    filters3x3=192,\n",
        "                    filters5x5r=32,\n",
        "                    filters5x5=96,\n",
        "                    filtersPoll=64,\n",
        "                    name='inception2')\n",
        "\n",
        "x = inceptionModule(x,\n",
        "                    filters1x1=192,\n",
        "                    filters3x3r=95,\n",
        "                    filters3x3=208,\n",
        "                    filters5x5r=16,\n",
        "                    filters5x5=48,\n",
        "                    filtersPoll=64,\n",
        "                    name='inception3')\n",
        "\n",
        "x = Flatten()(x)\n",
        "x = Dropout(0.2)(x)\n",
        "x = Dense(2680, activation = 'relu')(x)\n",
        "x = Dropout(0.2)(x)\n",
        "x = Dense(2680, activation = 'relu')(x)\n",
        "x = Dense(3, activation = 'softmax', name='output')(x)"
      ],
      "metadata": {
        "id": "YK786YiOLPyl"
      },
      "execution_count": null,
      "outputs": []
    },
    {
      "cell_type": "code",
      "source": [
        "model = Model(input_layer, x, name='VGG-INC')\n",
        "model.compile(loss='categorical_crossentropy', \n",
        "                     optimizer=keras.optimizers.Adam(learning_rate=1e-05),\n",
        "                     metrics = ['accuracy'])\n",
        "model.summary()"
      ],
      "metadata": {
        "id": "BOIaKXVZOHNm"
      },
      "execution_count": null,
      "outputs": []
    },
    {
      "cell_type": "markdown",
      "source": [
        "---\n",
        "# Otimização do Modelo\n",
        "---\n"
      ],
      "metadata": {
        "id": "TPdGVaI-eog0"
      }
    },
    {
      "cell_type": "code",
      "metadata": {
        "id": "diCh4smk9-7v"
      },
      "source": [
        "hist = model.fit_generator(steps_per_epoch= trainData.n//32,\n",
        "                           generator=trainData, \n",
        "                           validation_data= valData,\n",
        "                           validation_steps=valData.n//32,\n",
        "                           epochs=50,\n",
        "                           class_weight = class_weight)"
      ],
      "execution_count": null,
      "outputs": []
    },
    {
      "cell_type": "code",
      "metadata": {
        "colab": {
          "base_uri": "https://localhost:8080/",
          "height": 17
        },
        "id": "ScYFgJxgpeTl",
        "outputId": "a1b690e4-58b2-4e7b-dab8-ec2e4f301314"
      },
      "source": [
        "temp = pd.DataFrame([hist.history['accuracy'], hist.history['val_accuracy'], hist.history['loss'], hist.history['val_loss']])\n",
        "\n",
        "histT = temp.T\n",
        "histT.columns = ['acc', 'val_acc', 'loss', 'val_loss']\n",
        "\n",
        "from google.colab import files\n",
        "numEpoch = 50\n",
        "histT.to_csv(f'histTreinoVGG_INC{numEpoch}.csv')\n",
        "files.download(f'histTreinoVGG_INC{numEpoch}.csv')\n"
      ],
      "execution_count": null,
      "outputs": [
        {
          "output_type": "display_data",
          "data": {
            "application/javascript": [
              "\n",
              "    async function download(id, filename, size) {\n",
              "      if (!google.colab.kernel.accessAllowed) {\n",
              "        return;\n",
              "      }\n",
              "      const div = document.createElement('div');\n",
              "      const label = document.createElement('label');\n",
              "      label.textContent = `Downloading \"${filename}\": `;\n",
              "      div.appendChild(label);\n",
              "      const progress = document.createElement('progress');\n",
              "      progress.max = size;\n",
              "      div.appendChild(progress);\n",
              "      document.body.appendChild(div);\n",
              "\n",
              "      const buffers = [];\n",
              "      let downloaded = 0;\n",
              "\n",
              "      const channel = await google.colab.kernel.comms.open(id);\n",
              "      // Send a message to notify the kernel that we're ready.\n",
              "      channel.send({})\n",
              "\n",
              "      for await (const message of channel.messages) {\n",
              "        // Send a message to notify the kernel that we're ready.\n",
              "        channel.send({})\n",
              "        if (message.buffers) {\n",
              "          for (const buffer of message.buffers) {\n",
              "            buffers.push(buffer);\n",
              "            downloaded += buffer.byteLength;\n",
              "            progress.value = downloaded;\n",
              "          }\n",
              "        }\n",
              "      }\n",
              "      const blob = new Blob(buffers, {type: 'application/binary'});\n",
              "      const a = document.createElement('a');\n",
              "      a.href = window.URL.createObjectURL(blob);\n",
              "      a.download = filename;\n",
              "      div.appendChild(a);\n",
              "      a.click();\n",
              "      div.remove();\n",
              "    }\n",
              "  "
            ],
            "text/plain": [
              "<IPython.core.display.Javascript object>"
            ]
          },
          "metadata": {}
        },
        {
          "output_type": "display_data",
          "data": {
            "application/javascript": [
              "download(\"download_d6738b98-d752-46eb-955f-8869b36c1786\", \"histTreinoVGG_INC50.csv\", 3467)"
            ],
            "text/plain": [
              "<IPython.core.display.Javascript object>"
            ]
          },
          "metadata": {}
        }
      ]
    },
    {
      "cell_type": "code",
      "metadata": {
        "colab": {
          "base_uri": "https://localhost:8080/",
          "height": 34
        },
        "id": "feqIAe1Ipe1a",
        "outputId": "26c89ff2-5e16-4606-add8-ffb033c7e9c7"
      },
      "source": [
        "temp = pd.DataFrame([hist.history['accuracy'], hist.history['val_accuracy'], hist.history['loss'], hist.history['val_loss']])\n",
        "\n",
        "tempT = temp.T\n",
        "tempT.columns = ['acc', 'val_acc', 'loss', 'val_loss']\n",
        "\n",
        "histTreinoatg = pd.read_csv('histTreinoVGG_INC50.csv')\n",
        "histTreinoatg = histTreinoatg[['acc', 'val_acc', 'loss', 'val_loss']]\n",
        "histT = histTreinoatg.append(tempT)\n",
        "histT = histT.reset_index(drop=True)\n",
        "\n",
        "from google.colab import files\n",
        "numEpoch =100\n",
        "histT.to_csv(f'histTreinoVGG_INC{numEpoch}.csv')\n",
        "files.download(f'histTreinoVGG_INC{numEpoch}.csv')\n"
      ],
      "execution_count": null,
      "outputs": [
        {
          "output_type": "display_data",
          "data": {
            "application/javascript": [
              "\n",
              "    async function download(id, filename, size) {\n",
              "      if (!google.colab.kernel.accessAllowed) {\n",
              "        return;\n",
              "      }\n",
              "      const div = document.createElement('div');\n",
              "      const label = document.createElement('label');\n",
              "      label.textContent = `Downloading \"${filename}\": `;\n",
              "      div.appendChild(label);\n",
              "      const progress = document.createElement('progress');\n",
              "      progress.max = size;\n",
              "      div.appendChild(progress);\n",
              "      document.body.appendChild(div);\n",
              "\n",
              "      const buffers = [];\n",
              "      let downloaded = 0;\n",
              "\n",
              "      const channel = await google.colab.kernel.comms.open(id);\n",
              "      // Send a message to notify the kernel that we're ready.\n",
              "      channel.send({})\n",
              "\n",
              "      for await (const message of channel.messages) {\n",
              "        // Send a message to notify the kernel that we're ready.\n",
              "        channel.send({})\n",
              "        if (message.buffers) {\n",
              "          for (const buffer of message.buffers) {\n",
              "            buffers.push(buffer);\n",
              "            downloaded += buffer.byteLength;\n",
              "            progress.value = downloaded;\n",
              "          }\n",
              "        }\n",
              "      }\n",
              "      const blob = new Blob(buffers, {type: 'application/binary'});\n",
              "      const a = document.createElement('a');\n",
              "      a.href = window.URL.createObjectURL(blob);\n",
              "      a.download = filename;\n",
              "      div.appendChild(a);\n",
              "      a.click();\n",
              "      div.remove();\n",
              "    }\n",
              "  "
            ],
            "text/plain": [
              "<IPython.core.display.Javascript object>"
            ]
          },
          "metadata": {}
        },
        {
          "output_type": "display_data",
          "data": {
            "application/javascript": [
              "download(\"download_6a5f5b43-ce16-4d2e-9d41-c44e25fa126f\", \"histTreinoVGG_INC100.csv\", 6916)"
            ],
            "text/plain": [
              "<IPython.core.display.Javascript object>"
            ]
          },
          "metadata": {}
        }
      ]
    },
    {
      "cell_type": "code",
      "metadata": {
        "colab": {
          "base_uri": "https://localhost:8080/",
          "height": 381
        },
        "id": "yjP3iPz-pfW7",
        "outputId": "e3b76716-ee4b-4e18-c0f4-9b2ae6ffda68"
      },
      "source": [
        "fig, axs = plt.subplots(1,2)\n",
        "fig.set_figheight(5)\n",
        "fig.set_figwidth(15)\n",
        "\n",
        "axs[0].plot(histT.index + 1, histT['acc'])\n",
        "axs[0].plot(histT.index + 1, histT['val_acc'], '--')\n",
        "axs[0].set_title('(a)', size = 24)\n",
        "axs[0].set_xlabel(\"EPOCAS\", size = 16)\n",
        "axs[0].set_ylabel(\"ACURÁCIA\", size =16)\n",
        "axs[0].set_yticks([0.3,0.4,0.5,0.6,0.7,0.8,0.9,1])\n",
        "axs[0].set_xticks([1,10,20,30,40,50,60,70,80,90,100])\n",
        "axs[0].legend(['ACURACIA TREINO', 'ACURACIA VALIDACAO'])\n",
        "axs[0].grid(True)\n",
        "\n",
        "\n",
        "axs[1].plot(histT.index + 1, histT['loss'])\n",
        "axs[1].plot(histT.index + 1, histT['val_loss'], '--')\n",
        "axs[1].set_title('(b)', size = 24)\n",
        "axs[1].set_xlabel(\"EPOCAS\", size =16)\n",
        "axs[1].set_ylabel(\"CUSTO\", size =16)\n",
        "axs[1].legend(['CUSTO TREINO', 'CUSTO VALIDACAO'])\n",
        "# axs[1].set_yticks([1.8,1.6,1.4,1.2,1,.8,.6,.4,.2,0])\n",
        "axs[1].set_xticks([1,10,20,30,40,50,60,70,80,90,100])\n",
        "axs[1].grid(True)\n",
        "\n",
        "plt.plot()"
      ],
      "execution_count": null,
      "outputs": [
        {
          "output_type": "execute_result",
          "data": {
            "text/plain": [
              "[]"
            ]
          },
          "metadata": {},
          "execution_count": 10
        },
        {
          "output_type": "display_data",
          "data": {
            "image/png": "[encoded data removed]",
            "text/plain": [
              "<Figure size 1080x360 with 2 Axes>"
            ]
          },
          "metadata": {
            "needs_background": "light"
          }
        }
      ]
    },
    {
      "cell_type": "markdown",
      "source": [
        "---\n",
        "# Salvando o Modelo\n",
        "---"
      ],
      "metadata": {
        "id": "YEstJ0XkesHc"
      }
    },
    {
      "cell_type": "code",
      "metadata": {
        "colab": {
          "base_uri": "https://localhost:8080/"
        },
        "id": "33RLa_q4pfp4",
        "outputId": "60ae6f6d-d245-4a2f-942d-01bb723e65bb"
      },
      "source": [
        "model.save('/content/drive/MyDrive/TCC/MODELS/DINCEPTIONMODEL')"
      ],
      "execution_count": null,
      "outputs": [
        {
          "output_type": "stream",
          "name": "stdout",
          "text": [
            "INFO:tensorflow:Assets written to: /content/drive/MyDrive/TCC/MODELS/DINCEPTIONMODEL/assets\n"
          ]
        }
      ]
    },
    {
      "cell_type": "code",
      "metadata": {
        "id": "CijsGQJRppf7"
      },
      "source": [
        "model = keras.models.load_model('/content/drive/MyDrive/TCC/MODELS/DINCEPTIONMODEL')"
      ],
      "execution_count": null,
      "outputs": []
    },
    {
      "cell_type": "markdown",
      "source": [
        "---\n",
        "# Avaliação do Modelo\n",
        "---"
      ],
      "metadata": {
        "id": "NhQmH0YeetvU"
      }
    },
    {
      "cell_type": "code",
      "metadata": {
        "id": "NwOZeasSptAs",
        "colab": {
          "base_uri": "https://localhost:8080/",
          "height": 550
        },
        "outputId": "bdf6feaa-9a83-4568-fc6f-2dc5325a1a4d"
      },
      "source": [
        "test_y, pred, test_images = convertData(model, TEST, 0)\n",
        "\n",
        "matrix = metrics.confusion_matrix(test_y, pred)\n",
        "\n",
        "# labels = \n",
        "labels = ['Bacteriana' , 'Normal', 'Viral']\n",
        "\n",
        "df_cm = pd.DataFrame(matrix, index = [i for i in \"012\"],\n",
        "                  columns = [i for i in \"012\"])\n",
        "\n",
        "df_cm.index = labels\n",
        "df_cm.columns = labels\n",
        "\n",
        "plt.figure(figsize = (10,7))\n",
        "ax = sns.heatmap(df_cm, annot=True, fmt='g')\n",
        "ax.set_title(\"Matriz de confusão para os dados de teste\\n\", size = 24)\n",
        "ax"
      ],
      "execution_count": null,
      "outputs": [
        {
          "output_type": "stream",
          "name": "stdout",
          "text": [
            "• GERANDO PATHS\n",
            "• GERANDO PREVISÕES\n",
            "ACURACIA DO MODELO PARA OS DADOS DE TESTE: 0.9134615384615384\n"
          ]
        },
        {
          "output_type": "execute_result",
          "data": {
            "text/plain": [
              "<matplotlib.axes._subplots.AxesSubplot at 0x7fd09f52bd50>"
            ]
          },
          "metadata": {},
          "execution_count": 13
        },
        {
          "output_type": "display_data",
          "data": {
            "image/png": "[encoded data removed]",
            "text/plain": [
              "<Figure size 720x504 with 2 Axes>"
            ]
          },
          "metadata": {
            "needs_background": "light"
          }
        }
      ]
    },
    {
      "cell_type": "code",
      "metadata": {
        "colab": {
          "base_uri": "https://localhost:8080/",
          "height": 143
        },
        "id": "PNZDl883XFfQ",
        "outputId": "1bca35bc-2c26-488a-d969-316c32af1e7a"
      },
      "source": [
        "f1 = f1_score(test_y, pred, average= None)\n",
        "recall = recall_score(test_y, pred, average= None)\n",
        "precision = precision_score(test_y, pred, average= None)\n",
        "\n",
        "metricas = pd.DataFrame([recall, precision, f1], columns=['Bacteriana' , 'Normal', 'Viral'], index = ['Recall', 'Precision','F1-Score']).T\n",
        "metricas"
      ],
      "execution_count": null,
      "outputs": [
        {
          "output_type": "execute_result",
          "data": {
            "text/html": [
              "\n",
              "  <div id=\"df-df0edb36-1c2f-4e02-beb1-84cef5cb83db\">\n",
              "    <div class=\"colab-df-container\">\n",
              "      <div>\n",
              "<style scoped>\n",
              "    .dataframe tbody tr th:only-of-type {\n",
              "        vertical-align: middle;\n",
              "    }\n",
              "\n",
              "    .dataframe tbody tr th {\n",
              "        vertical-align: top;\n",
              "    }\n",
              "\n",
              "    .dataframe thead th {\n",
              "        text-align: right;\n",
              "    }\n",
              "</style>\n",
              "<table border=\"1\" class=\"dataframe\">\n",
              "  <thead>\n",
              "    <tr style=\"text-align: right;\">\n",
              "      <th></th>\n",
              "      <th>Recall</th>\n",
              "      <th>Precision</th>\n",
              "      <th>F1-Score</th>\n",
              "    </tr>\n",
              "  </thead>\n",
              "  <tbody>\n",
              "    <tr>\n",
              "      <th>Bacteriana</th>\n",
              "      <td>0.942</td>\n",
              "      <td>0.916</td>\n",
              "      <td>0.929</td>\n",
              "    </tr>\n",
              "    <tr>\n",
              "      <th>Normal</th>\n",
              "      <td>0.923</td>\n",
              "      <td>0.973</td>\n",
              "      <td>0.947</td>\n",
              "    </tr>\n",
              "    <tr>\n",
              "      <th>Viral</th>\n",
              "      <td>0.851</td>\n",
              "      <td>0.824</td>\n",
              "      <td>0.837</td>\n",
              "    </tr>\n",
              "  </tbody>\n",
              "</table>\n",
              "</div>\n",
              "      <button class=\"colab-df-convert\" onclick=\"convertToInteractive('df-df0edb36-1c2f-4e02-beb1-84cef5cb83db')\"\n",
              "              title=\"Convert this dataframe to an interactive table.\"\n",
              "              style=\"display:none;\">\n",
              "        \n",
              "  <svg xmlns=\"http://www.w3.org/2000/svg\" height=\"24px\"viewBox=\"0 0 24 24\"\n",
              "       width=\"24px\">\n",
              "    <path d=\"M0 0h24v24H0V0z\" fill=\"none\"/>\n",
              "    <path d=\"M18.56 5.44l.94 2.06.94-2.06 2.06-.94-2.06-.94-.94-2.06-.94 2.06-2.06.94zm-11 1L8.5 8.5l.94-2.06 2.06-.94-2.06-.94L8.5 2.5l-.94 2.06-2.06.94zm10 10l.94 2.06.94-2.06 2.06-.94-2.06-.94-.94-2.06-.94 2.06-2.06.94z\"/><path d=\"M17.41 7.96l-1.37-1.37c-.4-.4-.92-.59-1.43-.59-.52 0-1.04.2-1.43.59L10.3 9.45l-7.72 7.72c-.78.78-.78 2.05 0 2.83L4 21.41c.39.39.9.59 1.41.59.51 0 1.02-.2 1.41-.59l7.78-7.78 2.81-2.81c.8-.78.8-2.07 0-2.86zM5.41 20L4 18.59l7.72-7.72 1.47 1.35L5.41 20z\"/>\n",
              "  </svg>\n",
              "      </button>\n",
              "      \n",
              "  <style>\n",
              "    .colab-df-container {\n",
              "      display:flex;\n",
              "      flex-wrap:wrap;\n",
              "      gap: 12px;\n",
              "    }\n",
              "\n",
              "    .colab-df-convert {\n",
              "      background-color: #E8F0FE;\n",
              "      border: none;\n",
              "      border-radius: 50%;\n",
              "      cursor: pointer;\n",
              "      display: none;\n",
              "      fill: #1967D2;\n",
              "      height: 32px;\n",
              "      padding: 0 0 0 0;\n",
              "      width: 32px;\n",
              "    }\n",
              "\n",
              "    .colab-df-convert:hover {\n",
              "      background-color: #E2EBFA;\n",
              "      box-shadow: 0px 1px 2px rgba(60, 64, 67, 0.3), 0px 1px 3px 1px rgba(60, 64, 67, 0.15);\n",
              "      fill: #174EA6;\n",
              "    }\n",
              "\n",
              "    [theme=dark] .colab-df-convert {\n",
              "      background-color: #3B4455;\n",
              "      fill: #D2E3FC;\n",
              "    }\n",
              "\n",
              "    [theme=dark] .colab-df-convert:hover {\n",
              "      background-color: #434B5C;\n",
              "      box-shadow: 0px 1px 3px 1px rgba(0, 0, 0, 0.15);\n",
              "      filter: drop-shadow(0px 1px 2px rgba(0, 0, 0, 0.3));\n",
              "      fill: #FFFFFF;\n",
              "    }\n",
              "  </style>\n",
              "\n",
              "      <script>\n",
              "        const buttonEl =\n",
              "          document.querySelector('#df-df0edb36-1c2f-4e02-beb1-84cef5cb83db button.colab-df-convert');\n",
              "        buttonEl.style.display =\n",
              "          google.colab.kernel.accessAllowed ? 'block' : 'none';\n",
              "\n",
              "        async function convertToInteractive(key) {\n",
              "          const element = document.querySelector('#df-df0edb36-1c2f-4e02-beb1-84cef5cb83db');\n",
              "          const dataTable =\n",
              "            await google.colab.kernel.invokeFunction('convertToInteractive',\n",
              "                                                     [key], {});\n",
              "          if (!dataTable) return;\n",
              "\n",
              "          const docLinkHtml = 'Like what you see? Visit the ' +\n",
              "            '<a target=\"_blank\" href=https://colab.research.google.com/notebooks/data_table.ipynb>data table notebook</a>'\n",
              "            + ' to learn more about interactive tables.';\n",
              "          element.innerHTML = '';\n",
              "          dataTable['output_type'] = 'display_data';\n",
              "          await google.colab.output.renderOutput(dataTable, element);\n",
              "          const docLink = document.createElement('div');\n",
              "          docLink.innerHTML = docLinkHtml;\n",
              "          element.appendChild(docLink);\n",
              "        }\n",
              "      </script>\n",
              "    </div>\n",
              "  </div>\n",
              "  "
            ],
            "text/plain": [
              "            Recall  Precision  F1-Score\n",
              "Bacteriana   0.942      0.916     0.929\n",
              "Normal       0.923      0.973     0.947\n",
              "Viral        0.851      0.824     0.837"
            ]
          },
          "metadata": {},
          "execution_count": 14
        }
      ]
    },
    {
      "cell_type": "code",
      "metadata": {
        "id": "4Wq_5TlJXLLA"
      },
      "source": [
        "testBin = test_y\n",
        "predBin = pred\n",
        "\n",
        "i = 0\n",
        "while i < len(pred):\n",
        "    if predBin[i] == 0:\n",
        "        predBin[i] = 3\n",
        "    elif predBin[i] == 2:\n",
        "        predBin[i] = 3\n",
        "\n",
        "    i += 1\n",
        "\n",
        "k = 0\n",
        "while k < len(test_y):\n",
        "    if testBin[k] == 0:\n",
        "        testBin[k] = 3\n",
        "    elif testBin[k] == 2:\n",
        "        testBin[k] = 3\n",
        "\n",
        "    k += 1"
      ],
      "execution_count": null,
      "outputs": []
    },
    {
      "cell_type": "code",
      "metadata": {
        "colab": {
          "base_uri": "https://localhost:8080/",
          "height": 498
        },
        "id": "_get0GtBXNHg",
        "outputId": "97d6a36c-9db1-4ebe-e1ad-0905ec9963bc"
      },
      "source": [
        "matrix = metrics.confusion_matrix(testBin, predBin)\n",
        "\n",
        "# labels = \n",
        "labels = ['Normal' , 'Pneumonia']\n",
        "\n",
        "df_cm = pd.DataFrame(matrix, index = [i for i in \"01\"],\n",
        "                  columns = [i for i in \"01\"])\n",
        "\n",
        "df_cm.index = labels\n",
        "df_cm.columns = labels\n",
        "\n",
        "plt.figure(figsize = (10,7))\n",
        "ax = sns.heatmap(df_cm, annot=True, fmt='g')\n",
        "ax.set_title(\"Matriz de confusão para os dados de teste\\n\", size = 24)\n",
        "ax"
      ],
      "execution_count": null,
      "outputs": [
        {
          "output_type": "execute_result",
          "data": {
            "text/plain": [
              "<matplotlib.axes._subplots.AxesSubplot at 0x7fd029a5cf50>"
            ]
          },
          "metadata": {},
          "execution_count": 16
        },
        {
          "output_type": "display_data",
          "data": {
            "image/png": "[encoded data removed]",
            "text/plain": [
              "<Figure size 720x504 with 2 Axes>"
            ]
          },
          "metadata": {
            "needs_background": "light"
          }
        }
      ]
    },
    {
      "cell_type": "code",
      "metadata": {
        "colab": {
          "base_uri": "https://localhost:8080/",
          "height": 129
        },
        "id": "pm2tiy-1XPfA",
        "outputId": "2191dd28-902a-4ef8-a035-f5e81c2c6172"
      },
      "source": [
        "f1 = f1_score(testBin, predBin, average= None)\n",
        "recall = recall_score(testBin, predBin, average= None)\n",
        "precision = precision_score(testBin, predBin, average= None)\n",
        "acc = accuracy_score(testBin, predBin)\n",
        "\n",
        "print('ACC:', acc)\n",
        "\n",
        "metricas = pd.DataFrame([recall, precision, f1], columns=['Normal' , 'Pneumonia'], index = ['Recall', 'Precision','F1-Score']).T\n",
        "metricas\n"
      ],
      "execution_count": null,
      "outputs": [
        {
          "output_type": "stream",
          "name": "stdout",
          "text": [
            "ACC: 0.9615384615384616\n"
          ]
        },
        {
          "output_type": "execute_result",
          "data": {
            "text/html": [
              "\n",
              "  <div id=\"df-e8a8d058-c16d-469b-b09f-9e8a1e98e7be\">\n",
              "    <div class=\"colab-df-container\">\n",
              "      <div>\n",
              "<style scoped>\n",
              "    .dataframe tbody tr th:only-of-type {\n",
              "        vertical-align: middle;\n",
              "    }\n",
              "\n",
              "    .dataframe tbody tr th {\n",
              "        vertical-align: top;\n",
              "    }\n",
              "\n",
              "    .dataframe thead th {\n",
              "        text-align: right;\n",
              "    }\n",
              "</style>\n",
              "<table border=\"1\" class=\"dataframe\">\n",
              "  <thead>\n",
              "    <tr style=\"text-align: right;\">\n",
              "      <th></th>\n",
              "      <th>Recall</th>\n",
              "      <th>Precision</th>\n",
              "      <th>F1-Score</th>\n",
              "    </tr>\n",
              "  </thead>\n",
              "  <tbody>\n",
              "    <tr>\n",
              "      <th>Normal</th>\n",
              "      <td>0.923</td>\n",
              "      <td>0.973</td>\n",
              "      <td>0.947</td>\n",
              "    </tr>\n",
              "    <tr>\n",
              "      <th>Pneumonia</th>\n",
              "      <td>0.985</td>\n",
              "      <td>0.955</td>\n",
              "      <td>0.970</td>\n",
              "    </tr>\n",
              "  </tbody>\n",
              "</table>\n",
              "</div>\n",
              "      <button class=\"colab-df-convert\" onclick=\"convertToInteractive('df-e8a8d058-c16d-469b-b09f-9e8a1e98e7be')\"\n",
              "              title=\"Convert this dataframe to an interactive table.\"\n",
              "              style=\"display:none;\">\n",
              "        \n",
              "  <svg xmlns=\"http://www.w3.org/2000/svg\" height=\"24px\"viewBox=\"0 0 24 24\"\n",
              "       width=\"24px\">\n",
              "    <path d=\"M0 0h24v24H0V0z\" fill=\"none\"/>\n",
              "    <path d=\"M18.56 5.44l.94 2.06.94-2.06 2.06-.94-2.06-.94-.94-2.06-.94 2.06-2.06.94zm-11 1L8.5 8.5l.94-2.06 2.06-.94-2.06-.94L8.5 2.5l-.94 2.06-2.06.94zm10 10l.94 2.06.94-2.06 2.06-.94-2.06-.94-.94-2.06-.94 2.06-2.06.94z\"/><path d=\"M17.41 7.96l-1.37-1.37c-.4-.4-.92-.59-1.43-.59-.52 0-1.04.2-1.43.59L10.3 9.45l-7.72 7.72c-.78.78-.78 2.05 0 2.83L4 21.41c.39.39.9.59 1.41.59.51 0 1.02-.2 1.41-.59l7.78-7.78 2.81-2.81c.8-.78.8-2.07 0-2.86zM5.41 20L4 18.59l7.72-7.72 1.47 1.35L5.41 20z\"/>\n",
              "  </svg>\n",
              "      </button>\n",
              "      \n",
              "  <style>\n",
              "    .colab-df-container {\n",
              "      display:flex;\n",
              "      flex-wrap:wrap;\n",
              "      gap: 12px;\n",
              "    }\n",
              "\n",
              "    .colab-df-convert {\n",
              "      background-color: #E8F0FE;\n",
              "      border: none;\n",
              "      border-radius: 50%;\n",
              "      cursor: pointer;\n",
              "      display: none;\n",
              "      fill: #1967D2;\n",
              "      height: 32px;\n",
              "      padding: 0 0 0 0;\n",
              "      width: 32px;\n",
              "    }\n",
              "\n",
              "    .colab-df-convert:hover {\n",
              "      background-color: #E2EBFA;\n",
              "      box-shadow: 0px 1px 2px rgba(60, 64, 67, 0.3), 0px 1px 3px 1px rgba(60, 64, 67, 0.15);\n",
              "      fill: #174EA6;\n",
              "    }\n",
              "\n",
              "    [theme=dark] .colab-df-convert {\n",
              "      background-color: #3B4455;\n",
              "      fill: #D2E3FC;\n",
              "    }\n",
              "\n",
              "    [theme=dark] .colab-df-convert:hover {\n",
              "      background-color: #434B5C;\n",
              "      box-shadow: 0px 1px 3px 1px rgba(0, 0, 0, 0.15);\n",
              "      filter: drop-shadow(0px 1px 2px rgba(0, 0, 0, 0.3));\n",
              "      fill: #FFFFFF;\n",
              "    }\n",
              "  </style>\n",
              "\n",
              "      <script>\n",
              "        const buttonEl =\n",
              "          document.querySelector('#df-e8a8d058-c16d-469b-b09f-9e8a1e98e7be button.colab-df-convert');\n",
              "        buttonEl.style.display =\n",
              "          google.colab.kernel.accessAllowed ? 'block' : 'none';\n",
              "\n",
              "        async function convertToInteractive(key) {\n",
              "          const element = document.querySelector('#df-e8a8d058-c16d-469b-b09f-9e8a1e98e7be');\n",
              "          const dataTable =\n",
              "            await google.colab.kernel.invokeFunction('convertToInteractive',\n",
              "                                                     [key], {});\n",
              "          if (!dataTable) return;\n",
              "\n",
              "          const docLinkHtml = 'Like what you see? Visit the ' +\n",
              "            '<a target=\"_blank\" href=https://colab.research.google.com/notebooks/data_table.ipynb>data table notebook</a>'\n",
              "            + ' to learn more about interactive tables.';\n",
              "          element.innerHTML = '';\n",
              "          dataTable['output_type'] = 'display_data';\n",
              "          await google.colab.output.renderOutput(dataTable, element);\n",
              "          const docLink = document.createElement('div');\n",
              "          docLink.innerHTML = docLinkHtml;\n",
              "          element.appendChild(docLink);\n",
              "        }\n",
              "      </script>\n",
              "    </div>\n",
              "  </div>\n",
              "  "
            ],
            "text/plain": [
              "           Recall  Precision  F1-Score\n",
              "Normal      0.923      0.973     0.947\n",
              "Pneumonia   0.985      0.955     0.970"
            ]
          },
          "metadata": {},
          "execution_count": 17
        }
      ]
    }
  ]
}