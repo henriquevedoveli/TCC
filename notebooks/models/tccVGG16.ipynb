{
  "nbformat": 4,
  "nbformat_minor": 0,
  "metadata": {
    "colab": {
      "name": "tccVGG16",
      "provenance": [],
      "machine_shape": "hm",
      "mount_file_id": "1Gh3L-uspHSchZDDwuML0yGX4d1Ryg08f",
      "authorship_tag": "ABX9TyPsg/hPNZi1C6QwMZzPyA3a",
      "include_colab_link": true
    },
    "kernelspec": {
      "name": "python3",
      "display_name": "Python 3"
    },
    "language_info": {
      "name": "python"
    }
  },
  "cells": [
    {
      "cell_type": "markdown",
      "metadata": {
        "id": "view-in-github",
        "colab_type": "text"
      },
      "source": [
        "<a href=\"https://colab.research.google.com/github/henriquevedoveli/TCC/blob/main/notebooks/models/tccVGG16.ipynb\" target=\"_parent\"><img src=\"https://colab.research.google.com/assets/colab-badge.svg\" alt=\"Open In Colab\"/></a>"
      ]
    },
    {
      "cell_type": "code",
      "metadata": {
        "id": "2MCVOCsyizhe",
        "colab": {
          "base_uri": "https://localhost:8080/"
        },
        "outputId": "2c567d6b-620f-418e-c3ac-a30c1350a72d"
      },
      "source": [
        "from google.colab import drive\n",
        "drive.mount('/content/drive')\n",
        " \n",
        "import numpy as np\n",
        "import pandas as pd\n",
        "import seaborn as sns\n",
        "import matplotlib.pyplot as plt\n",
        "from sklearn import model_selection, metrics\n",
        "from sklearn.metrics import *\n",
        " \n",
        "import tensorflow as tf\n",
        "from tensorflow import keras\n",
        "from keras.layers import Convolution2D, MaxPooling2D, Flatten, Dense, BatchNormalization, Dropout, Input\n",
        " \n",
        "# keras models\n",
        "from keras.models import Sequential, Model, load_model\n",
        "from tensorflow.keras.optimizers import Adam\n",
        "from keras.callbacks import ModelCheckpoint, EarlyStopping#\n",
        "\n",
        "from keras.preprocessing.image import ImageDataGenerator\n",
        "from keras.preprocessing import image  \n",
        " \n",
        "########################################################################################\n",
        "import warnings\n",
        "warnings.filterwarnings(\"ignore\")\n",
        "\n",
        "pd.set_option('display.float_format', lambda x: '%.3f' % x)\n",
        "\n",
        "np.random.seed(7)\n",
        " \n",
        "import os\n",
        " \n",
        "%matplotlib inline"
      ],
      "execution_count": null,
      "outputs": [
        {
          "output_type": "stream",
          "name": "stdout",
          "text": [
            "Drive already mounted at /content/drive; to attempt to forcibly remount, call drive.mount(\"/content/drive\", force_remount=True).\n"
          ]
        }
      ]
    },
    {
      "cell_type": "code",
      "metadata": {
        "id": "2155kU83i4ZZ"
      },
      "source": [
        "TRAIN = '/content/drive/MyDrive/TCC/data/chest_xray/train'\n",
        "TEST = '/content/drive/MyDrive/TCC/data/chest_xray/test'\n",
        "VAL = '/content/drive/MyDrive/TCC/data/chest_xray/val'\n",
        "\n",
        "MODELS = '/content/drive/MyDrive/TCC/MODELS'"
      ],
      "execution_count": null,
      "outputs": []
    },
    {
      "cell_type": "code",
      "metadata": {
        "id": "eC2Sf6SGi7kI",
        "colab": {
          "base_uri": "https://localhost:8080/"
        },
        "outputId": "3ca72291-03e2-4349-ffb7-e45e51ca6b8a"
      },
      "source": [
        "trainData = ImageDataGenerator(zoom_range = [0.9, 1.25], \n",
        "                                        rotation_range = 10,\n",
        "                                        vertical_flip = True,\n",
        "                                        horizontal_flip = False, \n",
        "                                        width_shift_range = 0.1, \n",
        "                                        height_shift_range = 0.1,\n",
        "                                        # brightness_range = [0.5, 1],\n",
        "                                        # shear_range = .7,\n",
        "                                        fill_mode='constant', \n",
        "                                        cval=0)\n",
        "\n",
        "trainData = trainData.flow_from_directory(directory=TRAIN,\n",
        "                                       batch_size = 32,\n",
        "                                       target_size=(224,224),\n",
        "                                       color_mode = 'grayscale',\n",
        "                                      )\n",
        "\n",
        "\n",
        "valData = ImageDataGenerator()\n",
        "valData = valData.flow_from_directory(\n",
        "        VAL,\n",
        "        target_size = (224,224),\n",
        "        batch_size = 32,\n",
        "        color_mode = 'grayscale'\n",
        "        )\n",
        "\n",
        "\n",
        "testData = ImageDataGenerator()\n",
        "testData = testData.flow_from_directory(directory=TEST,\n",
        "                                      batch_size = 32,\n",
        "                                      target_size=(224,224),\n",
        "                                      color_mode = 'grayscale')"
      ],
      "execution_count": null,
      "outputs": [
        {
          "output_type": "stream",
          "name": "stdout",
          "text": [
            "Found 5082 images belonging to 3 classes.\n",
            "Found 150 images belonging to 3 classes.\n",
            "Found 624 images belonging to 3 classes.\n"
          ]
        }
      ]
    },
    {
      "cell_type": "markdown",
      "metadata": {
        "id": "cCKxcbWAjAbI"
      },
      "source": [
        "# Pesando os dados"
      ]
    },
    {
      "cell_type": "code",
      "metadata": {
        "colab": {
          "base_uri": "https://localhost:8080/"
        },
        "id": "KMwTRXmH8ip8",
        "outputId": "5263ad29-642e-49fe-ab58-6b6680594ffd"
      },
      "source": [
        "normalLength = len(os.listdir(TRAIN + '/' + 'NORMAL'))\n",
        "bacterialLength = len(os.listdir(TRAIN + '/' + 'BACTERIAL'))\n",
        "viralLength = len(os.listdir(TRAIN + '/' + 'VIRAL'))\n",
        "dataLength = normalLength + bacterialLength +  viralLength\n",
        "\n",
        "print('Qtd dados de treino: ', dataLength)\n",
        "print('Qtd dados de pulmão saudavel para treino: ', normalLength)\n",
        "print('Qtd dados Bacterial', bacterialLength)\n",
        "print('Qtd dados Viral', viralLength)"
      ],
      "execution_count": null,
      "outputs": [
        {
          "output_type": "stream",
          "name": "stdout",
          "text": [
            "Qtd dados de treino:  5082\n",
            "Qtd dados de pulmão saudavel para treino:  1299\n",
            "Qtd dados Bacterial 2488\n",
            "Qtd dados Viral 1295\n"
          ]
        }
      ]
    },
    {
      "cell_type": "code",
      "metadata": {
        "id": "UYDzZ1h2i9Vr",
        "colab": {
          "base_uri": "https://localhost:8080/"
        },
        "outputId": "414bd053-9103-43b4-a49d-47b86b0e0a90"
      },
      "source": [
        "class_weight = {0: 1., # bacterial\n",
        "                1: bacterialLength / normalLength, #normal \n",
        "                2: bacterialLength / viralLength} # viral \n",
        "\n",
        "print(class_weight)"
      ],
      "execution_count": null,
      "outputs": [
        {
          "output_type": "stream",
          "name": "stdout",
          "text": [
            "{0: 1.0, 1: 1.9153194765204002, 2: 1.9212355212355212}\n"
          ]
        }
      ]
    },
    {
      "cell_type": "markdown",
      "metadata": {
        "id": "jUzMhG0GjmDQ"
      },
      "source": [
        "# Funções para a avaliação do modelo"
      ]
    },
    {
      "cell_type": "code",
      "metadata": {
        "id": "gGdN8QoBjf4x"
      },
      "source": [
        "def generateImages(paths):\n",
        "    '''\n",
        "    params: paths ->\n",
        "    '''\n",
        "    test_images=[]\n",
        "    interpret= trainData.class_indices\n",
        "    test_y=[]\n",
        "    \n",
        "    for path in paths:\n",
        "        y=''\n",
        "        if 'NORMAL' in path:\n",
        "            y='NORMAL'\n",
        "        elif 'VIRAL' in path:   \n",
        "            y='VIRAL'\n",
        "        elif 'BACTERIAL' in path:   \n",
        "            y='BACTERIAL'   \n",
        "        \n",
        "        for image_path in os.listdir(path):\n",
        "            new_path=os.path.join(TEST, y)\n",
        "            new_path=os.path.join(new_path,image_path)\n",
        "\n",
        "            temp_images=image.load_img(new_path,\n",
        "                                       color_mode = 'grayscale',\n",
        "                                       target_size=(224,224)) \n",
        "            temp_images=image.img_to_array(temp_images)\n",
        "            test_images.append(temp_images)\n",
        "            test_y.append(interpret[y])\n",
        "\n",
        "    return test_images,test_y"
      ],
      "execution_count": null,
      "outputs": []
    },
    {
      "cell_type": "code",
      "metadata": {
        "id": "iYuAZyc0jp-o"
      },
      "source": [
        "def convertData(model, path, prob = 0):\n",
        "    '''\n",
        "    params: model ->\n",
        "            path ->\n",
        "            prob ->\n",
        "    '''\n",
        "    all_paths=[]\n",
        "    print(\"• GERANDO PATHS\")\n",
        "\n",
        "    ##### REVISAR #######\n",
        "    for directory in os.listdir(path):\n",
        "        all_paths.append(os.path.join(path,directory))\n",
        "    ##### REVISAR #######\n",
        "    \n",
        "    test_images, test_y= generateImages(all_paths)\n",
        "\n",
        "    test_images=np.array(test_images)\n",
        "\n",
        "    print(\"• GERANDO PREVISÕES\")\n",
        "    if prob == 0:\n",
        "        predictions = np.argmax(model.predict(test_images), axis=1)\n",
        "    else:\n",
        "        predictions = model.predict_on_batch(test_images)\n",
        "\n",
        "    ##### FAZER MODIFICACAO +75 AQ\n",
        "    ##### SUBSTITUIR PREDICTIONS POR PRED75\n",
        "    print(\"ACURACIA DO MODELO PARA OS DADOS DE TESTE: {}\".format( metrics.accuracy_score(test_y, predictions)))\n",
        "\n",
        "    return test_y, predictions, test_images"
      ],
      "execution_count": null,
      "outputs": []
    },
    {
      "cell_type": "markdown",
      "metadata": {
        "id": "7LG-Tjz_jFu4"
      },
      "source": [
        "# VGG TRAINING"
      ]
    },
    {
      "cell_type": "code",
      "metadata": {
        "id": "8c5w-t8djHNF"
      },
      "source": [
        "modelVGG = tf.keras.applications.VGG16(input_shape=(224, 224, 1),include_top=False, weights=None)\n",
        "\n",
        "## Valores encontrados com hypertuning\n",
        "units = 840\n",
        "lr = 0.0001\n",
        "######################################\n",
        "\n",
        "modelVGG = tf.keras.Sequential([\n",
        "        modelVGG,\n",
        "        tf.keras.layers.Flatten(),\n",
        "        tf.keras.layers.Dense(units, activation=tf.nn.relu),\n",
        "        tf.keras.layers.Dropout(0.2),\n",
        "        tf.keras.layers.Dense(units, activation=tf.nn.relu),\n",
        "        tf.keras.layers.Dropout(0.2),\n",
        "        tf.keras.layers.Dense(3,activation=tf.nn.softmax)\n",
        "        ])\n",
        "\n",
        "\n",
        "modelVGG.compile(loss='categorical_crossentropy', \n",
        "                     optimizer=keras.optimizers.Adam(learning_rate=lr),\n",
        "                     metrics = ['accuracy'])"
      ],
      "execution_count": null,
      "outputs": []
    },
    {
      "cell_type": "code",
      "source": [
        "modelVGG.summary()"
      ],
      "metadata": {
        "colab": {
          "base_uri": "https://localhost:8080/"
        },
        "id": "yRGgCWWj_EoH",
        "outputId": "f351d890-2af0-4ad9-94e6-0f3dacf73d1d"
      },
      "execution_count": null,
      "outputs": [
        {
          "output_type": "stream",
          "name": "stdout",
          "text": [
            "Model: \"sequential\"\n",
            "_________________________________________________________________\n",
            " Layer (type)                Output Shape              Param #   \n",
            "=================================================================\n",
            " vgg16 (Functional)          (None, 7, 7, 512)         14713536  \n",
            "                                                                 \n",
            " flatten (Flatten)           (None, 25088)             0         \n",
            "                                                                 \n",
            " dense (Dense)               (None, 840)               21074760  \n",
            "                                                                 \n",
            " dropout (Dropout)           (None, 840)               0         \n",
            "                                                                 \n",
            " dense_1 (Dense)             (None, 840)               706440    \n",
            "                                                                 \n",
            " dropout_1 (Dropout)         (None, 840)               0         \n",
            "                                                                 \n",
            " dense_2 (Dense)             (None, 3)                 2523      \n",
            "                                                                 \n",
            "=================================================================\n",
            "Total params: 36,497,259\n",
            "Trainable params: 36,497,259\n",
            "Non-trainable params: 0\n",
            "_________________________________________________________________\n"
          ]
        }
      ]
    },
    {
      "cell_type": "code",
      "metadata": {
        "id": "OYtg3YNYjKV4",
        "colab": {
          "base_uri": "https://localhost:8080/"
        },
        "outputId": "dc56f6c3-728e-4fa7-a37e-9ec219651447"
      },
      "source": [
        "early = EarlyStopping(monitor='loss', min_delta=0, patience=10, verbose=1, mode='auto')\n",
        "\n",
        "hist = modelVGG.fit_generator(steps_per_epoch= trainData.n//32,\n",
        "                           generator=trainData, \n",
        "                           validation_data= valData,\n",
        "                           validation_steps=valData.n//32,\n",
        "                           epochs=20,\n",
        "                           class_weight = class_weight)"
      ],
      "execution_count": null,
      "outputs": [
        {
          "output_type": "stream",
          "name": "stdout",
          "text": [
            "Epoch 1/20\n",
            "158/158 [==============================] - 127s 802ms/step - loss: 0.2840 - accuracy: 0.9119 - val_loss: 0.6244 - val_accuracy: 0.8125\n",
            "Epoch 2/20\n",
            "158/158 [==============================] - 127s 798ms/step - loss: 0.2761 - accuracy: 0.9117 - val_loss: 0.6677 - val_accuracy: 0.7734\n",
            "Epoch 3/20\n",
            "158/158 [==============================] - 127s 799ms/step - loss: 0.2536 - accuracy: 0.9212 - val_loss: 0.7471 - val_accuracy: 0.7891\n",
            "Epoch 4/20\n",
            "158/158 [==============================] - 127s 798ms/step - loss: 0.2643 - accuracy: 0.9143 - val_loss: 0.6714 - val_accuracy: 0.7891\n",
            "Epoch 5/20\n",
            "158/158 [==============================] - 127s 799ms/step - loss: 0.2369 - accuracy: 0.9242 - val_loss: 0.6780 - val_accuracy: 0.7891\n",
            "Epoch 6/20\n",
            "158/158 [==============================] - 127s 800ms/step - loss: 0.2467 - accuracy: 0.9230 - val_loss: 0.7639 - val_accuracy: 0.7656\n",
            "Epoch 7/20\n",
            "158/158 [==============================] - 127s 798ms/step - loss: 0.2377 - accuracy: 0.9273 - val_loss: 0.7165 - val_accuracy: 0.7891\n",
            "Epoch 8/20\n",
            "158/158 [==============================] - 127s 799ms/step - loss: 0.2296 - accuracy: 0.9269 - val_loss: 0.6415 - val_accuracy: 0.8047\n",
            "Epoch 9/20\n",
            "158/158 [==============================] - 127s 799ms/step - loss: 0.2242 - accuracy: 0.9327 - val_loss: 0.8561 - val_accuracy: 0.8047\n",
            "Epoch 10/20\n",
            "158/158 [==============================] - 127s 799ms/step - loss: 0.2255 - accuracy: 0.9305 - val_loss: 0.7656 - val_accuracy: 0.7969\n",
            "Epoch 11/20\n",
            "158/158 [==============================] - 127s 801ms/step - loss: 0.2300 - accuracy: 0.9317 - val_loss: 0.6470 - val_accuracy: 0.7891\n",
            "Epoch 12/20\n",
            "158/158 [==============================] - 127s 800ms/step - loss: 0.2061 - accuracy: 0.9364 - val_loss: 0.8293 - val_accuracy: 0.7734\n",
            "Epoch 13/20\n",
            "158/158 [==============================] - 127s 798ms/step - loss: 0.1947 - accuracy: 0.9438 - val_loss: 0.7333 - val_accuracy: 0.7812\n",
            "Epoch 14/20\n",
            "158/158 [==============================] - 127s 799ms/step - loss: 0.2022 - accuracy: 0.9392 - val_loss: 0.5471 - val_accuracy: 0.7969\n",
            "Epoch 15/20\n",
            "158/158 [==============================] - 127s 799ms/step - loss: 0.1953 - accuracy: 0.9418 - val_loss: 0.8234 - val_accuracy: 0.7891\n",
            "Epoch 16/20\n",
            "158/158 [==============================] - 127s 799ms/step - loss: 0.2086 - accuracy: 0.9337 - val_loss: 0.5743 - val_accuracy: 0.8359\n",
            "Epoch 17/20\n",
            "158/158 [==============================] - 127s 802ms/step - loss: 0.2060 - accuracy: 0.9364 - val_loss: 0.6501 - val_accuracy: 0.7969\n",
            "Epoch 18/20\n",
            "158/158 [==============================] - 127s 800ms/step - loss: 0.1918 - accuracy: 0.9418 - val_loss: 0.7672 - val_accuracy: 0.7969\n",
            "Epoch 19/20\n",
            "158/158 [==============================] - 127s 802ms/step - loss: 0.1802 - accuracy: 0.9461 - val_loss: 0.7159 - val_accuracy: 0.8516\n",
            "Epoch 20/20\n",
            "158/158 [==============================] - 127s 800ms/step - loss: 0.1772 - accuracy: 0.9463 - val_loss: 0.9083 - val_accuracy: 0.7656\n"
          ]
        }
      ]
    },
    {
      "cell_type": "code",
      "metadata": {
        "id": "eY9hSsUC71tw"
      },
      "source": [
        "temp = pd.DataFrame([hist.history['accuracy'], hist.history['val_accuracy'], hist.history['loss'], hist.history['val_loss']])\n",
        "\n",
        "histT = temp.T\n",
        "histT.columns = ['acc', 'val_acc', 'loss', 'val_loss']\n",
        "\n",
        "from google.colab import files\n",
        "numEpoch = 20\n",
        "histT.to_csv(f'histTreinoVGG{numEpoch}.csv')\n",
        "files.download(f'histTreinoVGG{numEpoch}.csv')\n",
        "\n",
        "histT"
      ],
      "execution_count": null,
      "outputs": []
    },
    {
      "cell_type": "code",
      "metadata": {
        "id": "JUnJHO4YIHUt",
        "colab": {
          "base_uri": "https://localhost:8080/",
          "height": 419
        },
        "outputId": "567b11f4-303f-4b47-ffcc-b3d54b5c6e71"
      },
      "source": [
        "temp = pd.DataFrame([hist.history['accuracy'], hist.history['val_accuracy'], hist.history['loss'], hist.history['val_loss']])\n",
        "\n",
        "tempT = temp.T\n",
        "tempT.columns = ['acc', 'val_acc', 'loss', 'val_loss']\n",
        "\n",
        "histTreinoatg = pd.read_csv('histTreinoVGG80.csv')\n",
        "histTreinoatg = histTreinoatg[['acc', 'val_acc', 'loss', 'val_loss']]\n",
        "histT = histTreinoatg.append(tempT)\n",
        "histT = histT.reset_index(drop=True)\n",
        "\n",
        "from google.colab import files\n",
        "numEpoch = 100\n",
        "histT.to_csv(f'histTreinoVGG{numEpoch}.csv')\n",
        "files.download(f'histTreinoVGG{numEpoch}.csv')\n",
        "\n",
        "histT"
      ],
      "execution_count": null,
      "outputs": [
        {
          "output_type": "display_data",
          "data": {
            "application/javascript": [
              "\n",
              "    async function download(id, filename, size) {\n",
              "      if (!google.colab.kernel.accessAllowed) {\n",
              "        return;\n",
              "      }\n",
              "      const div = document.createElement('div');\n",
              "      const label = document.createElement('label');\n",
              "      label.textContent = `Downloading \"${filename}\": `;\n",
              "      div.appendChild(label);\n",
              "      const progress = document.createElement('progress');\n",
              "      progress.max = size;\n",
              "      div.appendChild(progress);\n",
              "      document.body.appendChild(div);\n",
              "\n",
              "      const buffers = [];\n",
              "      let downloaded = 0;\n",
              "\n",
              "      const channel = await google.colab.kernel.comms.open(id);\n",
              "      // Send a message to notify the kernel that we're ready.\n",
              "      channel.send({})\n",
              "\n",
              "      for await (const message of channel.messages) {\n",
              "        // Send a message to notify the kernel that we're ready.\n",
              "        channel.send({})\n",
              "        if (message.buffers) {\n",
              "          for (const buffer of message.buffers) {\n",
              "            buffers.push(buffer);\n",
              "            downloaded += buffer.byteLength;\n",
              "            progress.value = downloaded;\n",
              "          }\n",
              "        }\n",
              "      }\n",
              "      const blob = new Blob(buffers, {type: 'application/binary'});\n",
              "      const a = document.createElement('a');\n",
              "      a.href = window.URL.createObjectURL(blob);\n",
              "      a.download = filename;\n",
              "      div.appendChild(a);\n",
              "      a.click();\n",
              "      div.remove();\n",
              "    }\n",
              "  "
            ],
            "text/plain": [
              "<IPython.core.display.Javascript object>"
            ]
          },
          "metadata": {}
        },
        {
          "output_type": "display_data",
          "data": {
            "application/javascript": [
              "download(\"download_d0a02581-49ce-4ddc-95bd-3843e3e34c6f\", \"histTreinoVGG100.csv\", 6919)"
            ],
            "text/plain": [
              "<IPython.core.display.Javascript object>"
            ]
          },
          "metadata": {}
        },
        {
          "output_type": "execute_result",
          "data": {
            "text/html": [
              "<div>\n",
              "<style scoped>\n",
              "    .dataframe tbody tr th:only-of-type {\n",
              "        vertical-align: middle;\n",
              "    }\n",
              "\n",
              "    .dataframe tbody tr th {\n",
              "        vertical-align: top;\n",
              "    }\n",
              "\n",
              "    .dataframe thead th {\n",
              "        text-align: right;\n",
              "    }\n",
              "</style>\n",
              "<table border=\"1\" class=\"dataframe\">\n",
              "  <thead>\n",
              "    <tr style=\"text-align: right;\">\n",
              "      <th></th>\n",
              "      <th>acc</th>\n",
              "      <th>val_acc</th>\n",
              "      <th>loss</th>\n",
              "      <th>val_loss</th>\n",
              "    </tr>\n",
              "  </thead>\n",
              "  <tbody>\n",
              "    <tr>\n",
              "      <th>0</th>\n",
              "      <td>0.374</td>\n",
              "      <td>0.531</td>\n",
              "      <td>1.597</td>\n",
              "      <td>0.907</td>\n",
              "    </tr>\n",
              "    <tr>\n",
              "      <th>1</th>\n",
              "      <td>0.558</td>\n",
              "      <td>0.672</td>\n",
              "      <td>1.350</td>\n",
              "      <td>0.777</td>\n",
              "    </tr>\n",
              "    <tr>\n",
              "      <th>2</th>\n",
              "      <td>0.606</td>\n",
              "      <td>0.766</td>\n",
              "      <td>1.131</td>\n",
              "      <td>0.586</td>\n",
              "    </tr>\n",
              "    <tr>\n",
              "      <th>3</th>\n",
              "      <td>0.641</td>\n",
              "      <td>0.695</td>\n",
              "      <td>1.033</td>\n",
              "      <td>0.596</td>\n",
              "    </tr>\n",
              "    <tr>\n",
              "      <th>4</th>\n",
              "      <td>0.690</td>\n",
              "      <td>0.766</td>\n",
              "      <td>0.933</td>\n",
              "      <td>0.486</td>\n",
              "    </tr>\n",
              "    <tr>\n",
              "      <th>...</th>\n",
              "      <td>...</td>\n",
              "      <td>...</td>\n",
              "      <td>...</td>\n",
              "      <td>...</td>\n",
              "    </tr>\n",
              "    <tr>\n",
              "      <th>95</th>\n",
              "      <td>0.934</td>\n",
              "      <td>0.836</td>\n",
              "      <td>0.209</td>\n",
              "      <td>0.574</td>\n",
              "    </tr>\n",
              "    <tr>\n",
              "      <th>96</th>\n",
              "      <td>0.936</td>\n",
              "      <td>0.797</td>\n",
              "      <td>0.206</td>\n",
              "      <td>0.650</td>\n",
              "    </tr>\n",
              "    <tr>\n",
              "      <th>97</th>\n",
              "      <td>0.942</td>\n",
              "      <td>0.797</td>\n",
              "      <td>0.192</td>\n",
              "      <td>0.767</td>\n",
              "    </tr>\n",
              "    <tr>\n",
              "      <th>98</th>\n",
              "      <td>0.946</td>\n",
              "      <td>0.852</td>\n",
              "      <td>0.180</td>\n",
              "      <td>0.716</td>\n",
              "    </tr>\n",
              "    <tr>\n",
              "      <th>99</th>\n",
              "      <td>0.946</td>\n",
              "      <td>0.766</td>\n",
              "      <td>0.177</td>\n",
              "      <td>0.908</td>\n",
              "    </tr>\n",
              "  </tbody>\n",
              "</table>\n",
              "<p>100 rows × 4 columns</p>\n",
              "</div>"
            ],
            "text/plain": [
              "     acc  val_acc  loss  val_loss\n",
              "0  0.374    0.531 1.597     0.907\n",
              "1  0.558    0.672 1.350     0.777\n",
              "2  0.606    0.766 1.131     0.586\n",
              "3  0.641    0.695 1.033     0.596\n",
              "4  0.690    0.766 0.933     0.486\n",
              "..   ...      ...   ...       ...\n",
              "95 0.934    0.836 0.209     0.574\n",
              "96 0.936    0.797 0.206     0.650\n",
              "97 0.942    0.797 0.192     0.767\n",
              "98 0.946    0.852 0.180     0.716\n",
              "99 0.946    0.766 0.177     0.908\n",
              "\n",
              "[100 rows x 4 columns]"
            ]
          },
          "metadata": {},
          "execution_count": 27
        }
      ]
    },
    {
      "cell_type": "code",
      "metadata": {
        "id": "I1xj_Hfsjm32"
      },
      "source": [
        "histT = pd.read_csv('histTreinoVGG100.csv')"
      ],
      "execution_count": null,
      "outputs": []
    },
    {
      "cell_type": "code",
      "metadata": {
        "id": "DiDvQ3i1NBRy",
        "colab": {
          "base_uri": "https://localhost:8080/",
          "height": 381
        },
        "outputId": "8e59886c-a1ca-4e68-a6aa-095609723b88"
      },
      "source": [
        "fig, axs = plt.subplots(1,2)\n",
        "fig.set_figheight(5)\n",
        "fig.set_figwidth(15)\n",
        "\n",
        "axs[0].plot(histT.index + 1, histT['acc'])\n",
        "axs[0].plot(histT.index + 1, histT['val_acc'], '--')\n",
        "axs[0].set_title('(a)', size = 25)\n",
        "axs[0].set_xlabel(\"EPOCAS\", size = 16)\n",
        "axs[0].set_ylabel(\"ACURÁCIA\", size =16)\n",
        "axs[0].set_yticks([0.3,0.4,0.5,0.6,0.7,0.8,0.9,1])\n",
        "axs[0].set_xticks([1,10,20,30,40,50,60,70,80,90,100])\n",
        "axs[0].legend(['ACURACIA TESTE', 'ACURACIA VALIDACAO'])\n",
        "axs[0].grid(True)\n",
        "\n",
        "\n",
        "axs[1].plot(histT.index + 1, histT['loss'])\n",
        "axs[1].plot(histT.index + 1, histT['val_loss'], '--')\n",
        "axs[1].set_title('(b)', size = 25)\n",
        "axs[1].set_xlabel(\"EPOCAS\", size =16)\n",
        "axs[1].set_ylabel(\"CUSTO\", size =16)\n",
        "axs[1].legend(['CUSTO TESTE', 'CUSTO VALIDACAO'])\n",
        "# axs[1].set_yticks([1.8,1.6,1.4,1.2,1,.8,.6,.4,.2,0])\n",
        "axs[1].set_xticks([1,10,20,30,40,50,60,70,80,90,100])\n",
        "axs[1].grid(True)\n",
        "\n",
        "plt.plot()"
      ],
      "execution_count": null,
      "outputs": [
        {
          "output_type": "execute_result",
          "data": {
            "text/plain": [
              "[]"
            ]
          },
          "metadata": {},
          "execution_count": 5
        },
        {
          "output_type": "display_data",
          "data": {
            "image/png": "[encoded data removed]",
            "text/plain": [
              "<Figure size 1080x360 with 2 Axes>"
            ]
          },
          "metadata": {
            "needs_background": "light"
          }
        }
      ]
    },
    {
      "cell_type": "code",
      "metadata": {
        "id": "Mym0p0Rl7Xly",
        "colab": {
          "base_uri": "https://localhost:8080/"
        },
        "outputId": "8e1287c2-38f3-4022-8d03-e94c620c124f"
      },
      "source": [
        "modelVGG.save('/content/drive/MyDrive/TCC/MODELS/VGGMODEL')"
      ],
      "execution_count": null,
      "outputs": [
        {
          "output_type": "stream",
          "name": "stdout",
          "text": [
            "INFO:tensorflow:Assets written to: /content/drive/MyDrive/TCC/MODELS/VGGMODEL/assets\n"
          ]
        }
      ]
    },
    {
      "cell_type": "code",
      "metadata": {
        "id": "dbYG20nDIYTF"
      },
      "source": [
        "modelVGG = keras.models.load_model('/content/drive/MyDrive/TCC/MODELS/VGGMODEL')"
      ],
      "execution_count": null,
      "outputs": []
    },
    {
      "cell_type": "markdown",
      "metadata": {
        "id": "0Y7Ply-OjuPI"
      },
      "source": [
        "# AVALIAÇÃO MODELO VGG-16"
      ]
    },
    {
      "cell_type": "code",
      "metadata": {
        "id": "WdXIQxYkjt23",
        "colab": {
          "base_uri": "https://localhost:8080/",
          "height": 549
        },
        "outputId": "56a5f35d-a1e3-4075-8932-e65ab2b1cb84"
      },
      "source": [
        "test_y, pred, test_images = convertData(modelVGG, TEST, 0)\n",
        "\n",
        "matrix = metrics.confusion_matrix(test_y, pred)\n",
        "\n",
        "# labels = \n",
        "labels = ['Bacteriana' , 'Normal', 'Viral']\n",
        "\n",
        "df_cm = pd.DataFrame(matrix, index = [i for i in \"012\"],\n",
        "                  columns = [i for i in \"012\"])\n",
        "\n",
        "df_cm.index = labels\n",
        "df_cm.columns = labels\n",
        "\n",
        "plt.figure(figsize = (10,7))\n",
        "ax = sns.heatmap(df_cm, annot=True, fmt='g')\n",
        "ax.set_title(\"Matriz de confusão para os dados de teste\\n\", size = 24)\n",
        "ax"
      ],
      "execution_count": null,
      "outputs": [
        {
          "output_type": "stream",
          "name": "stdout",
          "text": [
            "• GERANDO PATHS\n",
            "• GERANDO PREVISÕES\n",
            "ACURACIA DO MODELO PARA OS DADOS DE TESTE: 0.8701923076923077\n"
          ]
        },
        {
          "output_type": "execute_result",
          "data": {
            "text/plain": [
              "<matplotlib.axes._subplots.AxesSubplot at 0x7f641f0e1cd0>"
            ]
          },
          "metadata": {},
          "execution_count": 30
        },
        {
          "output_type": "display_data",
          "data": {
            "image/png": "[encoded data removed]",
            "text/plain": [
              "<Figure size 720x504 with 2 Axes>"
            ]
          },
          "metadata": {
            "needs_background": "light"
          }
        }
      ]
    },
    {
      "cell_type": "markdown",
      "metadata": {
        "id": "l_NpPi2oKay3"
      },
      "source": [
        "0: Bacterial\n",
        "\n",
        "1: Normal\n",
        "\n",
        "2: Viral"
      ]
    },
    {
      "cell_type": "code",
      "metadata": {
        "id": "DJOxchAAKz1e",
        "colab": {
          "base_uri": "https://localhost:8080/"
        },
        "outputId": "dfeb00ff-9143-4a2c-d8cf-a112e4021448"
      },
      "source": [
        "normalLength = len(os.listdir(TEST + '/' + 'NORMAL'))\n",
        "bacterialLength = len(os.listdir(TEST + '/' + 'BACTERIAL'))\n",
        "viralLength = len(os.listdir(TEST + '/' + 'VIRAL'))\n",
        "dataLength = normalLength + bacterialLength +  viralLength\n",
        "\n",
        "print('Qtd dados de treino: ', dataLength)\n",
        "print('Qtd dados de pulmão saudavel para treino: ', normalLength)\n",
        "print('Qtd dados Bacterial', bacterialLength)\n",
        "print('Qtd dados Viral', viralLength)"
      ],
      "execution_count": null,
      "outputs": [
        {
          "output_type": "stream",
          "name": "stdout",
          "text": [
            "Qtd dados de treino:  624\n",
            "Qtd dados de pulmão saudavel para treino:  234\n",
            "Qtd dados Bacterial 242\n",
            "Qtd dados Viral 148\n"
          ]
        }
      ]
    },
    {
      "cell_type": "code",
      "metadata": {
        "id": "UuduWgQgj1d6",
        "colab": {
          "base_uri": "https://localhost:8080/",
          "height": 142
        },
        "outputId": "9645e407-5f04-47a9-a9b6-96d7d735c0d5"
      },
      "source": [
        "f1 = f1_score(test_y, pred, average= None)\n",
        "recall = recall_score(test_y, pred, average= None)\n",
        "precision = precision_score(test_y, pred, average= None)\n",
        "\n",
        "metricas = pd.DataFrame([recall, precision, f1], columns=['Bacteriana' , 'Normal', 'Viral'], index = ['Recall', 'Precision','F1-Score']).T\n",
        "metricas"
      ],
      "execution_count": null,
      "outputs": [
        {
          "output_type": "execute_result",
          "data": {
            "text/html": [
              "<div>\n",
              "<style scoped>\n",
              "    .dataframe tbody tr th:only-of-type {\n",
              "        vertical-align: middle;\n",
              "    }\n",
              "\n",
              "    .dataframe tbody tr th {\n",
              "        vertical-align: top;\n",
              "    }\n",
              "\n",
              "    .dataframe thead th {\n",
              "        text-align: right;\n",
              "    }\n",
              "</style>\n",
              "<table border=\"1\" class=\"dataframe\">\n",
              "  <thead>\n",
              "    <tr style=\"text-align: right;\">\n",
              "      <th></th>\n",
              "      <th>Recall</th>\n",
              "      <th>Precision</th>\n",
              "      <th>F1-Score</th>\n",
              "    </tr>\n",
              "  </thead>\n",
              "  <tbody>\n",
              "    <tr>\n",
              "      <th>Bacteriana</th>\n",
              "      <td>0.855</td>\n",
              "      <td>0.870</td>\n",
              "      <td>0.863</td>\n",
              "    </tr>\n",
              "    <tr>\n",
              "      <th>Normal</th>\n",
              "      <td>0.944</td>\n",
              "      <td>0.944</td>\n",
              "      <td>0.944</td>\n",
              "    </tr>\n",
              "    <tr>\n",
              "      <th>Viral</th>\n",
              "      <td>0.777</td>\n",
              "      <td>0.757</td>\n",
              "      <td>0.767</td>\n",
              "    </tr>\n",
              "  </tbody>\n",
              "</table>\n",
              "</div>"
            ],
            "text/plain": [
              "            Recall  Precision  F1-Score\n",
              "Bacteriana   0.855      0.870     0.863\n",
              "Normal       0.944      0.944     0.944\n",
              "Viral        0.777      0.757     0.767"
            ]
          },
          "metadata": {},
          "execution_count": 31
        }
      ]
    },
    {
      "cell_type": "code",
      "metadata": {
        "id": "e8wdZpgJ-pOT"
      },
      "source": [
        "testBin = test_y\n",
        "predBin = pred\n",
        "\n",
        "i = 0\n",
        "while i < len(pred):\n",
        "    if predBin[i] == 0:\n",
        "        predBin[i] = 3\n",
        "    elif predBin[i] == 2:\n",
        "        predBin[i] = 3\n",
        "\n",
        "    i += 1\n",
        "\n",
        "k = 0\n",
        "while k < len(test_y):\n",
        "    if testBin[k] == 0:\n",
        "        testBin[k] = 3\n",
        "    elif testBin[k] == 2:\n",
        "        testBin[k] = 3\n",
        "\n",
        "    k += 1"
      ],
      "execution_count": null,
      "outputs": []
    },
    {
      "cell_type": "code",
      "metadata": {
        "id": "vu0lqAXRA0Gb",
        "colab": {
          "base_uri": "https://localhost:8080/"
        },
        "outputId": "d34d7a4c-0c89-41ae-c554-b7a381e1f7f6"
      },
      "source": [
        "matrix = metrics.confusion_matrix(testBin, predBin)\n",
        "matrix"
      ],
      "execution_count": null,
      "outputs": [
        {
          "output_type": "execute_result",
          "data": {
            "text/plain": [
              "array([[221,  13],\n",
              "       [ 13, 377]])"
            ]
          },
          "metadata": {},
          "execution_count": 34
        }
      ]
    },
    {
      "cell_type": "code",
      "metadata": {
        "id": "MV-1GrVe_kMJ",
        "colab": {
          "base_uri": "https://localhost:8080/",
          "height": 498
        },
        "outputId": "42274b10-44ab-4972-94de-d7ee163b7743"
      },
      "source": [
        "matrix = metrics.confusion_matrix(testBin, predBin)\n",
        "\n",
        "# labels = \n",
        "labels = ['Normal' , 'Pneumonia']\n",
        "\n",
        "df_cm = pd.DataFrame(matrix, index = [i for i in \"01\"],\n",
        "                  columns = [i for i in \"01\"])\n",
        "\n",
        "df_cm.index = labels\n",
        "df_cm.columns = labels\n",
        "\n",
        "plt.figure(figsize = (10,7))\n",
        "ax = sns.heatmap(df_cm, annot=True, fmt='g')\n",
        "ax.set_title(\"Matriz de confusão para os dados de teste\\n\", size = 24)\n",
        "ax"
      ],
      "execution_count": null,
      "outputs": [
        {
          "output_type": "execute_result",
          "data": {
            "text/plain": [
              "<matplotlib.axes._subplots.AxesSubplot at 0x7f6499da01d0>"
            ]
          },
          "metadata": {},
          "execution_count": 35
        },
        {
          "output_type": "display_data",
          "data": {
            "image/png": "[encoded data removed]",
            "text/plain": [
              "<Figure size 720x504 with 2 Axes>"
            ]
          },
          "metadata": {
            "needs_background": "light"
          }
        }
      ]
    },
    {
      "cell_type": "code",
      "metadata": {
        "id": "ac8bsg-HC3lj",
        "colab": {
          "base_uri": "https://localhost:8080/",
          "height": 128
        },
        "outputId": "c7566ddf-1e6f-4d73-8826-9bef0bef267a"
      },
      "source": [
        "f1 = f1_score(testBin, predBin, average= None)\n",
        "recall = recall_score(testBin, predBin, average= None)\n",
        "precision = precision_score(testBin, predBin, average= None)\n",
        "acc = accuracy_score(testBin, predBin)\n",
        "\n",
        "print('ACC:', acc)\n",
        "\n",
        "metricas = pd.DataFrame([recall, precision, f1], columns=['Normal' , 'Pneumonia'], index = ['Recall', 'Precision','F1-Score']).T\n",
        "metricas\n",
        "\n"
      ],
      "execution_count": null,
      "outputs": [
        {
          "output_type": "stream",
          "name": "stdout",
          "text": [
            "ACC: 0.9583333333333334\n"
          ]
        },
        {
          "output_type": "execute_result",
          "data": {
            "text/html": [
              "<div>\n",
              "<style scoped>\n",
              "    .dataframe tbody tr th:only-of-type {\n",
              "        vertical-align: middle;\n",
              "    }\n",
              "\n",
              "    .dataframe tbody tr th {\n",
              "        vertical-align: top;\n",
              "    }\n",
              "\n",
              "    .dataframe thead th {\n",
              "        text-align: right;\n",
              "    }\n",
              "</style>\n",
              "<table border=\"1\" class=\"dataframe\">\n",
              "  <thead>\n",
              "    <tr style=\"text-align: right;\">\n",
              "      <th></th>\n",
              "      <th>Recall</th>\n",
              "      <th>Precision</th>\n",
              "      <th>F1-Score</th>\n",
              "    </tr>\n",
              "  </thead>\n",
              "  <tbody>\n",
              "    <tr>\n",
              "      <th>Bacteriana</th>\n",
              "      <td>0.944</td>\n",
              "      <td>0.944</td>\n",
              "      <td>0.944</td>\n",
              "    </tr>\n",
              "    <tr>\n",
              "      <th>Pneumonia</th>\n",
              "      <td>0.967</td>\n",
              "      <td>0.967</td>\n",
              "      <td>0.967</td>\n",
              "    </tr>\n",
              "  </tbody>\n",
              "</table>\n",
              "</div>"
            ],
            "text/plain": [
              "            Recall  Precision  F1-Score\n",
              "Bacteriana   0.944      0.944     0.944\n",
              "Pneumonia    0.967      0.967     0.967"
            ]
          },
          "metadata": {},
          "execution_count": 36
        }
      ]
    },
    {
      "cell_type": "code",
      "metadata": {
        "id": "-t1IYCO2D8YS"
      },
      "source": [
        ""
      ],
      "execution_count": null,
      "outputs": []
    }
  ]
}