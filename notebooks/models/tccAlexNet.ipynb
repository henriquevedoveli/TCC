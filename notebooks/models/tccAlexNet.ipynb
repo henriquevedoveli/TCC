{
  "nbformat": 4,
  "nbformat_minor": 0,
  "metadata": {
    "colab": {
      "name": "tccAlexNet",
      "provenance": [],
      "mount_file_id": "1QzAJYUh6JDNdu_ghqtMlN2mtPRSEgjv6",
      "authorship_tag": "ABX9TyMnTXJJidoLKhJeJa05jOVa",
      "include_colab_link": true
    },
    "kernelspec": {
      "name": "python3",
      "display_name": "Python 3"
    },
    "language_info": {
      "name": "python"
    }
  },
  "cells": [
    {
      "cell_type": "markdown",
      "metadata": {
        "id": "view-in-github",
        "colab_type": "text"
      },
      "source": [
        "<a href=\"https://colab.research.google.com/github/henriquevedoveli/TCC/blob/main/notebooks/models/tccAlexNet.ipynb\" target=\"_parent\"><img src=\"https://colab.research.google.com/assets/colab-badge.svg\" alt=\"Open In Colab\"/></a>"
      ]
    },
    {
      "cell_type": "markdown",
      "source": [
        "# **Treinameto e Avaliação do Modelo _AlexNet_**\n",
        "\n",
        "---\n",
        "\n",
        "## **Classificação de Pneumonia em Radiografia do Tórax Utilizando Redes Neurais Convolucionais**\n",
        "\n",
        "---\n",
        "\n",
        "#### Autor: Henrique Hundsdorfer Vedoveli\n",
        "\n",
        "#### Orientador: Prof. Dr. Anuar José Mincache\n",
        "\n",
        "#### Coorientador: Prof. Dr. Breno Ferraz de Oliveira"
      ],
      "metadata": {
        "id": "GEORu9mn5bSq"
      }
    },
    {
      "cell_type": "markdown",
      "source": [
        "---\n",
        "# Bibliotecas Necessárias\n",
        "---"
      ],
      "metadata": {
        "id": "1zMk8CvB5hpr"
      }
    },
    {
      "cell_type": "code",
      "metadata": {
        "id": "AJnJa8H1Yv8q",
        "colab": {
          "base_uri": "https://localhost:8080/"
        },
        "outputId": "754e0efe-8208-446d-a662-4023fc115037"
      },
      "source": [
        "from google.colab import drive\n",
        "drive.mount('/content/drive')\n",
        " \n",
        "import numpy as np\n",
        "import pandas as pd\n",
        "import seaborn as sns\n",
        "import matplotlib.pyplot as plt\n",
        "from sklearn import model_selection, metrics\n",
        "from sklearn.metrics import *\n",
        " \n",
        "import tensorflow as tf\n",
        "from tensorflow import keras\n",
        "from keras.layers import Conv2D, MaxPooling2D, Flatten, Dense, BatchNormalization, Dropout, Input\n",
        " \n",
        "# keras models\n",
        "from keras.models import Sequential, Model, load_model\n",
        "from tensorflow.keras.optimizers import Adam\n",
        "from keras.callbacks import ModelCheckpoint, EarlyStopping#\n",
        "\n",
        "from keras.preprocessing.image import ImageDataGenerator\n",
        "from keras.preprocessing import image  \n",
        " \n",
        "########################################################################################\n",
        "import warnings\n",
        "warnings.filterwarnings(\"ignore\")\n",
        "\n",
        "pd.set_option('display.float_format', lambda x: '%.3f' % x)\n",
        "\n",
        "np.random.seed(7)\n",
        " \n",
        "import os\n",
        " \n",
        "%matplotlib inline"
      ],
      "execution_count": null,
      "outputs": [
        {
          "output_type": "stream",
          "name": "stdout",
          "text": [
            "Drive already mounted at /content/drive; to attempt to forcibly remount, call drive.mount(\"/content/drive\", force_remount=True).\n"
          ]
        }
      ]
    },
    {
      "cell_type": "markdown",
      "source": [
        "---\n",
        "## Local onde as imagens estão armazenadas\n",
        "---"
      ],
      "metadata": {
        "id": "Nm9MQieM5k2u"
      }
    },
    {
      "cell_type": "code",
      "metadata": {
        "id": "t1tOh7h0oQz1"
      },
      "source": [
        "TRAIN = '/content/drive/MyDrive/TCC/data/chest_xray/train'\n",
        "TEST = '/content/drive/MyDrive/TCC/data/chest_xray/test'\n",
        "VAL = '/content/drive/MyDrive/TCC/data/chest_xray/val'\n",
        "\n",
        "MODELS = '/content/drive/MyDrive/TCC/MODELS'"
      ],
      "execution_count": null,
      "outputs": []
    },
    {
      "cell_type": "markdown",
      "source": [
        "---\n",
        "\n",
        "# Carregando as imagens e aplicando o _data augmentation_\n",
        "\n",
        "----\n",
        "\n",
        "## Parâmetros utilizados para o _data augmentation_\n",
        "\n",
        "|                        Distorção                       |  Parâmetro |\n",
        "|:------------------------------------------------------:|:----------:|\n",
        "|           Alteração na Escala _(Zoom Range)_           | 0.9 a 1,25 |\n",
        "|           Faixa de Rotação _(Rotation Range)_          |     10°    |\n",
        "| Faixa de Deslocamento Horizontal _(Width Shift Range)_ |     0.1    |\n",
        "|  Faixa de Deslocamento Vertical _(Height Shift Range)_ |     0.1    |\n",
        "|           Modo de Preenchimento _(Fill Mode)_          |  Constante |\n",
        "|                          Cval                          |      0     |"
      ],
      "metadata": {
        "id": "tuxo93MQ5nuM"
      }
    },
    {
      "cell_type": "code",
      "metadata": {
        "id": "ykUTBDBJoTS0"
      },
      "source": [
        "trainData = ImageDataGenerator(zoom_range = [0.9, 1.25], \n",
        "                                        rotation_range = 10,\n",
        "                                        vertical_flip = True,\n",
        "                                        horizontal_flip = False, \n",
        "                                        width_shift_range = 0.1, \n",
        "                                        height_shift_range = 0.1,\n",
        "                                        fill_mode='constant', \n",
        "                                        cval=0)\n",
        "\n",
        "trainData = trainData.flow_from_directory(directory=TRAIN,\n",
        "                                       batch_size = 32,\n",
        "                                       target_size=(224,224),\n",
        "                                       color_mode = 'grayscale',\n",
        "                                      )\n",
        "\n",
        "valData = ImageDataGenerator()\n",
        "valData = valData.flow_from_directory(\n",
        "        VAL,\n",
        "        target_size = (224,224),\n",
        "        batch_size = 32,\n",
        "        color_mode = 'grayscale'\n",
        "        )\n",
        "\n",
        "testData = ImageDataGenerator()\n",
        "testData = testData.flow_from_directory(directory=TEST,\n",
        "                                      batch_size = 32,\n",
        "                                      target_size=(224,224),\n",
        "                                      color_mode = 'grayscale')"
      ],
      "execution_count": null,
      "outputs": []
    },
    {
      "cell_type": "markdown",
      "source": [
        "---\n",
        "# Encontrando os pesos de cada classe.\n",
        "---"
      ],
      "metadata": {
        "id": "9SaMbf-k5sVs"
      }
    },
    {
      "cell_type": "code",
      "metadata": {
        "colab": {
          "base_uri": "https://localhost:8080/"
        },
        "id": "XY6ifJdNoU8k",
        "outputId": "7db389c2-4e6b-456d-dfc5-47ce287ae009"
      },
      "source": [
        "normalLength = len(os.listdir(TRAIN + '/' + 'NORMAL'))\n",
        "bacterialLength = len(os.listdir(TRAIN + '/' + 'BACTERIAL'))\n",
        "viralLength = len(os.listdir(TRAIN + '/' + 'VIRAL'))\n",
        "dataLength = normalLength + bacterialLength +  viralLength\n",
        "\n",
        "print('Qtd dados de treino: ', dataLength)\n",
        "print('Qtd dados de pulmão saudavel para treino: ', normalLength)\n",
        "print('Qtd dados Bacterial', bacterialLength)\n",
        "print('Qtd dados Viral', viralLength)\n",
        "\n",
        "class_weight = {0: 1., # bacterial\n",
        "                1: bacterialLength / normalLength, #normal \n",
        "                2: bacterialLength / viralLength} # viral "
      ],
      "execution_count": null,
      "outputs": [
        {
          "output_type": "stream",
          "name": "stdout",
          "text": [
            "Qtd dados de treino:  5082\n",
            "Qtd dados de pulmão saudavel para treino:  1299\n",
            "Qtd dados Bacterial 2488\n",
            "Qtd dados Viral 1295\n"
          ]
        }
      ]
    },
    {
      "cell_type": "code",
      "metadata": {
        "id": "oYsMOHEOoWVk"
      },
      "source": [
        "def generateImages(paths):\n",
        "    '''\n",
        "    params: paths ->\n",
        "    '''\n",
        "    test_images=[]\n",
        "    interpret= trainData.class_indices\n",
        "    test_y=[]\n",
        "    \n",
        "    for path in paths:\n",
        "        y=''\n",
        "        if 'NORMAL' in path:\n",
        "            y='NORMAL'\n",
        "        elif 'VIRAL' in path:   \n",
        "            y='VIRAL'\n",
        "        elif 'BACTERIAL' in path:   \n",
        "            y='BACTERIAL'   \n",
        "        \n",
        "        for image_path in os.listdir(path):\n",
        "            new_path=os.path.join(TEST, y)\n",
        "            new_path=os.path.join(new_path,image_path)\n",
        "\n",
        "            temp_images=image.load_img(new_path,\n",
        "                                       color_mode = 'grayscale',\n",
        "                                       target_size=(224,224)) \n",
        "            temp_images=image.img_to_array(temp_images)\n",
        "            test_images.append(temp_images)\n",
        "            test_y.append(interpret[y])\n",
        "\n",
        "    return test_images,test_y"
      ],
      "execution_count": null,
      "outputs": []
    },
    {
      "cell_type": "code",
      "metadata": {
        "id": "N8y9lU1xoXpc"
      },
      "source": [
        "def convertData(model, path, prob = 0):\n",
        "    '''\n",
        "    params: model ->\n",
        "            path ->\n",
        "            prob ->\n",
        "    '''\n",
        "    all_paths=[]\n",
        "    print(\"• GERANDO PATHS\")\n",
        "\n",
        "    for directory in os.listdir(path):\n",
        "        all_paths.append(os.path.join(path,directory))\n",
        "    \n",
        "    test_images, test_y= generateImages(all_paths)\n",
        "\n",
        "    test_images=np.array(test_images)\n",
        "\n",
        "    print(\"• GERANDO PREVISÕES\")\n",
        "    if prob == 0:\n",
        "        predictions = np.argmax(model.predict(test_images), axis=1)\n",
        "    else:\n",
        "        predictions = model.predict_on_batch(test_images)\n",
        "\n",
        "    print(\"ACURACIA DO MODELO PARA OS DADOS DE TESTE: {}\".format( metrics.accuracy_score(test_y, predictions)))\n",
        "\n",
        "    return test_y, predictions, test_images"
      ],
      "execution_count": null,
      "outputs": []
    },
    {
      "cell_type": "markdown",
      "source": [
        "---\n",
        "# Definindo o Modelo\n",
        "---"
      ],
      "metadata": {
        "id": "jkLlWTC35w7E"
      }
    },
    {
      "cell_type": "code",
      "metadata": {
        "id": "GiaXrRGZoZck"
      },
      "source": [
        "units = 840\n",
        "lr = 1e-5\n",
        "\n",
        "modelAlex = Sequential()\n",
        "\n",
        "modelAlex.add(Conv2D(filters=96, kernel_size = (11,11), activation='relu', input_shape=(224, 224, 1)))\n",
        "modelAlex.add(MaxPooling2D(3,3))\n",
        "\n",
        "modelAlex.add(Conv2D(filters=256, kernel_size = (5,5), activation='relu'))\n",
        "modelAlex.add(MaxPooling2D(3,3))\n",
        "\n",
        "modelAlex.add(Conv2D(filters=384, kernel_size = (3,3), activation='relu'))\n",
        "modelAlex.add(Conv2D(filters=384, kernel_size = (3,3), activation='relu'))\n",
        "modelAlex.add(Conv2D(filters=256, kernel_size = (3,3), activation='relu'))\n",
        "modelAlex.add(MaxPooling2D(3,3))\n",
        "\n",
        "modelAlex.add(Flatten())\n",
        "\n",
        "modelAlex.add(Dense(units=units, activation='relu'))\n",
        "modelAlex.add(Dense(units=units, activation='relu'))\n",
        "modelAlex.add(Dense(units=3, activation='softmax'))\n",
        "\n",
        "modelAlex.compile(loss='categorical_crossentropy', \n",
        "                     optimizer=keras.optimizers.Adam(learning_rate=lr),\n",
        "                     metrics = ['accuracy'])"
      ],
      "execution_count": null,
      "outputs": []
    },
    {
      "cell_type": "code",
      "source": [
        "modelAlex.summary()"
      ],
      "metadata": {
        "id": "QBZt6Qo19cgO",
        "outputId": "6c11d273-cfb4-4912-eaca-d459fa9fd564",
        "colab": {
          "base_uri": "https://localhost:8080/"
        }
      },
      "execution_count": null,
      "outputs": [
        {
          "output_type": "stream",
          "name": "stdout",
          "text": [
            "Model: \"sequential\"\n",
            "_________________________________________________________________\n",
            " Layer (type)                Output Shape              Param #   \n",
            "=================================================================\n",
            " conv2d (Conv2D)             (None, 214, 214, 96)      11712     \n",
            "                                                                 \n",
            " max_pooling2d (MaxPooling2D  (None, 71, 71, 96)       0         \n",
            " )                                                               \n",
            "                                                                 \n",
            " conv2d_1 (Conv2D)           (None, 67, 67, 256)       614656    \n",
            "                                                                 \n",
            " max_pooling2d_1 (MaxPooling  (None, 22, 22, 256)      0         \n",
            " 2D)                                                             \n",
            "                                                                 \n",
            " conv2d_2 (Conv2D)           (None, 20, 20, 384)       885120    \n",
            "                                                                 \n",
            " conv2d_3 (Conv2D)           (None, 18, 18, 384)       1327488   \n",
            "                                                                 \n",
            " conv2d_4 (Conv2D)           (None, 16, 16, 256)       884992    \n",
            "                                                                 \n",
            " max_pooling2d_2 (MaxPooling  (None, 5, 5, 256)        0         \n",
            " 2D)                                                             \n",
            "                                                                 \n",
            " flatten (Flatten)           (None, 6400)              0         \n",
            "                                                                 \n",
            " dense (Dense)               (None, 840)               5376840   \n",
            "                                                                 \n",
            " dense_1 (Dense)             (None, 840)               706440    \n",
            "                                                                 \n",
            " dense_2 (Dense)             (None, 3)                 2523      \n",
            "                                                                 \n",
            "=================================================================\n",
            "Total params: 9,809,771\n",
            "Trainable params: 9,809,771\n",
            "Non-trainable params: 0\n",
            "_________________________________________________________________\n"
          ]
        }
      ]
    },
    {
      "cell_type": "markdown",
      "source": [
        "---\n",
        "# Otimização do Modelo\n",
        "---\n"
      ],
      "metadata": {
        "id": "nrSCVPgN50It"
      }
    },
    {
      "cell_type": "code",
      "metadata": {
        "id": "wti1WTB_oesE"
      },
      "source": [
        "hist = modelAlex.fit_generator(steps_per_epoch= trainData.n//32,\n",
        "                           generator=trainData, \n",
        "                           validation_data= valData,\n",
        "                           validation_steps=valData.n//32,\n",
        "                           epochs=25,\n",
        "                           class_weight = class_weight)"
      ],
      "execution_count": null,
      "outputs": []
    },
    {
      "cell_type": "code",
      "metadata": {
        "colab": {
          "base_uri": "https://localhost:8080/",
          "height": 17
        },
        "id": "n4gUjll3oh5d",
        "outputId": "75fdd1c1-8eb9-4962-c238-45a2b663a378"
      },
      "source": [
        "temp = pd.DataFrame([hist.history['accuracy'], hist.history['val_accuracy'], hist.history['loss'], hist.history['val_loss']])\n",
        "\n",
        "histT = temp.T\n",
        "histT.columns = ['acc', 'val_acc', 'loss', 'val_loss']\n",
        "\n",
        "from google.colab import files\n",
        "numEpoch = 25\n",
        "histT.to_csv(f'histTreinoALEXNET{numEpoch}.csv')\n",
        "files.download(f'histTreinoALEXNET{numEpoch}.csv')"
      ],
      "execution_count": null,
      "outputs": [
        {
          "output_type": "display_data",
          "data": {
            "application/javascript": [
              "\n",
              "    async function download(id, filename, size) {\n",
              "      if (!google.colab.kernel.accessAllowed) {\n",
              "        return;\n",
              "      }\n",
              "      const div = document.createElement('div');\n",
              "      const label = document.createElement('label');\n",
              "      label.textContent = `Downloading \"${filename}\": `;\n",
              "      div.appendChild(label);\n",
              "      const progress = document.createElement('progress');\n",
              "      progress.max = size;\n",
              "      div.appendChild(progress);\n",
              "      document.body.appendChild(div);\n",
              "\n",
              "      const buffers = [];\n",
              "      let downloaded = 0;\n",
              "\n",
              "      const channel = await google.colab.kernel.comms.open(id);\n",
              "      // Send a message to notify the kernel that we're ready.\n",
              "      channel.send({})\n",
              "\n",
              "      for await (const message of channel.messages) {\n",
              "        // Send a message to notify the kernel that we're ready.\n",
              "        channel.send({})\n",
              "        if (message.buffers) {\n",
              "          for (const buffer of message.buffers) {\n",
              "            buffers.push(buffer);\n",
              "            downloaded += buffer.byteLength;\n",
              "            progress.value = downloaded;\n",
              "          }\n",
              "        }\n",
              "      }\n",
              "      const blob = new Blob(buffers, {type: 'application/binary'});\n",
              "      const a = document.createElement('a');\n",
              "      a.href = window.URL.createObjectURL(blob);\n",
              "      a.download = filename;\n",
              "      div.appendChild(a);\n",
              "      a.click();\n",
              "      div.remove();\n",
              "    }\n",
              "  "
            ],
            "text/plain": [
              "<IPython.core.display.Javascript object>"
            ]
          },
          "metadata": {}
        },
        {
          "output_type": "display_data",
          "data": {
            "application/javascript": [
              "download(\"download_1deffcee-1d4e-4956-811a-cd9bf207c966\", \"histTreinoALEXNET25.csv\", 1736)"
            ],
            "text/plain": [
              "<IPython.core.display.Javascript object>"
            ]
          },
          "metadata": {}
        }
      ]
    },
    {
      "cell_type": "code",
      "metadata": {
        "colab": {
          "base_uri": "https://localhost:8080/",
          "height": 17
        },
        "id": "owMLsZJRomvs",
        "outputId": "010b86e5-d134-4a29-d4a8-899dab972d1a"
      },
      "source": [
        "temp = pd.DataFrame([hist.history['accuracy'], hist.history['val_accuracy'], hist.history['loss'], hist.history['val_loss']])\n",
        "\n",
        "tempT = temp.T\n",
        "tempT.columns = ['acc', 'val_acc', 'loss', 'val_loss']\n",
        "\n",
        "histTreinoatg = pd.read_csv('histTreinoALEXNET75.csv')\n",
        "histTreinoatg = histTreinoatg[['acc', 'val_acc', 'loss', 'val_loss']]\n",
        "histT = histTreinoatg.append(tempT)\n",
        "histT = histT.reset_index(drop=True)\n",
        "\n",
        "from google.colab import files\n",
        "numEpoch = 100\n",
        "histT.to_csv(f'histTreinoALEXNET{numEpoch}.csv')\n",
        "files.download(f'histTreinoALEXNET{numEpoch}.csv')\n"
      ],
      "execution_count": null,
      "outputs": [
        {
          "output_type": "display_data",
          "data": {
            "application/javascript": [
              "\n",
              "    async function download(id, filename, size) {\n",
              "      if (!google.colab.kernel.accessAllowed) {\n",
              "        return;\n",
              "      }\n",
              "      const div = document.createElement('div');\n",
              "      const label = document.createElement('label');\n",
              "      label.textContent = `Downloading \"${filename}\": `;\n",
              "      div.appendChild(label);\n",
              "      const progress = document.createElement('progress');\n",
              "      progress.max = size;\n",
              "      div.appendChild(progress);\n",
              "      document.body.appendChild(div);\n",
              "\n",
              "      const buffers = [];\n",
              "      let downloaded = 0;\n",
              "\n",
              "      const channel = await google.colab.kernel.comms.open(id);\n",
              "      // Send a message to notify the kernel that we're ready.\n",
              "      channel.send({})\n",
              "\n",
              "      for await (const message of channel.messages) {\n",
              "        // Send a message to notify the kernel that we're ready.\n",
              "        channel.send({})\n",
              "        if (message.buffers) {\n",
              "          for (const buffer of message.buffers) {\n",
              "            buffers.push(buffer);\n",
              "            downloaded += buffer.byteLength;\n",
              "            progress.value = downloaded;\n",
              "          }\n",
              "        }\n",
              "      }\n",
              "      const blob = new Blob(buffers, {type: 'application/binary'});\n",
              "      const a = document.createElement('a');\n",
              "      a.href = window.URL.createObjectURL(blob);\n",
              "      a.download = filename;\n",
              "      div.appendChild(a);\n",
              "      a.click();\n",
              "      div.remove();\n",
              "    }\n",
              "  "
            ],
            "text/plain": [
              "<IPython.core.display.Javascript object>"
            ]
          },
          "metadata": {}
        },
        {
          "output_type": "display_data",
          "data": {
            "application/javascript": [
              "download(\"download_f407d11b-7b8c-4a59-8847-c3845103de92\", \"histTreinoALEXNET100.csv\", 6900)"
            ],
            "text/plain": [
              "<IPython.core.display.Javascript object>"
            ]
          },
          "metadata": {}
        }
      ]
    },
    {
      "cell_type": "code",
      "metadata": {
        "colab": {
          "base_uri": "https://localhost:8080/",
          "height": 381
        },
        "id": "NchVvs5Mowg9",
        "outputId": "40023402-6fb8-4a6d-9a73-ca1518db5ca4"
      },
      "source": [
        "fig, axs = plt.subplots(1,2)\n",
        "fig.set_figheight(5)\n",
        "fig.set_figwidth(15)\n",
        "\n",
        "axs[0].plot(histT.index + 1, histT['acc'])\n",
        "axs[0].plot(histT.index + 1, histT['val_acc'], '--')\n",
        "axs[0].set_title('(a)', size = 25)\n",
        "axs[0].set_xlabel(\"EPOCAS\", size = 16)\n",
        "axs[0].set_ylabel(\"ACURÁCIA\", size =16)\n",
        "axs[0].set_yticks([0.3,0.4,0.5,0.6,0.7,0.8,0.9,1])\n",
        "axs[0].set_xticks([1,10,20,30,40,50,60,70,80,90,100])\n",
        "axs[0].legend(['ACURACIA TREINO', 'ACURACIA VALIDACAO'])\n",
        "axs[0].grid(True)\n",
        "\n",
        "axs[1].plot(histT.index + 1, histT['loss'])\n",
        "axs[1].plot(histT.index + 1, histT['val_loss'], '--')\n",
        "axs[1].set_title('(b)', size = 25)\n",
        "axs[1].set_xlabel(\"EPOCAS\", size =16)\n",
        "axs[1].set_ylabel(\"CUSTO\", size =16)\n",
        "axs[1].legend(['CUSTO TREINO', 'CUSTO VALIDACAO'])\n",
        "axs[1].set_xticks([1,10,20,30,40,50,60,70,80,90,100])\n",
        "axs[1].grid(True)\n",
        "\n",
        "plt.plot()"
      ],
      "execution_count": null,
      "outputs": [
        {
          "output_type": "execute_result",
          "data": {
            "text/plain": [
              "[]"
            ]
          },
          "metadata": {},
          "execution_count": 38
        },
        {
          "output_type": "display_data",
          "data": {
            "image/png": "[encoded data removed]",
            "text/plain": [
              "<Figure size 1080x360 with 2 Axes>"
            ]
          },
          "metadata": {
            "needs_background": "light"
          }
        }
      ]
    },
    {
      "cell_type": "markdown",
      "source": [
        "---\n",
        "# Salvando o Modelo\n",
        "---"
      ],
      "metadata": {
        "id": "K9UCNKeo530c"
      }
    },
    {
      "cell_type": "code",
      "metadata": {
        "colab": {
          "base_uri": "https://localhost:8080/"
        },
        "id": "QUuwgi42oy-2",
        "outputId": "2916fed9-2509-4328-8549-07a0151152ac"
      },
      "source": [
        "modelAlex.save('/content/drive/MyDrive/TCC/MODELS/ALEXNETMODEL')"
      ],
      "execution_count": null,
      "outputs": [
        {
          "output_type": "stream",
          "name": "stdout",
          "text": [
            "INFO:tensorflow:Assets written to: /content/drive/MyDrive/TCC/MODELS/ALEXNETMODEL/assets\n"
          ]
        }
      ]
    },
    {
      "cell_type": "code",
      "metadata": {
        "id": "MRVlVHTko0V8"
      },
      "source": [
        "# modelAlex = keras.models.load_model('/content/drive/MyDrive/TCC/MODELS/ALEXNETMODEL')"
      ],
      "execution_count": null,
      "outputs": []
    },
    {
      "cell_type": "markdown",
      "source": [
        "---\n",
        "# Avaliação do Modelo\n",
        "---"
      ],
      "metadata": {
        "id": "qHKM5wTu557f"
      }
    },
    {
      "cell_type": "code",
      "metadata": {
        "colab": {
          "base_uri": "https://localhost:8080/",
          "height": 550
        },
        "id": "C55Q15qIo9G8",
        "outputId": "615f0969-5e8b-4dc4-e082-d6565d87ba3d"
      },
      "source": [
        "test_y, pred, test_images = convertData(modelAlex, TEST, 0)\n",
        "\n",
        "matrix = metrics.confusion_matrix(test_y, pred)\n",
        "\n",
        "labels = ['Bacteriana' , 'Normal', 'Viral']\n",
        "\n",
        "df_cm = pd.DataFrame(matrix, index = [i for i in \"012\"],\n",
        "                  columns = [i for i in \"012\"])\n",
        "\n",
        "df_cm.index = labels\n",
        "df_cm.columns = labels\n",
        "\n",
        "plt.figure(figsize = (10,7))\n",
        "ax = sns.heatmap(df_cm, annot=True, fmt='g')\n",
        "ax.set_title(\"Matriz de confusão para os dados de teste\\n\", size = 24)\n",
        "ax"
      ],
      "execution_count": null,
      "outputs": [
        {
          "output_type": "stream",
          "name": "stdout",
          "text": [
            "• GERANDO PATHS\n",
            "• GERANDO PREVISÕES\n",
            "ACURACIA DO MODELO PARA OS DADOS DE TESTE: 0.8701923076923077\n"
          ]
        },
        {
          "output_type": "execute_result",
          "data": {
            "text/plain": [
              "<matplotlib.axes._subplots.AxesSubplot at 0x7f91204216d0>"
            ]
          },
          "metadata": {},
          "execution_count": 25
        },
        {
          "output_type": "display_data",
          "data": {
            "image/png": "[encoded data removed]",
            "text/plain": [
              "<Figure size 720x504 with 2 Axes>"
            ]
          },
          "metadata": {
            "needs_background": "light"
          }
        }
      ]
    },
    {
      "cell_type": "code",
      "metadata": {
        "colab": {
          "base_uri": "https://localhost:8080/",
          "height": 143
        },
        "id": "psf1C6p9pBC0",
        "outputId": "041b0fb9-4b97-46c9-9895-a0ea84f5e20c"
      },
      "source": [
        "f1 = f1_score(test_y, pred, average= None)\n",
        "recall = recall_score(test_y, pred, average= None)\n",
        "precision = precision_score(test_y, pred, average= None)\n",
        "\n",
        "metricas = pd.DataFrame([recall, precision, f1], columns=['Bacteriana' , 'Normal', 'Viral'], index = ['Recall', 'Precision','F1-Score']).T\n",
        "metricas"
      ],
      "execution_count": null,
      "outputs": [
        {
          "output_type": "execute_result",
          "data": {
            "text/html": [
              "<div>\n",
              "<style scoped>\n",
              "    .dataframe tbody tr th:only-of-type {\n",
              "        vertical-align: middle;\n",
              "    }\n",
              "\n",
              "    .dataframe tbody tr th {\n",
              "        vertical-align: top;\n",
              "    }\n",
              "\n",
              "    .dataframe thead th {\n",
              "        text-align: right;\n",
              "    }\n",
              "</style>\n",
              "<table border=\"1\" class=\"dataframe\">\n",
              "  <thead>\n",
              "    <tr style=\"text-align: right;\">\n",
              "      <th></th>\n",
              "      <th>Recall</th>\n",
              "      <th>Precision</th>\n",
              "      <th>F1-Score</th>\n",
              "    </tr>\n",
              "  </thead>\n",
              "  <tbody>\n",
              "    <tr>\n",
              "      <th>Bacteriana</th>\n",
              "      <td>0.921</td>\n",
              "      <td>0.918</td>\n",
              "      <td>0.920</td>\n",
              "    </tr>\n",
              "    <tr>\n",
              "      <th>Normal</th>\n",
              "      <td>0.812</td>\n",
              "      <td>0.979</td>\n",
              "      <td>0.888</td>\n",
              "    </tr>\n",
              "    <tr>\n",
              "      <th>Viral</th>\n",
              "      <td>0.878</td>\n",
              "      <td>0.695</td>\n",
              "      <td>0.776</td>\n",
              "    </tr>\n",
              "  </tbody>\n",
              "</table>\n",
              "</div>"
            ],
            "text/plain": [
              "            Recall  Precision  F1-Score\n",
              "Bacteriana   0.921      0.918     0.920\n",
              "Normal       0.812      0.979     0.888\n",
              "Viral        0.878      0.695     0.776"
            ]
          },
          "metadata": {},
          "execution_count": 26
        }
      ]
    },
    {
      "cell_type": "code",
      "metadata": {
        "id": "R22vlyjapCOE"
      },
      "source": [
        "testBin = test_y\n",
        "predBin = pred\n",
        "\n",
        "i = 0\n",
        "while i < len(pred):\n",
        "    if predBin[i] == 0:\n",
        "        predBin[i] = 3\n",
        "    elif predBin[i] == 2:\n",
        "        predBin[i] = 3\n",
        "\n",
        "    i += 1\n",
        "\n",
        "k = 0\n",
        "while k < len(test_y):\n",
        "    if testBin[k] == 0:\n",
        "        testBin[k] = 3\n",
        "    elif testBin[k] == 2:\n",
        "        testBin[k] = 3\n",
        "\n",
        "    k += 1"
      ],
      "execution_count": null,
      "outputs": []
    },
    {
      "cell_type": "code",
      "metadata": {
        "colab": {
          "base_uri": "https://localhost:8080/",
          "height": 498
        },
        "id": "2_p65cnJpDjV",
        "outputId": "4e4b5b35-5579-41da-db06-35b350214e67"
      },
      "source": [
        "matrix = metrics.confusion_matrix(testBin, predBin)\n",
        "\n",
        "labels = ['Normal' , 'Pneumonia']\n",
        "\n",
        "df_cm = pd.DataFrame(matrix, index = [i for i in \"01\"],\n",
        "                  columns = [i for i in \"01\"])\n",
        "\n",
        "df_cm.index = labels\n",
        "df_cm.columns = labels\n",
        "\n",
        "plt.figure(figsize = (10,7))\n",
        "ax = sns.heatmap(df_cm, annot=True, fmt='g')\n",
        "ax.set_title(\"Matriz de confusão para os dados de teste\\n\", size = 24)\n",
        "ax"
      ],
      "execution_count": null,
      "outputs": [
        {
          "output_type": "execute_result",
          "data": {
            "text/plain": [
              "<matplotlib.axes._subplots.AxesSubplot at 0x7f9120edd310>"
            ]
          },
          "metadata": {},
          "execution_count": 28
        },
        {
          "output_type": "display_data",
          "data": {
            "image/png": "[encoded data removed]",
            "text/plain": [
              "<Figure size 720x504 with 2 Axes>"
            ]
          },
          "metadata": {
            "needs_background": "light"
          }
        }
      ]
    },
    {
      "cell_type": "code",
      "metadata": {
        "colab": {
          "base_uri": "https://localhost:8080/",
          "height": 129
        },
        "id": "HaCQU_UspFRE",
        "outputId": "61e50eea-cba8-4d18-fa5d-5439ff2ee57d"
      },
      "source": [
        "f1 = f1_score(testBin, predBin, average= None)\n",
        "recall = recall_score(testBin, predBin, average= None)\n",
        "precision = precision_score(testBin, predBin, average= None)\n",
        "acc = accuracy_score(testBin, predBin)\n",
        "\n",
        "print('ACC:', acc)\n",
        "\n",
        "metricas = pd.DataFrame([recall, precision, f1], columns=['Normal' , 'Pneumonia'], index = ['Recall', 'Precision','F1-Score']).T\n",
        "metricas\n"
      ],
      "execution_count": null,
      "outputs": [
        {
          "output_type": "stream",
          "name": "stdout",
          "text": [
            "ACC: 0.9230769230769231\n"
          ]
        },
        {
          "output_type": "execute_result",
          "data": {
            "text/html": [
              "<div>\n",
              "<style scoped>\n",
              "    .dataframe tbody tr th:only-of-type {\n",
              "        vertical-align: middle;\n",
              "    }\n",
              "\n",
              "    .dataframe tbody tr th {\n",
              "        vertical-align: top;\n",
              "    }\n",
              "\n",
              "    .dataframe thead th {\n",
              "        text-align: right;\n",
              "    }\n",
              "</style>\n",
              "<table border=\"1\" class=\"dataframe\">\n",
              "  <thead>\n",
              "    <tr style=\"text-align: right;\">\n",
              "      <th></th>\n",
              "      <th>Recall</th>\n",
              "      <th>Precision</th>\n",
              "      <th>F1-Score</th>\n",
              "    </tr>\n",
              "  </thead>\n",
              "  <tbody>\n",
              "    <tr>\n",
              "      <th>Normal</th>\n",
              "      <td>0.812</td>\n",
              "      <td>0.979</td>\n",
              "      <td>0.888</td>\n",
              "    </tr>\n",
              "    <tr>\n",
              "      <th>Pneumonia</th>\n",
              "      <td>0.990</td>\n",
              "      <td>0.898</td>\n",
              "      <td>0.941</td>\n",
              "    </tr>\n",
              "  </tbody>\n",
              "</table>\n",
              "</div>"
            ],
            "text/plain": [
              "           Recall  Precision  F1-Score\n",
              "Normal      0.812      0.979     0.888\n",
              "Pneumonia   0.990      0.898     0.941"
            ]
          },
          "metadata": {},
          "execution_count": 29
        }
      ]
    }
  ]
}