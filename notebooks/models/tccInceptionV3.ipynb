{
  "nbformat": 4,
  "nbformat_minor": 0,
  "metadata": {
    "colab": {
      "name": "tccInceptionV3",
      "provenance": [],
      "authorship_tag": "ABX9TyMc7pne74K4u2V4q7+SPTap",
      "include_colab_link": true
    },
    "kernelspec": {
      "name": "python3",
      "display_name": "Python 3"
    },
    "language_info": {
      "name": "python"
    }
  },
  "cells": [
    {
      "cell_type": "markdown",
      "metadata": {
        "id": "view-in-github",
        "colab_type": "text"
      },
      "source": [
        "<a href=\"https://colab.research.google.com/github/henriquevedoveli/TCC/blob/main/notebooks/models/tccInceptionV3.ipynb\" target=\"_parent\"><img src=\"https://colab.research.google.com/assets/colab-badge.svg\" alt=\"Open In Colab\"/></a>"
      ]
    },
    {
      "cell_type": "markdown",
      "source": [
        "# **Treinameto e Avaliação do Modelo _AlexNet_**\n",
        "\n",
        "---\n",
        "\n",
        "## **Classificação de Pneumonia em Radiografia do Tórax Utilizando Redes Neurais Convolucionais**\n",
        "\n",
        "---\n",
        "\n",
        "#### Autor: Henrique Hundsdorfer Vedoveli\n",
        "\n",
        "#### Orientador: Prof. Dr. Anuar José Mincache\n",
        "\n",
        "#### Coorientador: Prof. Dr. Breno Ferraz de Oliveira"
      ],
      "metadata": {
        "id": "Xq2jdYy06UqC"
      }
    },
    {
      "cell_type": "markdown",
      "source": [
        "---\n",
        "# Bibliotecas Necessárias\n",
        "---"
      ],
      "metadata": {
        "id": "2N0sbGe46Xq4"
      }
    },
    {
      "cell_type": "code",
      "metadata": {
        "id": "HUBFQNZ4A6x3",
        "colab": {
          "base_uri": "https://localhost:8080/"
        },
        "outputId": "bec025d2-06ae-42bf-fbcb-3110fa585092"
      },
      "source": [
        "from google.colab import drive\n",
        "drive.mount('/content/drive')\n",
        " \n",
        "import numpy as np\n",
        "import pandas as pd\n",
        "import seaborn as sns\n",
        "import matplotlib.pyplot as plt\n",
        "from sklearn import model_selection, metrics\n",
        "from sklearn.metrics import *\n",
        " \n",
        "import tensorflow as tf\n",
        "from tensorflow import keras\n",
        "from keras.layers import Convolution2D, MaxPooling2D, Flatten, Dense, BatchNormalization, Dropout, Input\n",
        " \n",
        "# keras models\n",
        "from keras.models import Sequential, Model, load_model\n",
        "from tensorflow.keras.optimizers import Adam\n",
        "from keras.callbacks import ModelCheckpoint, EarlyStopping#\n",
        "\n",
        "from keras.preprocessing.image import ImageDataGenerator\n",
        "from keras.preprocessing import image  \n",
        " \n",
        "########################################################################################\n",
        "import warnings\n",
        "warnings.filterwarnings(\"ignore\")\n",
        "\n",
        "pd.set_option('display.float_format', lambda x: '%.3f' % x)\n",
        "\n",
        "np.random.seed(7)\n",
        " \n",
        "import os\n",
        " \n",
        "%matplotlib inline"
      ],
      "execution_count": null,
      "outputs": [
        {
          "output_type": "stream",
          "name": "stdout",
          "text": [
            "Mounted at /content/drive\n"
          ]
        }
      ]
    },
    {
      "cell_type": "markdown",
      "source": [
        "---\n",
        "## Local onde as imagens estão armazenadas\n",
        "---"
      ],
      "metadata": {
        "id": "jFPr_WJ16imB"
      }
    },
    {
      "cell_type": "code",
      "metadata": {
        "id": "pkVJK5TiFY0b"
      },
      "source": [
        "TRAIN = '/content/drive/MyDrive/TCC/data/chest_xray/train'\n",
        "TEST = '/content/drive/MyDrive/TCC/data/chest_xray/test'\n",
        "VAL = '/content/drive/MyDrive/TCC/data/chest_xray/val'\n",
        "\n",
        "MODELS = '/content/drive/MyDrive/TCC/MODELS'"
      ],
      "execution_count": null,
      "outputs": []
    },
    {
      "cell_type": "markdown",
      "source": [
        "---\n",
        "\n",
        "# Carregando as imagens e aplicando o _data augmentation_\n",
        "\n",
        "----\n",
        "\n",
        "## Parâmetros utilizados para o _data augmentation_\n",
        "\n",
        "|                        Distorção                       |  Parâmetro |\n",
        "|:------------------------------------------------------:|:----------:|\n",
        "|           Alteração na Escala _(Zoom Range)_           | 0.9 a 1,25 |\n",
        "|           Faixa de Rotação _(Rotation Range)_          |     10°    |\n",
        "| Faixa de Deslocamento Horizontal _(Width Shift Range)_ |     0.1    |\n",
        "|  Faixa de Deslocamento Vertical _(Height Shift Range)_ |     0.1    |\n",
        "|           Modo de Preenchimento _(Fill Mode)_          |  Constante |\n",
        "|                          Cval                          |      0     |"
      ],
      "metadata": {
        "id": "RGfxPTN16jjg"
      }
    },
    {
      "cell_type": "code",
      "metadata": {
        "id": "8d3yq8eRFaUj",
        "colab": {
          "base_uri": "https://localhost:8080/"
        },
        "outputId": "a677c2fd-3b4b-48b7-fa18-541785357600"
      },
      "source": [
        "trainData = ImageDataGenerator(zoom_range = [0.9, 1.25], \n",
        "                                        rotation_range = 10,\n",
        "                                        vertical_flip = True,\n",
        "                                        horizontal_flip = False, \n",
        "                                        width_shift_range = 0.1, \n",
        "                                        height_shift_range = 0.1,\n",
        "                                        fill_mode='constant', \n",
        "                                        cval=0)\n",
        "\n",
        "trainData = trainData.flow_from_directory(directory=TRAIN,\n",
        "                                       batch_size = 32,\n",
        "                                       target_size=(224,224),\n",
        "                                       color_mode = 'grayscale',\n",
        "                                      )\n",
        "\n",
        "valData = ImageDataGenerator()\n",
        "valData = valData.flow_from_directory(\n",
        "        VAL,\n",
        "        target_size = (224,224),\n",
        "        batch_size = 32,\n",
        "        color_mode = 'grayscale'\n",
        "        )\n",
        "\n",
        "testData = ImageDataGenerator()\n",
        "testData = testData.flow_from_directory(directory=TEST,\n",
        "                                      batch_size = 32,\n",
        "                                      target_size=(224,224),\n",
        "                                      color_mode = 'grayscale')"
      ],
      "execution_count": null,
      "outputs": [
        {
          "output_type": "stream",
          "name": "stdout",
          "text": [
            "Found 5082 images belonging to 3 classes.\n",
            "Found 150 images belonging to 3 classes.\n",
            "Found 624 images belonging to 3 classes.\n"
          ]
        }
      ]
    },
    {
      "cell_type": "markdown",
      "source": [
        "---\n",
        "# Encontrando os pesos de cada classe.\n",
        "---"
      ],
      "metadata": {
        "id": "ZxO4Jlho6ofw"
      }
    },
    {
      "cell_type": "code",
      "metadata": {
        "colab": {
          "base_uri": "https://localhost:8080/"
        },
        "id": "gEraFnoG9z1f",
        "outputId": "9fe6b1df-a219-44e4-9ea6-a777f9789892"
      },
      "source": [
        "normalLength = len(os.listdir(TRAIN + '/' + 'NORMAL'))\n",
        "bacterialLength = len(os.listdir(TRAIN + '/' + 'BACTERIAL'))\n",
        "viralLength = len(os.listdir(TRAIN + '/' + 'VIRAL'))\n",
        "dataLength = normalLength + bacterialLength +  viralLength\n",
        "\n",
        "print('Qtd dados de treino: ', dataLength)\n",
        "print('Qtd dados de pulmão saudavel para treino: ', normalLength)\n",
        "print('Qtd dados Bacterial', bacterialLength)\n",
        "print('Qtd dados Viral', viralLength)\n",
        "\n",
        "class_weight = {0: 1., # bacterial\n",
        "                1: bacterialLength / normalLength, #normal \n",
        "                2: bacterialLength / viralLength} # viral "
      ],
      "execution_count": null,
      "outputs": [
        {
          "output_type": "stream",
          "name": "stdout",
          "text": [
            "Qtd dados de treino:  5082\n",
            "Qtd dados de pulmão saudavel para treino:  1299\n",
            "Qtd dados Bacterial 2488\n",
            "Qtd dados Viral 1295\n"
          ]
        }
      ]
    },
    {
      "cell_type": "code",
      "metadata": {
        "id": "hGGM-CcKirF1"
      },
      "source": [
        "def generateImages(paths):\n",
        "    '''\n",
        "    params: paths ->\n",
        "    '''\n",
        "    test_images=[]\n",
        "    interpret= trainData.class_indices\n",
        "    test_y=[]\n",
        "    \n",
        "    for path in paths:\n",
        "        y=''\n",
        "        if 'NORMAL' in path:\n",
        "            y='NORMAL'\n",
        "        elif 'VIRAL' in path:   \n",
        "            y='VIRAL'\n",
        "        elif 'BACTERIAL' in path:   \n",
        "            y='BACTERIAL'   \n",
        "        \n",
        "        for image_path in os.listdir(path):\n",
        "            new_path=os.path.join(TEST, y)\n",
        "            new_path=os.path.join(new_path,image_path)\n",
        "\n",
        "            temp_images=image.load_img(new_path,\n",
        "                                       color_mode = 'grayscale',\n",
        "                                       target_size=(224,224)) \n",
        "            temp_images=image.img_to_array(temp_images)\n",
        "            test_images.append(temp_images)\n",
        "            test_y.append(interpret[y])\n",
        "\n",
        "    return test_images,test_y"
      ],
      "execution_count": null,
      "outputs": []
    },
    {
      "cell_type": "code",
      "metadata": {
        "id": "T6wh1GZl93M3"
      },
      "source": [
        "def convertData(model, path, prob = 0):\n",
        "    '''\n",
        "    params: model ->\n",
        "            path ->\n",
        "            prob ->\n",
        "    '''\n",
        "    all_paths=[]\n",
        "    print(\"• GERANDO PATHS\")\n",
        "\n",
        "    for directory in os.listdir(path):\n",
        "        all_paths.append(os.path.join(path,directory))\n",
        "    \n",
        "    test_images, test_y= generateImages(all_paths)\n",
        "\n",
        "    test_images=np.array(test_images)\n",
        "\n",
        "    print(\"• GERANDO PREVISÕES\")\n",
        "    if prob == 0:\n",
        "        predictions = np.argmax(model.predict(test_images), axis=1)\n",
        "    else:\n",
        "        predictions = model.predict_on_batch(test_images)\n",
        "\n",
        "    print(\"ACURACIA DO MODELO PARA OS DADOS DE TESTE: {}\".format( metrics.accuracy_score(test_y, predictions)))\n",
        "\n",
        "    return test_y, predictions, test_images"
      ],
      "execution_count": null,
      "outputs": []
    },
    {
      "cell_type": "markdown",
      "source": [
        "---\n",
        "# Definindo o Modelo\n",
        "---"
      ],
      "metadata": {
        "id": "EWSGdbkP6wOa"
      }
    },
    {
      "cell_type": "code",
      "metadata": {
        "id": "iDdjyXqA95wR"
      },
      "source": [
        "modelINCEP = tf.keras.applications.InceptionV3(input_shape=(224, 224, 1),include_top=False, weights=None)\n",
        "\n",
        "units = 990\n",
        "lr = 1e-5\n",
        "\n",
        "modelINCEP = tf.keras.Sequential([\n",
        "        modelINCEP,\n",
        "        tf.keras.layers.Flatten(),\n",
        "        tf.keras.layers.Dense(3,activation=tf.nn.softmax)\n",
        "        ])\n",
        "\n",
        "\n",
        "modelINCEP.compile(loss='categorical_crossentropy', \n",
        "                     optimizer=keras.optimizers.Adam(learning_rate=lr),\n",
        "                     metrics = ['accuracy'])"
      ],
      "execution_count": null,
      "outputs": []
    },
    {
      "cell_type": "code",
      "source": [
        "modelINCEP.summary()"
      ],
      "metadata": {
        "colab": {
          "base_uri": "https://localhost:8080/"
        },
        "id": "vj1YM9Xj9-in",
        "outputId": "91049304-b304-4d56-ecb7-f9728adf712a"
      },
      "execution_count": null,
      "outputs": [
        {
          "output_type": "stream",
          "name": "stdout",
          "text": [
            "Model: \"sequential\"\n",
            "_________________________________________________________________\n",
            " Layer (type)                Output Shape              Param #   \n",
            "=================================================================\n",
            " inception_v3 (Functional)   (None, 5, 5, 2048)        21802208  \n",
            "                                                                 \n",
            " flatten (Flatten)           (None, 51200)             0         \n",
            "                                                                 \n",
            " dense (Dense)               (None, 3)                 153603    \n",
            "                                                                 \n",
            "=================================================================\n",
            "Total params: 21,955,811\n",
            "Trainable params: 21,921,379\n",
            "Non-trainable params: 34,432\n",
            "_________________________________________________________________\n"
          ]
        }
      ]
    },
    {
      "cell_type": "markdown",
      "source": [
        "---\n",
        "# Otimização do Modelo\n",
        "---\n"
      ],
      "metadata": {
        "id": "SyJBYfIf61kR"
      }
    },
    {
      "cell_type": "code",
      "metadata": {
        "id": "diCh4smk9-7v"
      },
      "source": [
        "hist = modelINCEP.fit_generator(steps_per_epoch= trainData.n//32,\n",
        "                           generator=trainData, \n",
        "                           validation_data= valData,\n",
        "                           validation_steps=valData.n//32,\n",
        "                           epochs=50,\n",
        "                           class_weight = class_weight)"
      ],
      "execution_count": null,
      "outputs": []
    },
    {
      "cell_type": "code",
      "metadata": {
        "colab": {
          "base_uri": "https://localhost:8080/",
          "height": 17
        },
        "id": "ScYFgJxgpeTl",
        "outputId": "cd5a9960-0361-4267-8552-53051454bc87"
      },
      "source": [
        "temp = pd.DataFrame([hist.history['accuracy'], hist.history['val_accuracy'], hist.history['loss'], hist.history['val_loss']])\n",
        "\n",
        "histT = temp.T\n",
        "histT.columns = ['acc', 'val_acc', 'loss', 'val_loss']\n",
        "\n",
        "from google.colab import files\n",
        "numEpoch = 50\n",
        "histT.to_csv(f'histTreinoINCEPTION{numEpoch}.csv')\n",
        "files.download(f'histTreinoINCEPTION{numEpoch}.csv')\n"
      ],
      "execution_count": null,
      "outputs": [
        {
          "output_type": "display_data",
          "data": {
            "application/javascript": [
              "\n",
              "    async function download(id, filename, size) {\n",
              "      if (!google.colab.kernel.accessAllowed) {\n",
              "        return;\n",
              "      }\n",
              "      const div = document.createElement('div');\n",
              "      const label = document.createElement('label');\n",
              "      label.textContent = `Downloading \"${filename}\": `;\n",
              "      div.appendChild(label);\n",
              "      const progress = document.createElement('progress');\n",
              "      progress.max = size;\n",
              "      div.appendChild(progress);\n",
              "      document.body.appendChild(div);\n",
              "\n",
              "      const buffers = [];\n",
              "      let downloaded = 0;\n",
              "\n",
              "      const channel = await google.colab.kernel.comms.open(id);\n",
              "      // Send a message to notify the kernel that we're ready.\n",
              "      channel.send({})\n",
              "\n",
              "      for await (const message of channel.messages) {\n",
              "        // Send a message to notify the kernel that we're ready.\n",
              "        channel.send({})\n",
              "        if (message.buffers) {\n",
              "          for (const buffer of message.buffers) {\n",
              "            buffers.push(buffer);\n",
              "            downloaded += buffer.byteLength;\n",
              "            progress.value = downloaded;\n",
              "          }\n",
              "        }\n",
              "      }\n",
              "      const blob = new Blob(buffers, {type: 'application/binary'});\n",
              "      const a = document.createElement('a');\n",
              "      a.href = window.URL.createObjectURL(blob);\n",
              "      a.download = filename;\n",
              "      div.appendChild(a);\n",
              "      a.click();\n",
              "      div.remove();\n",
              "    }\n",
              "  "
            ],
            "text/plain": [
              "<IPython.core.display.Javascript object>"
            ]
          },
          "metadata": {}
        },
        {
          "output_type": "display_data",
          "data": {
            "application/javascript": [
              "download(\"download_3885291c-f08a-418d-8b5d-f39c8f72ed85\", \"histTreinoINCEPTION50.csv\", 3452)"
            ],
            "text/plain": [
              "<IPython.core.display.Javascript object>"
            ]
          },
          "metadata": {}
        }
      ]
    },
    {
      "cell_type": "code",
      "metadata": {
        "colab": {
          "base_uri": "https://localhost:8080/",
          "height": 17
        },
        "id": "feqIAe1Ipe1a",
        "outputId": "d336b0aa-d57e-46e4-d331-b3ada0866a01"
      },
      "source": [
        "temp = pd.DataFrame([hist.history['accuracy'], hist.history['val_accuracy'], hist.history['loss'], hist.history['val_loss']])\n",
        "\n",
        "tempT = temp.T\n",
        "tempT.columns = ['acc', 'val_acc', 'loss', 'val_loss']\n",
        "\n",
        "histTreinoatg = pd.read_csv('histTreinoINCEPTION50.csv')\n",
        "histTreinoatg = histTreinoatg[['acc', 'val_acc', 'loss', 'val_loss']]\n",
        "histT = histTreinoatg.append(tempT)\n",
        "histT = histT.reset_index(drop=True)\n",
        "\n",
        "from google.colab import files\n",
        "numEpoch =100\n",
        "histT.to_csv(f'histTreinoINCEPTION{numEpoch}.csv')\n",
        "files.download(f'histTreinoINCEPTION{numEpoch}.csv')\n"
      ],
      "execution_count": null,
      "outputs": [
        {
          "output_type": "display_data",
          "data": {
            "application/javascript": [
              "\n",
              "    async function download(id, filename, size) {\n",
              "      if (!google.colab.kernel.accessAllowed) {\n",
              "        return;\n",
              "      }\n",
              "      const div = document.createElement('div');\n",
              "      const label = document.createElement('label');\n",
              "      label.textContent = `Downloading \"${filename}\": `;\n",
              "      div.appendChild(label);\n",
              "      const progress = document.createElement('progress');\n",
              "      progress.max = size;\n",
              "      div.appendChild(progress);\n",
              "      document.body.appendChild(div);\n",
              "\n",
              "      const buffers = [];\n",
              "      let downloaded = 0;\n",
              "\n",
              "      const channel = await google.colab.kernel.comms.open(id);\n",
              "      // Send a message to notify the kernel that we're ready.\n",
              "      channel.send({})\n",
              "\n",
              "      for await (const message of channel.messages) {\n",
              "        // Send a message to notify the kernel that we're ready.\n",
              "        channel.send({})\n",
              "        if (message.buffers) {\n",
              "          for (const buffer of message.buffers) {\n",
              "            buffers.push(buffer);\n",
              "            downloaded += buffer.byteLength;\n",
              "            progress.value = downloaded;\n",
              "          }\n",
              "        }\n",
              "      }\n",
              "      const blob = new Blob(buffers, {type: 'application/binary'});\n",
              "      const a = document.createElement('a');\n",
              "      a.href = window.URL.createObjectURL(blob);\n",
              "      a.download = filename;\n",
              "      div.appendChild(a);\n",
              "      a.click();\n",
              "      div.remove();\n",
              "    }\n",
              "  "
            ],
            "text/plain": [
              "<IPython.core.display.Javascript object>"
            ]
          },
          "metadata": {}
        },
        {
          "output_type": "display_data",
          "data": {
            "application/javascript": [
              "download(\"download_0e5391fe-e1d6-48e7-ba28-dd8c04557a2a\", \"histTreinoINCEPTION100.csv\", 6888)"
            ],
            "text/plain": [
              "<IPython.core.display.Javascript object>"
            ]
          },
          "metadata": {}
        }
      ]
    },
    {
      "cell_type": "code",
      "source": [
        "histT = pd.read_csv('histTreinoINCEPTION100.csv')"
      ],
      "metadata": {
        "id": "kIc6fiuDHVuM"
      },
      "execution_count": null,
      "outputs": []
    },
    {
      "cell_type": "code",
      "metadata": {
        "colab": {
          "base_uri": "https://localhost:8080/",
          "height": 382
        },
        "id": "yjP3iPz-pfW7",
        "outputId": "19a45e03-39ca-4f41-8d41-0fe8556b94b6"
      },
      "source": [
        "fig, axs = plt.subplots(1,2)\n",
        "fig.set_figheight(5)\n",
        "fig.set_figwidth(15)\n",
        "\n",
        "axs[0].plot(histT.index + 1, histT['acc'])\n",
        "axs[0].plot(histT.index + 1, histT['val_acc'], '--')\n",
        "axs[0].set_title('(a)', size = 24)\n",
        "axs[0].set_xlabel(\"EPOCAS\", size = 16)\n",
        "axs[0].set_ylabel(\"ACURÁCIA\", size =16)\n",
        "axs[0].set_yticks([0.3,0.4,0.5,0.6,0.7,0.8,0.9,1])\n",
        "axs[0].set_xticks([1,10,20,30,40,50,60,70,80,90,100])\n",
        "axs[0].legend(['ACURACIA TREINO', 'ACURACIA VALIDACAO'])\n",
        "axs[0].grid(True)\n",
        "\n",
        "\n",
        "axs[1].plot(histT.index + 1, histT['loss'])\n",
        "axs[1].plot(histT.index + 1, histT['val_loss'], '--')\n",
        "axs[1].set_title('(b)', size = 24)\n",
        "axs[1].set_xlabel(\"EPOCAS\", size =16)\n",
        "axs[1].set_ylabel(\"CUSTO\", size =16)\n",
        "axs[1].legend(['CUSTO TREINO', 'CUSTO VALIDACAO'])\n",
        "# axs[1].set_yticks([1.8,1.6,1.4,1.2,1,.8,.6,.4,.2,0])\n",
        "axs[1].set_xticks([1,10,20,30,40,50,60,70,80,90,100])\n",
        "axs[1].grid(True)\n",
        "\n",
        "plt.plot()"
      ],
      "execution_count": null,
      "outputs": [
        {
          "output_type": "execute_result",
          "data": {
            "text/plain": [
              "[]"
            ]
          },
          "metadata": {},
          "execution_count": 6
        },
        {
          "output_type": "display_data",
          "data": {
            "image/png": "[encoded data removed]",
            "text/plain": [
              "<Figure size 1080x360 with 2 Axes>"
            ]
          },
          "metadata": {
            "needs_background": "light"
          }
        }
      ]
    },
    {
      "cell_type": "markdown",
      "source": [
        "---\n",
        "# Salvando o Modelo\n",
        "---"
      ],
      "metadata": {
        "id": "wptMh9wb64xw"
      }
    },
    {
      "cell_type": "code",
      "metadata": {
        "colab": {
          "base_uri": "https://localhost:8080/"
        },
        "id": "33RLa_q4pfp4",
        "outputId": "b5681df7-ce61-4d99-a7f8-ceb415e388b2"
      },
      "source": [
        "modelINCEP.save('/content/drive/MyDrive/TCC/MODELS/INCEPTIONMODEL')"
      ],
      "execution_count": null,
      "outputs": [
        {
          "output_type": "stream",
          "name": "stdout",
          "text": [
            "INFO:tensorflow:Assets written to: /content/drive/MyDrive/TCC/MODELS/INCEPTIONMODEL/assets\n"
          ]
        }
      ]
    },
    {
      "cell_type": "code",
      "metadata": {
        "id": "CijsGQJRppf7"
      },
      "source": [
        "# modelINCEP = keras.models.load_model('/content/drive/MyDrive/TCC/MODELS/INCEPTIONMODEL')"
      ],
      "execution_count": null,
      "outputs": []
    },
    {
      "cell_type": "markdown",
      "source": [
        "---\n",
        "# Avaliação do Modelo\n",
        "---"
      ],
      "metadata": {
        "id": "vwozZDYk6-IK"
      }
    },
    {
      "cell_type": "code",
      "metadata": {
        "id": "NwOZeasSptAs",
        "colab": {
          "base_uri": "https://localhost:8080/",
          "height": 554
        },
        "outputId": "c1174094-242d-4616-8c26-c0378e287b60"
      },
      "source": [
        "test_y, pred, test_images = convertData(modelINCEP, TEST, 0)\n",
        "\n",
        "matrix = metrics.confusion_matrix(test_y, pred)\n",
        "\n",
        "labels = ['Bacteriana' , 'Normal', 'Viral']\n",
        "\n",
        "df_cm = pd.DataFrame(matrix, index = [i for i in \"012\"],\n",
        "                  columns = [i for i in \"012\"])\n",
        "\n",
        "df_cm.index = labels\n",
        "df_cm.columns = labels\n",
        "\n",
        "plt.figure(figsize = (10,7))\n",
        "ax = sns.heatmap(df_cm, annot=True, fmt='g')\n",
        "ax.set_title(\"Matriz de confusão para os dados de teste\\n\", size = 24)\n",
        "ax"
      ],
      "execution_count": null,
      "outputs": [
        {
          "output_type": "stream",
          "name": "stdout",
          "text": [
            "• GERANDO PATHS\n",
            "• GERANDO PREVISÕES\n",
            "ACURACIA DO MODELO PARA OS DADOS DE TESTE: 0.844551282051282\n"
          ]
        },
        {
          "output_type": "execute_result",
          "data": {
            "text/plain": [
              "<matplotlib.axes._subplots.AxesSubplot at 0x7fe93d576f50>"
            ]
          },
          "metadata": {},
          "execution_count": 20
        },
        {
          "output_type": "display_data",
          "data": {
            "image/png": "[encoded data removed]",
            "text/plain": [
              "<Figure size 720x504 with 2 Axes>"
            ]
          },
          "metadata": {
            "needs_background": "light"
          }
        }
      ]
    },
    {
      "cell_type": "code",
      "metadata": {
        "colab": {
          "base_uri": "https://localhost:8080/",
          "height": 143
        },
        "id": "PNZDl883XFfQ",
        "outputId": "ca37020b-d6ef-433a-c706-a68f46fb0c61"
      },
      "source": [
        "f1 = f1_score(test_y, pred, average= None)\n",
        "recall = recall_score(test_y, pred, average= None)\n",
        "precision = precision_score(test_y, pred, average= None)\n",
        "\n",
        "metricas = pd.DataFrame([recall, precision, f1], columns=['Bacteriana' , 'Normal', 'Viral'], index = ['Recall', 'Precision','F1-Score']).T\n",
        "metricas"
      ],
      "execution_count": null,
      "outputs": [
        {
          "output_type": "execute_result",
          "data": {
            "text/html": [
              "<div>\n",
              "<style scoped>\n",
              "    .dataframe tbody tr th:only-of-type {\n",
              "        vertical-align: middle;\n",
              "    }\n",
              "\n",
              "    .dataframe tbody tr th {\n",
              "        vertical-align: top;\n",
              "    }\n",
              "\n",
              "    .dataframe thead th {\n",
              "        text-align: right;\n",
              "    }\n",
              "</style>\n",
              "<table border=\"1\" class=\"dataframe\">\n",
              "  <thead>\n",
              "    <tr style=\"text-align: right;\">\n",
              "      <th></th>\n",
              "      <th>Recall</th>\n",
              "      <th>Precision</th>\n",
              "      <th>F1-Score</th>\n",
              "    </tr>\n",
              "  </thead>\n",
              "  <tbody>\n",
              "    <tr>\n",
              "      <th>Bacteriana</th>\n",
              "      <td>0.888</td>\n",
              "      <td>0.837</td>\n",
              "      <td>0.862</td>\n",
              "    </tr>\n",
              "    <tr>\n",
              "      <th>Normal</th>\n",
              "      <td>0.910</td>\n",
              "      <td>0.855</td>\n",
              "      <td>0.882</td>\n",
              "    </tr>\n",
              "    <tr>\n",
              "      <th>Viral</th>\n",
              "      <td>0.669</td>\n",
              "      <td>0.839</td>\n",
              "      <td>0.744</td>\n",
              "    </tr>\n",
              "  </tbody>\n",
              "</table>\n",
              "</div>"
            ],
            "text/plain": [
              "            Recall  Precision  F1-Score\n",
              "Bacteriana   0.888      0.837     0.862\n",
              "Normal       0.910      0.855     0.882\n",
              "Viral        0.669      0.839     0.744"
            ]
          },
          "metadata": {},
          "execution_count": 21
        }
      ]
    },
    {
      "cell_type": "code",
      "metadata": {
        "id": "4Wq_5TlJXLLA"
      },
      "source": [
        "testBin = test_y\n",
        "predBin = pred\n",
        "\n",
        "i = 0\n",
        "while i < len(pred):\n",
        "    if predBin[i] == 0:\n",
        "        predBin[i] = 3\n",
        "    elif predBin[i] == 2:\n",
        "        predBin[i] = 3\n",
        "\n",
        "    i += 1\n",
        "\n",
        "k = 0\n",
        "while k < len(test_y):\n",
        "    if testBin[k] == 0:\n",
        "        testBin[k] = 3\n",
        "    elif testBin[k] == 2:\n",
        "        testBin[k] = 3\n",
        "\n",
        "    k += 1"
      ],
      "execution_count": null,
      "outputs": []
    },
    {
      "cell_type": "code",
      "metadata": {
        "colab": {
          "base_uri": "https://localhost:8080/",
          "height": 499
        },
        "id": "_get0GtBXNHg",
        "outputId": "6768d308-f5fe-4d63-a716-b6400eb2d1b6"
      },
      "source": [
        "matrix = metrics.confusion_matrix(testBin, predBin)\n",
        "\n",
        "# labels = \n",
        "labels = ['Normal' , 'Pneumonia']\n",
        "\n",
        "df_cm = pd.DataFrame(matrix, index = [i for i in \"01\"],\n",
        "                  columns = [i for i in \"01\"])\n",
        "\n",
        "df_cm.index = labels\n",
        "df_cm.columns = labels\n",
        "\n",
        "plt.figure(figsize = (10,7))\n",
        "ax = sns.heatmap(df_cm, annot=True, fmt='g')\n",
        "ax.set_title(\"Matriz de confusão para os dados de teste\\n\", size = 24)\n",
        "ax"
      ],
      "execution_count": null,
      "outputs": [
        {
          "output_type": "execute_result",
          "data": {
            "text/plain": [
              "<matplotlib.axes._subplots.AxesSubplot at 0x7fe93d621750>"
            ]
          },
          "metadata": {},
          "execution_count": 23
        },
        {
          "output_type": "display_data",
          "data": {
            "image/png": "[encoded data removed]",
            "text/plain": [
              "<Figure size 720x504 with 2 Axes>"
            ]
          },
          "metadata": {
            "needs_background": "light"
          }
        }
      ]
    },
    {
      "cell_type": "code",
      "metadata": {
        "colab": {
          "base_uri": "https://localhost:8080/",
          "height": 130
        },
        "id": "pm2tiy-1XPfA",
        "outputId": "7af2d864-5b91-4077-c301-85e90f432c40"
      },
      "source": [
        "f1 = f1_score(testBin, predBin, average= None)\n",
        "recall = recall_score(testBin, predBin, average= None)\n",
        "precision = precision_score(testBin, predBin, average= None)\n",
        "acc = accuracy_score(testBin, predBin)\n",
        "\n",
        "print('ACC:', acc)\n",
        "\n",
        "metricas = pd.DataFrame([recall, precision, f1], columns=['Normal' , 'Pneumonia'], index = ['Recall', 'Precision','F1-Score']).T\n",
        "metricas\n"
      ],
      "execution_count": null,
      "outputs": [
        {
          "output_type": "stream",
          "name": "stdout",
          "text": [
            "ACC: 0.9086538461538461\n"
          ]
        },
        {
          "output_type": "execute_result",
          "data": {
            "text/html": [
              "<div>\n",
              "<style scoped>\n",
              "    .dataframe tbody tr th:only-of-type {\n",
              "        vertical-align: middle;\n",
              "    }\n",
              "\n",
              "    .dataframe tbody tr th {\n",
              "        vertical-align: top;\n",
              "    }\n",
              "\n",
              "    .dataframe thead th {\n",
              "        text-align: right;\n",
              "    }\n",
              "</style>\n",
              "<table border=\"1\" class=\"dataframe\">\n",
              "  <thead>\n",
              "    <tr style=\"text-align: right;\">\n",
              "      <th></th>\n",
              "      <th>Recall</th>\n",
              "      <th>Precision</th>\n",
              "      <th>F1-Score</th>\n",
              "    </tr>\n",
              "  </thead>\n",
              "  <tbody>\n",
              "    <tr>\n",
              "      <th>Normal</th>\n",
              "      <td>0.910</td>\n",
              "      <td>0.855</td>\n",
              "      <td>0.882</td>\n",
              "    </tr>\n",
              "    <tr>\n",
              "      <th>Pneumonia</th>\n",
              "      <td>0.908</td>\n",
              "      <td>0.944</td>\n",
              "      <td>0.925</td>\n",
              "    </tr>\n",
              "  </tbody>\n",
              "</table>\n",
              "</div>"
            ],
            "text/plain": [
              "           Recall  Precision  F1-Score\n",
              "Normal      0.910      0.855     0.882\n",
              "Pneumonia   0.908      0.944     0.925"
            ]
          },
          "metadata": {},
          "execution_count": 24
        }
      ]
    }
  ]
}